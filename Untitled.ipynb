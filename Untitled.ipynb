{
 "cells": [
  {
   "cell_type": "code",
   "execution_count": 14,
   "id": "60b6eec1",
   "metadata": {},
   "outputs": [
    {
     "name": "stdout",
     "output_type": "stream",
     "text": [
      "{'AAA9', 'A9AA', 'B444', 'AAA3', '2A22', 'DD0D', 'C7CC', '8DDD', '44AA', 'D3DD', '6CCC', '2BBB', '0D00', '3D33', '77DD', '9DDD', '3C33', '000B', 'C3CC', '5B55', '11CC', '888D', 'C999', 'BB5B', '7AAA', 'A111', 'C5CC', '2CCC', 'D2DD', '8B88', 'C000', 'DDD2', '999C', '33BB', 'DD1D', 'CC6C', 'DDD0', '6DDD', '88DD', 'CC3C', '55AA', '999D', 'C6CC', '6D66', '7C77', 'CCC4', '11AA', '555A', '3BBB', 'D6DD', '5A55', 'AAA4', 'B9BB', 'D1DD', 'D222', '888A', '44CC', '5C55', 'C666', 'BB3B', '0CCC', 'A2AA', '000C', 'DDD5', '111C', 'C444', 'CCC5', '6BBB', '3B33', 'C222', '2B22', 'DD8D', '3DDD', '88CC', 'DDD9', '2AAA', '1B11', 'CC4C', '8A88', '777A', '66BB', 'D999', 'B7BB', 'B8BB', 'CCC6', '0C00', '1BBB', '5BBB', 'BBB3', '8BBB', 'BB2B', 'BB6B', 'C1CC', 'A0AA', '000A', '99AA', 'B555', 'C2CC', 'A222', 'BBB2', 'B1BB', '5AAA', 'DD4D', 'DDD4', '222D', 'C777', 'BBB0', 'CC2C', 'CC1C', '66AA', 'B000', 'DDD8', 'DD9D', 'BBB7', 'CCC7', '4A44', 'DDD6', '3AAA', '2D22', '0BBB', '1A11', 'D555', 'AA7A', 'DD5D', '7DDD', 'D0DD', '7BBB', 'D111', '9CCC', 'B2BB', '33CC', '666A', '999B', '22CC', '7D77', 'D7DD', 'AAA2', '8C88', '333A', 'AAA5', 'A8AA', 'C9CC', '888B', '777B', 'AA8A', 'CCC8', '0A00', 'A999', '222A', '666D', '000D', 'D444', '333D', '4DDD', 'B111', 'B222', 'AA5A', '1DDD', '333B', 'A6AA', '9C99', 'BB9B', '11DD', '9D99', 'AAA6', 'AA0A', 'A5AA', 'C333', '2DDD', 'DD3D', '222B', 'AA4A', 'BB7B', 'A333', '11BB', 'BB8B', '9BBB', 'CC8C', '77BB', 'AAA0', 'B777', '33DD', '88AA', '1CCC', '555B', 'C555', 'A3AA', 'D4DD', '777D', 'D333', 'D666', '444B', 'DDD3', 'B888', '0B00', 'AA9A', 'B5BB', '0DDD', 'CCC2', '6AAA', 'DDD7', 'A666', 'CCC0', 'D5DD', '4C44', 'AAA7', '99BB', '22DD', 'CC9C', '222C', 'BB0B', '55CC', '88BB', '7CCC', 'CCC1', '111A', 'D8DD', 'CC0C', 'B6BB', 'DD7D', '44BB', '5DDD', 'BBB6', 'D000', 'B666', 'AA3A', '2C22', '3A33', '4AAA', 'D777', 'C111', 'A4AA', 'A7AA', '666B', '77CC', '00CC', 'A1AA', '00AA', 'AA1A', '00BB', '99CC', '44DD', 'DDD1', 'CC5C', '666C', '444A', '4CCC', 'A888', '555D', '555C', 'C888', '9A99', 'C4CC', '9AAA', '4BBB', '333C', 'AA2A', 'BBB1', '33AA', '8D88', 'BBB5', '3CCC', 'BB4B', 'B999', '99DD', '111D', '77AA', '55BB', '8CCC', '6A66', '999A', '0AAA', 'C8CC', '55DD', '9B99', 'B0BB', '1D11', 'BB1B', 'AAA8', 'B3BB', 'BBB8', '8AAA', '5CCC', 'A000', '1AAA', 'CCC3', 'B4BB', '888C', '7B77', '5D55', 'AAA1', '7A77', '00DD', '4B44', 'D9DD', 'DD6D', 'AA6A', '6B66', '22BB', 'DD2D', '22AA', 'BBB4', '66DD', 'CC7C', 'BBB9', '444C', 'A777', 'D888', 'B333', '1C11', '777C', 'A555', 'A444', 'C0CC', '111B', 'CCC9', '66CC', '6C66', '444D', '4D44'}\n"
     ]
    }
   ],
   "source": [
    "numbers = ['0', '1', '2', '3', '4', '5', '6', '7', '8', '9']\n",
    "letters = ['A', 'B', 'C']\n",
    "letters += ['D']  # Utilizamos el operador de adición para agregar 'D' a la lista\n",
    "unique_combinations = set()\n",
    "\n",
    "for number in numbers:\n",
    "    for letter in letters:\n",
    "        unique_combinations.add(\"{}{}{}{}\".format(number, number, number,letter))\n",
    "        unique_combinations.add(\"{}{}{}{}\".format(number, number, letter, letter))\n",
    "        unique_combinations.add(\"{}{}{}{}\".format(number, letter, number, number))\n",
    "        unique_combinations.add(\"{}{}{}{}\".format(number, letter, letter,letter))\n",
    "        unique_combinations.add(\"{}{}{}{}\".format(letter, number, number, number))\n",
    "        unique_combinations.add(\"{}{}{}{}\".format(letter, letter, number,letter))\n",
    "        unique_combinations.add(\"{}{}{}{}\".format(letter, number, letter,letter))\n",
    "        unique_combinations.add(\"{}{}{}{}\".format(letter, letter, letter, number))\n",
    "\n",
    "\n",
    "print(unique_combinations)"
   ]
  }
 ],
 "metadata": {
  "kernelspec": {
   "display_name": "Python 3 (ipykernel)",
   "language": "python",
   "name": "python3"
  },
  "language_info": {
   "codemirror_mode": {
    "name": "ipython",
    "version": 3
   },
   "file_extension": ".py",
   "mimetype": "text/x-python",
   "name": "python",
   "nbconvert_exporter": "python",
   "pygments_lexer": "ipython3",
   "version": "3.11.3"
  }
 },
 "nbformat": 4,
 "nbformat_minor": 5
}
