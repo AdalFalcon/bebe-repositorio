{
 "cells": [
  {
   "cell_type": "markdown",
   "id": "b2c1fb70",
   "metadata": {},
   "source": [
    "# Diferentes formas de crear tuplas"
   ]
  },
  {
   "cell_type": "code",
   "execution_count": 1,
   "id": "2b24d530",
   "metadata": {},
   "outputs": [
    {
     "name": "stdout",
     "output_type": "stream",
     "text": [
      "<class 'tuple'>\n",
      "('Cañitas', 'Parannormal', 222, 34)\n"
     ]
    }
   ],
   "source": [
    "my_tuple = (\"Cañitas\",\"Parannormal\", 222, 34)\n",
    "print (type(my_tuple))\n",
    "print (my_tuple)"
   ]
  },
  {
   "cell_type": "code",
   "execution_count": 2,
   "id": "783e171b",
   "metadata": {},
   "outputs": [
    {
     "name": "stdout",
     "output_type": "stream",
     "text": [
      "<class 'tuple'>\n",
      "('Cañitas', 'Parannormal', 222, 34)\n"
     ]
    }
   ],
   "source": [
    "my_tuple = \"Cañitas\",\"Parannormal\", 222, 34 #puede hacerse sin parentesis\n",
    "print (type(my_tuple))\n",
    "print (my_tuple)"
   ]
  },
  {
   "cell_type": "code",
   "execution_count": 3,
   "id": "a1fcb68a",
   "metadata": {},
   "outputs": [
    {
     "name": "stdout",
     "output_type": "stream",
     "text": [
      "<class 'tuple'>\n",
      "(22, 642, 12, 57)\n"
     ]
    }
   ],
   "source": [
    "my_list = [22,642,12,57] # por conversion\n",
    "my_tuple = (tuple(my_list))\n",
    "print (type(my_tuple))\n",
    "print (my_tuple)"
   ]
  },
  {
   "cell_type": "markdown",
   "id": "f5fe8eb2",
   "metadata": {},
   "source": [
    "# Método SORT"
   ]
  },
  {
   "cell_type": "code",
   "execution_count": 7,
   "id": "0ddb0bbc",
   "metadata": {},
   "outputs": [
    {
     "name": "stdout",
     "output_type": "stream",
     "text": [
      "<class 'tuple'>\n",
      "(22, 642, 12, 57)\n",
      "<class 'list'>\n",
      "[12, 22, 57, 642]\n",
      "<class 'tuple'>\n",
      "(12, 22, 57, 642)\n"
     ]
    }
   ],
   "source": [
    "my_list = (22,642,12,57)\n",
    "my_sorted_tuple = (sorted(my_tuple))\n",
    "my_sorted_tuple_2 =(tuple(sorted(my_tuple)))\n",
    "print (type(my_tuple))\n",
    "print (my_tuple)\n",
    "                   \n",
    "print (type(my_sorted_tuple))\n",
    "print (my_sorted_tuple)\n",
    "\n",
    "print (type(my_sorted_tuple_2))\n",
    "print (my_sorted_tuple_2)"
   ]
  },
  {
   "cell_type": "markdown",
   "id": "a77437da",
   "metadata": {},
   "source": [
    "# Método all en Tuplas"
   ]
  },
  {
   "cell_type": "code",
   "execution_count": 8,
   "id": "980dbd68",
   "metadata": {},
   "outputs": [
    {
     "name": "stdout",
     "output_type": "stream",
     "text": [
      "<class 'tuple'>\n",
      "True\n"
     ]
    }
   ],
   "source": [
    "my_tuple = 3,2,4,8,6,1,9\n",
    "print (type(my_tuple))\n",
    "print (all(my_tuple))"
   ]
  },
  {
   "cell_type": "code",
   "execution_count": 9,
   "id": "71830ffe",
   "metadata": {},
   "outputs": [
    {
     "name": "stdout",
     "output_type": "stream",
     "text": [
      "<class 'tuple'>\n",
      "False\n"
     ]
    }
   ],
   "source": [
    "my_tuple = 3,2,4,8,6,1,9,0\n",
    "print (type(my_tuple))\n",
    "print (all(my_tuple))"
   ]
  },
  {
   "cell_type": "code",
   "execution_count": 10,
   "id": "3d3e722d",
   "metadata": {},
   "outputs": [
    {
     "name": "stdout",
     "output_type": "stream",
     "text": [
      "<class 'tuple'>\n",
      "False\n"
     ]
    }
   ],
   "source": [
    "my_tuple = 3,2,4,8,6,1,\"\"\n",
    "print (type(my_tuple))\n",
    "print (all(my_tuple))"
   ]
  },
  {
   "cell_type": "code",
   "execution_count": 11,
   "id": "f3d91a01",
   "metadata": {},
   "outputs": [
    {
     "name": "stdout",
     "output_type": "stream",
     "text": [
      "<class 'tuple'>\n",
      "True\n"
     ]
    }
   ],
   "source": [
    "my_tuple = 3,2,4,8,6,1,9,0.5\n",
    "print (type(my_tuple))\n",
    "print (all(my_tuple))"
   ]
  },
  {
   "cell_type": "markdown",
   "id": "276cee81",
   "metadata": {},
   "source": [
    "# Método Any en Toplas"
   ]
  },
  {
   "cell_type": "code",
   "execution_count": 12,
   "id": "02695d99",
   "metadata": {},
   "outputs": [
    {
     "name": "stdout",
     "output_type": "stream",
     "text": [
      "<class 'tuple'>\n",
      "True\n"
     ]
    }
   ],
   "source": [
    "my_tuple = 3,2,4,8,6,1,9,0\n",
    "print (type(my_tuple))\n",
    "print (any(my_tuple))"
   ]
  },
  {
   "cell_type": "code",
   "execution_count": 23,
   "id": "0b974ccb",
   "metadata": {},
   "outputs": [
    {
     "name": "stdout",
     "output_type": "stream",
     "text": [
      "<class 'tuple'>\n",
      "False\n"
     ]
    }
   ],
   "source": [
    "my_tuple = 0,0,0,0\n",
    "print (type(my_tuple))\n",
    "print (any(my_tuple))"
   ]
  },
  {
   "cell_type": "code",
   "execution_count": 24,
   "id": "2b244d0b",
   "metadata": {},
   "outputs": [
    {
     "name": "stdout",
     "output_type": "stream",
     "text": [
      "<class 'tuple'>\n",
      "True\n"
     ]
    }
   ],
   "source": [
    "my_tuple = (0,0,0,0,5)\n",
    "print (type(my_tuple))\n",
    "print (any(my_tuple))"
   ]
  },
  {
   "cell_type": "code",
   "execution_count": 25,
   "id": "c807fe61",
   "metadata": {},
   "outputs": [
    {
     "name": "stdout",
     "output_type": "stream",
     "text": [
      "<class 'tuple'>\n",
      "False\n"
     ]
    }
   ],
   "source": [
    "my_tuple = ('','')\n",
    "print (type(my_tuple))\n",
    "print (any(my_tuple))"
   ]
  },
  {
   "cell_type": "code",
   "execution_count": 26,
   "id": "3ae361c2",
   "metadata": {},
   "outputs": [
    {
     "name": "stdout",
     "output_type": "stream",
     "text": [
      "<class 'tuple'>\n",
      "True\n"
     ]
    }
   ],
   "source": [
    "my_tuple = (\"\",\"t\")\n",
    "print (type(my_tuple))\n",
    "print (any(my_tuple))"
   ]
  },
  {
   "cell_type": "markdown",
   "id": "1f90be18",
   "metadata": {},
   "source": [
    "# Método Len en Tuplas"
   ]
  },
  {
   "cell_type": "code",
   "execution_count": 28,
   "id": "5eecdcd5",
   "metadata": {},
   "outputs": [
    {
     "name": "stdout",
     "output_type": "stream",
     "text": [
      "<class 'tuple'>\n",
      "(3, 2, 4, 8, 6, 1, 9, 0)\n",
      "8\n"
     ]
    }
   ],
   "source": [
    "my_tuple = 3,2,4,8,6,1,9,0\n",
    "print (type(my_tuple))\n",
    "print (my_tuple)\n",
    "print (len(my_tuple))"
   ]
  },
  {
   "cell_type": "markdown",
   "id": "977bc2b3",
   "metadata": {},
   "source": [
    "# Indexación en Tuplas"
   ]
  },
  {
   "cell_type": "code",
   "execution_count": 31,
   "id": "a317ee0b",
   "metadata": {},
   "outputs": [
    {
     "name": "stdout",
     "output_type": "stream",
     "text": [
      "<class 'tuple'>\n",
      "3\n",
      "2\n",
      "4\n",
      "2\n",
      "0\n"
     ]
    }
   ],
   "source": [
    "my_tuple = 3,2,4,8,6,1,9,0\n",
    "print (type(my_tuple))\n",
    "print (my_tuple[0])\n",
    "print (my_tuple[1])\n",
    "print (my_tuple[2])\n",
    "print (my_tuple[-7])\n",
    "print (my_tuple[-1])"
   ]
  },
  {
   "cell_type": "markdown",
   "id": "f95bf356",
   "metadata": {},
   "source": [
    "# Conversión de Tuplas"
   ]
  },
  {
   "cell_type": "code",
   "execution_count": 42,
   "id": "0fca6c9d",
   "metadata": {},
   "outputs": [
    {
     "name": "stdout",
     "output_type": "stream",
     "text": [
      "Los dinosaurios tenian plumas\n",
      "('L', 'o', 's', ' ', 'd', 'i', 'n', 'o', 's', 'a', 'u', 'r', 'i', 'o', 's', ' ', 't', 'e', 'n', 'i', 'a', 'n', ' ', 'p', 'l', 'u', 'm', 'a', 's')\n",
      "L o s\n"
     ]
    }
   ],
   "source": [
    "# String a Tupla\n",
    "my_string = \"Los dinosaurios tenian plumas\"\n",
    "my_tuple = tuple(my_string)\n",
    "print(my_string)\n",
    "print(my_tuple)\n",
    "print(my_tuple[0], my_tuple [1], my_tuple[2])"
   ]
  },
  {
   "cell_type": "code",
   "execution_count": 47,
   "id": "32654f24",
   "metadata": {},
   "outputs": [
    {
     "name": "stdout",
     "output_type": "stream",
     "text": [
      "<class 'list'>\n",
      "['rey', 'bisconde', 'reina', 'princesa', 'delfin']\n",
      "<class 'tuple'>\n",
      "('rey', 'bisconde', 'reina', 'princesa', 'delfin')\n"
     ]
    }
   ],
   "source": [
    "# Lista a Tupla\n",
    "my_list = [\"rey\",\"bisconde\",\"reina\",\"princesa\",\"delfin\"]\n",
    "my_tuple = (tuple(my_list))\n",
    "print(type(my_list))\n",
    "print(my_list)\n",
    "print(type(my_tuple))\n",
    "print(my_tuple)"
   ]
  },
  {
   "cell_type": "code",
   "execution_count": 51,
   "id": "8449ca32",
   "metadata": {},
   "outputs": [
    {
     "name": "stdout",
     "output_type": "stream",
     "text": [
      "<class 'tuple'>\n",
      "('Terreneitor', 'Ricochet', 'Insector', 'Monster Jam')\n",
      "<class 'list'>\n",
      "['Terreneitor', 'Ricochet', 'Insector', 'Monster Jam']\n"
     ]
    }
   ],
   "source": [
    "#Tupla a lista\n",
    "\n",
    "my_tuple = (\"Terreneitor\", \"Ricochet\", \"Insector\", \"Monster Jam\")\n",
    "my_list = (list(my_tuple))\n",
    "print(type(my_tuple))\n",
    "print(my_tuple)\n",
    "print(type(my_list))\n",
    "print(my_list)"
   ]
  },
  {
   "cell_type": "code",
   "execution_count": 49,
   "id": "bfa53e10",
   "metadata": {},
   "outputs": [
    {
     "name": "stdout",
     "output_type": "stream",
     "text": [
      "<class 'tuple'>\n",
      "('L', 'o', 's', ' ', 'd', 'i', 'n', 'o', 's', 'a', 'u', 'r', 'i', 'o', 's', ' ', 't', 'e', 'n', 'i', 'a', 'n', ' ', 'p', 'l', 'u', 'm', 'a', 's')\n",
      "<class 'str'>\n",
      "Los dinosaurios tenian plumas\n"
     ]
    }
   ],
   "source": [
    "my_tuple = ('L', 'o', 's', ' ', 'd', 'i', 'n', 'o', 's', 'a', 'u', 'r', 'i', 'o', 's', ' ', 't', 'e', 'n', 'i', 'a', 'n', ' ', 'p', 'l', 'u', 'm', 'a', 's')\n",
    "my_sting = ''.join(my_tuple)\n",
    "print(type(my_tuple))\n",
    "print(my_tuple)\n",
    "print(type(my_string))\n",
    "print(my_sting)"
   ]
  },
  {
   "cell_type": "markdown",
   "id": "275e6f9f",
   "metadata": {},
   "source": [
    "# Ventajas de la tupla sobre la lista\n",
    "\n",
    "- Generalmente se usa tuplas para elementos heterogeneos (diferente tipo de dato)\n",
    "- Las listas son para elementos homogeneos (Mismo tipo de ddatos)\n",
    "- Las tuplas son inmutables, iterar a traves de una tupla es más rápido que una lista, es decir, mejor rendimineto.\n",
    "- Las tuplas tienen elementos inmutables, pueden ser usadas como llaves para un dirrionario.\n",
    "- Si tienes data que no cambia implementaria como tupla, garantiza que se mantendra protegida a modificaciones.\n"
   ]
  },
  {
   "cell_type": "code",
   "execution_count": 52,
   "id": "11454d4b",
   "metadata": {},
   "outputs": [
    {
     "ename": "TypeError",
     "evalue": "'tuple' object does not support item assignment",
     "output_type": "error",
     "traceback": [
      "\u001b[1;31m---------------------------------------------------------------------------\u001b[0m",
      "\u001b[1;31mTypeError\u001b[0m                                 Traceback (most recent call last)",
      "Cell \u001b[1;32mIn[52], line 1\u001b[0m\n\u001b[1;32m----> 1\u001b[0m \u001b[43mmy_tuple\u001b[49m\u001b[43m[\u001b[49m\u001b[38;5;241;43m0\u001b[39;49m\u001b[43m]\u001b[49m \u001b[38;5;241m=\u001b[39m \u001b[38;5;124m'\u001b[39m\u001b[38;5;124mvalor intruso\u001b[39m\u001b[38;5;124m'\u001b[39m\n",
      "\u001b[1;31mTypeError\u001b[0m: 'tuple' object does not support item assignment"
     ]
    }
   ],
   "source": [
    "my_tuple[0] = 'valor intruso' # Inmutabilidad"
   ]
  },
  {
   "cell_type": "code",
   "execution_count": 53,
   "id": "4d9c1c95",
   "metadata": {},
   "outputs": [],
   "source": [
    "my_list[0] = 'Valor intruso'"
   ]
  },
  {
   "cell_type": "code",
   "execution_count": 54,
   "id": "473b3c57",
   "metadata": {},
   "outputs": [
    {
     "name": "stdout",
     "output_type": "stream",
     "text": [
      "('Terreneitor', 'Ricochet', 'Insector', 'Monster Jam')\n",
      "['Valor intruso', 'Ricochet', 'Insector', 'Monster Jam']\n"
     ]
    }
   ],
   "source": [
    "print(my_tuple)\n",
    "print(my_list)"
   ]
  }
 ],
 "metadata": {
  "kernelspec": {
   "display_name": "Python 3 (ipykernel)",
   "language": "python",
   "name": "python3"
  },
  "language_info": {
   "codemirror_mode": {
    "name": "ipython",
    "version": 3
   },
   "file_extension": ".py",
   "mimetype": "text/x-python",
   "name": "python",
   "nbconvert_exporter": "python",
   "pygments_lexer": "ipython3",
   "version": "3.11.3"
  }
 },
 "nbformat": 4,
 "nbformat_minor": 5
}
