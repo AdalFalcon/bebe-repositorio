{
 "cells": [
  {
   "cell_type": "markdown",
   "id": "5fa2982b",
   "metadata": {},
   "source": [
    "# Panorama\n",
    "int - Integer/Enteros\n",
    "\n",
    "float - Float/Números con Decimales\n",
    "\n",
    "complex - Comples/Complejos (Números con una parte real y una imaginaria)\n",
    "\n",
    "bool - Boolean (True/False) / Valores Logícos (Verdadero/Falso)\n",
    "\n",
    "str - string / Cadenas, textos"
   ]
  },
  {
   "cell_type": "markdown",
   "id": "e11e730e",
   "metadata": {},
   "source": [
    "# int - Integers/Enteros"
   ]
  },
  {
   "cell_type": "code",
   "execution_count": 1,
   "id": "9542dfb3",
   "metadata": {},
   "outputs": [
    {
     "name": "stdout",
     "output_type": "stream",
     "text": [
      "el valor de my_integer es:  11\n",
      "el valor de my_integer es:  <class 'int'>\n"
     ]
    }
   ],
   "source": [
    "my_integer = 11\n",
    "print (\"el valor de my_integer es: \", my_integer)\n",
    "print (\"el valor de my_integer es: \", type(my_integer))"
   ]
  },
  {
   "cell_type": "code",
   "execution_count": 2,
   "id": "4a1c7572",
   "metadata": {},
   "outputs": [
    {
     "name": "stdout",
     "output_type": "stream",
     "text": [
      "el valor de my_integer es:  2022\n",
      "el valor de my_integer es:  <class 'int'>\n"
     ]
    }
   ],
   "source": [
    "my_integer = 2022\n",
    "print (\"el valor de my_integer es: \", my_integer)\n",
    "print (\"el valor de my_integer es: \", type(my_integer))"
   ]
  },
  {
   "cell_type": "code",
   "execution_count": 3,
   "id": "1a726e4c",
   "metadata": {},
   "outputs": [
    {
     "name": "stdout",
     "output_type": "stream",
     "text": [
      "el valor de my_integer es:  57831\n",
      "el valor de my_integer es:  <class 'int'>\n"
     ]
    }
   ],
   "source": [
    "my_integer = 57831\n",
    "print (\"el valor de my_integer es: \", my_integer)\n",
    "print (\"el valor de my_integer es: \", type(my_integer))"
   ]
  },
  {
   "cell_type": "code",
   "execution_count": 4,
   "id": "3d1aa9b2",
   "metadata": {},
   "outputs": [
    {
     "ename": "SyntaxError",
     "evalue": "invalid decimal literal (2176240596.py, line 2)",
     "output_type": "error",
     "traceback": [
      "\u001b[1;36m  Cell \u001b[1;32mIn[4], line 2\u001b[1;36m\u001b[0m\n\u001b[1;33m    my_integer = 57831d\u001b[0m\n\u001b[1;37m                     ^\u001b[0m\n\u001b[1;31mSyntaxError\u001b[0m\u001b[1;31m:\u001b[0m invalid decimal literal\n"
     ]
    }
   ],
   "source": [
    "# error\n",
    "my_integer = 57831d\n",
    "print (\"el valor de my_integer es: \", my_integer)\n",
    "print (\"el valor de my_integer es: \", type(my_integer))"
   ]
  },
  {
   "cell_type": "code",
   "execution_count": 5,
   "id": "61acce83",
   "metadata": {},
   "outputs": [
    {
     "ename": "SyntaxError",
     "evalue": "invalid syntax (528985280.py, line 2)",
     "output_type": "error",
     "traceback": [
      "\u001b[1;36m  Cell \u001b[1;32mIn[5], line 2\u001b[1;36m\u001b[0m\n\u001b[1;33m    my_integer = 57831@\u001b[0m\n\u001b[1;37m                       ^\u001b[0m\n\u001b[1;31mSyntaxError\u001b[0m\u001b[1;31m:\u001b[0m invalid syntax\n"
     ]
    }
   ],
   "source": [
    "# error\n",
    "my_integer = 57831@\n",
    "print (\"el valor de my_integer es: \", my_integer)\n",
    "print (\"el valor de my_integer es: \", type(my_integer))"
   ]
  },
  {
   "cell_type": "markdown",
   "id": "d56c28e1",
   "metadata": {},
   "source": [
    "##float - Float/Números con Decimales"
   ]
  },
  {
   "cell_type": "code",
   "execution_count": 6,
   "id": "79a5bf0a",
   "metadata": {},
   "outputs": [
    {
     "name": "stdout",
     "output_type": "stream",
     "text": [
      "el valor de my_float es:  11.1\n",
      "el valor de my_float es:  <class 'float'>\n"
     ]
    }
   ],
   "source": [
    "my_float = 11.1\n",
    "print (\"el valor de my_float es: \", my_float)\n",
    "print (\"el valor de my_float es: \", type(my_float))"
   ]
  },
  {
   "cell_type": "code",
   "execution_count": 7,
   "id": "6a246066",
   "metadata": {},
   "outputs": [
    {
     "name": "stdout",
     "output_type": "stream",
     "text": [
      "el valor de my_float es:  11.0\n",
      "el valor de my_float es:  <class 'float'>\n"
     ]
    }
   ],
   "source": [
    "my_float = 11.0\n",
    "print (\"el valor de my_float es: \", my_float)\n",
    "print (\"el valor de my_float es: \", type(my_float))"
   ]
  },
  {
   "cell_type": "code",
   "execution_count": 8,
   "id": "1cf9fb1c",
   "metadata": {},
   "outputs": [
    {
     "ename": "SyntaxError",
     "evalue": "invalid decimal literal (2357010406.py, line 1)",
     "output_type": "error",
     "traceback": [
      "\u001b[1;36m  Cell \u001b[1;32mIn[8], line 1\u001b[1;36m\u001b[0m\n\u001b[1;33m    my_float = 11.0h\u001b[0m\n\u001b[1;37m                  ^\u001b[0m\n\u001b[1;31mSyntaxError\u001b[0m\u001b[1;31m:\u001b[0m invalid decimal literal\n"
     ]
    }
   ],
   "source": [
    "my_float = 11.0h\n",
    "print (\"el valor de my_float es: \", my_float)\n",
    "print (\"el valor de my_float es: \", type(my_float))"
   ]
  },
  {
   "cell_type": "code",
   "execution_count": 9,
   "id": "d9f37ccf",
   "metadata": {},
   "outputs": [
    {
     "name": "stdout",
     "output_type": "stream",
     "text": [
      "el valor de my_float es:  2000.0\n",
      "el valor de my_float es:  <class 'float'>\n"
     ]
    }
   ],
   "source": [
    "# notación cientifica\n",
    "my_float = 2e3 #2.0*10**3\n",
    "print (\"el valor de my_float es: \", my_float)\n",
    "print (\"el valor de my_float es: \", type(my_float))"
   ]
  },
  {
   "cell_type": "code",
   "execution_count": 10,
   "id": "89956aca",
   "metadata": {},
   "outputs": [
    {
     "data": {
      "text/plain": [
       "1.1"
      ]
     },
     "execution_count": 10,
     "metadata": {},
     "output_type": "execute_result"
    }
   ],
   "source": [
    "1.1"
   ]
  },
  {
   "cell_type": "code",
   "execution_count": 11,
   "id": "83d075e1",
   "metadata": {},
   "outputs": [
    {
     "data": {
      "text/plain": [
       "1.1"
      ]
     },
     "execution_count": 11,
     "metadata": {},
     "output_type": "execute_result"
    }
   ],
   "source": [
    "1.1e0 # 1.1*10**0"
   ]
  },
  {
   "cell_type": "code",
   "execution_count": 12,
   "id": "ae8e16fd",
   "metadata": {},
   "outputs": [
    {
     "data": {
      "text/plain": [
       "11.0"
      ]
     },
     "execution_count": 12,
     "metadata": {},
     "output_type": "execute_result"
    }
   ],
   "source": [
    "1.1e1 # 1.1*10**1"
   ]
  },
  {
   "cell_type": "code",
   "execution_count": 13,
   "id": "260e6d2e",
   "metadata": {},
   "outputs": [
    {
     "data": {
      "text/plain": [
       "110.0"
      ]
     },
     "execution_count": 13,
     "metadata": {},
     "output_type": "execute_result"
    }
   ],
   "source": [
    "1.1e2 # 1.1*10**2"
   ]
  },
  {
   "cell_type": "code",
   "execution_count": 14,
   "id": "f52ba141",
   "metadata": {},
   "outputs": [
    {
     "data": {
      "text/plain": [
       "1100.0"
      ]
     },
     "execution_count": 14,
     "metadata": {},
     "output_type": "execute_result"
    }
   ],
   "source": [
    "1.1e3 # 1.1*10**3"
   ]
  },
  {
   "cell_type": "code",
   "execution_count": 15,
   "id": "8d2a6e6a",
   "metadata": {},
   "outputs": [
    {
     "data": {
      "text/plain": [
       "0.08"
      ]
     },
     "execution_count": 15,
     "metadata": {},
     "output_type": "execute_result"
    }
   ],
   "source": [
    "8e-2 # 8*10**-2"
   ]
  },
  {
   "cell_type": "markdown",
   "id": "8a5c165b",
   "metadata": {},
   "source": [
    "# complex - Complejos/Números Complejos (Números con una parte real y una imaginaria)\n",
    "\n",
    "### complex = x + y\n",
    "\n",
    "### X = Parte Real\n",
    "\n",
    "### Y = Parte Imaginaria"
   ]
  },
  {
   "cell_type": "code",
   "execution_count": 23,
   "id": "3f2c5d2a",
   "metadata": {},
   "outputs": [
    {
     "name": "stdout",
     "output_type": "stream",
     "text": [
      "El Valor de my_complex es (3+9j)\n",
      "El Valor de my_complex es <class 'complex'>\n"
     ]
    }
   ],
   "source": [
    "my_complex = 3 + 9j\n",
    "print (\"El Valor de my_complex es\", my_complex)\n",
    "print (\"El Valor de my_complex es\", type(my_complex))"
   ]
  },
  {
   "cell_type": "code",
   "execution_count": 24,
   "id": "4273cac1",
   "metadata": {},
   "outputs": [
    {
     "name": "stdout",
     "output_type": "stream",
     "text": [
      "El Valor de my_complex es (2+5j)\n",
      "El Valor de my_complex es <class 'complex'>\n"
     ]
    }
   ],
   "source": [
    "my_complex = 2 + 5j\n",
    "print (\"El Valor de my_complex es\", my_complex)\n",
    "print (\"El Valor de my_complex es\", type(my_complex))"
   ]
  },
  {
   "cell_type": "markdown",
   "id": "c3f82a7d",
   "metadata": {},
   "source": [
    "# bool - Boolean (True/False) / Valores Logícos (Verdadero/Falso)"
   ]
  },
  {
   "cell_type": "code",
   "execution_count": 25,
   "id": "7fb2d76d",
   "metadata": {},
   "outputs": [
    {
     "name": "stdout",
     "output_type": "stream",
     "text": [
      "El Valor de my_boolean es False\n",
      "El Valor de my_boolean es <class 'bool'>\n"
     ]
    }
   ],
   "source": [
    "my_boolean = False\n",
    "print (\"El Valor de my_boolean es\", my_boolean)\n",
    "print (\"El Valor de my_boolean es\", type(my_boolean))"
   ]
  },
  {
   "cell_type": "code",
   "execution_count": 26,
   "id": "8c678263",
   "metadata": {},
   "outputs": [
    {
     "name": "stdout",
     "output_type": "stream",
     "text": [
      "El Valor de my_boolean es True\n",
      "El Valor de my_boolean es <class 'bool'>\n"
     ]
    }
   ],
   "source": [
    "my_boolean = True\n",
    "print (\"El Valor de my_boolean es\", my_boolean)\n",
    "print (\"El Valor de my_boolean es\", type(my_boolean))"
   ]
  },
  {
   "cell_type": "code",
   "execution_count": 27,
   "id": "fe1ca50e",
   "metadata": {},
   "outputs": [],
   "source": [
    "# True = 1\n",
    "# False = 0 "
   ]
  },
  {
   "cell_type": "code",
   "execution_count": 28,
   "id": "cfac24ad",
   "metadata": {},
   "outputs": [
    {
     "name": "stdout",
     "output_type": "stream",
     "text": [
      "3\n"
     ]
    }
   ],
   "source": [
    "#3\n",
    "print (True+True+True)"
   ]
  },
  {
   "cell_type": "code",
   "execution_count": 29,
   "id": "f482408a",
   "metadata": {},
   "outputs": [
    {
     "name": "stdout",
     "output_type": "stream",
     "text": [
      "0\n"
     ]
    }
   ],
   "source": [
    "print (False+False+False)"
   ]
  },
  {
   "cell_type": "code",
   "execution_count": 30,
   "id": "c1ce434c",
   "metadata": {},
   "outputs": [
    {
     "name": "stdout",
     "output_type": "stream",
     "text": [
      "2\n"
     ]
    }
   ],
   "source": [
    "print (True+False+True)"
   ]
  },
  {
   "cell_type": "code",
   "execution_count": 31,
   "id": "f2b841bc",
   "metadata": {},
   "outputs": [
    {
     "name": "stdout",
     "output_type": "stream",
     "text": [
      "-1\n"
     ]
    }
   ],
   "source": [
    "print (False-False-True)"
   ]
  },
  {
   "cell_type": "code",
   "execution_count": 32,
   "id": "6458f61b",
   "metadata": {},
   "outputs": [
    {
     "name": "stdout",
     "output_type": "stream",
     "text": [
      "-2\n"
     ]
    }
   ],
   "source": [
    "print (False-True-True)"
   ]
  },
  {
   "cell_type": "markdown",
   "id": "06e657cd",
   "metadata": {},
   "source": [
    "# str - string / Cadenas, textos"
   ]
  },
  {
   "cell_type": "code",
   "execution_count": 33,
   "id": "335e7f18",
   "metadata": {},
   "outputs": [
    {
     "name": "stdout",
     "output_type": "stream",
     "text": [
      "El Valor de my_string es Carnero Divino\n",
      "El Valor de my_string es <class 'str'>\n"
     ]
    }
   ],
   "source": [
    "my_string = \"Carnero Divino\"\n",
    "print (\"El Valor de my_string es\", my_string)\n",
    "print (\"El Valor de my_string es\", type(my_string))"
   ]
  },
  {
   "cell_type": "code",
   "execution_count": 34,
   "id": "188c65d7",
   "metadata": {},
   "outputs": [
    {
     "name": "stdout",
     "output_type": "stream",
     "text": [
      "El Valor de my_string es Chivo Satánico\n",
      "El Valor de my_string es <class 'str'>\n"
     ]
    }
   ],
   "source": [
    "my_string = \"Chivo Satánico\"\n",
    "print (\"El Valor de my_string es\", my_string)\n",
    "print (\"El Valor de my_string es\", type(my_string))"
   ]
  },
  {
   "cell_type": "code",
   "execution_count": 35,
   "id": "720840c5",
   "metadata": {},
   "outputs": [
    {
     "name": "stdout",
     "output_type": "stream",
     "text": [
      "El Valor de my_string es Aprendiendo a Diferencia Catlocismo/Demonología/Satanismo\n",
      "El Valor de my_string es <class 'str'>\n"
     ]
    }
   ],
   "source": [
    "my_string = \"Aprendiendo a Diferencia Catlocismo/Demonología/Satanismo\"\n",
    "print (\"El Valor de my_string es\", my_string)\n",
    "print (\"El Valor de my_string es\", type(my_string))"
   ]
  },
  {
   "cell_type": "code",
   "execution_count": 36,
   "id": "f6329110",
   "metadata": {},
   "outputs": [
    {
     "ename": "SyntaxError",
     "evalue": "unterminated string literal (detected at line 1) (1231990459.py, line 1)",
     "output_type": "error",
     "traceback": [
      "\u001b[1;36m  Cell \u001b[1;32mIn[36], line 1\u001b[1;36m\u001b[0m\n\u001b[1;33m    my_string = 'you're mylove'\u001b[0m\n\u001b[1;37m                              ^\u001b[0m\n\u001b[1;31mSyntaxError\u001b[0m\u001b[1;31m:\u001b[0m unterminated string literal (detected at line 1)\n"
     ]
    }
   ],
   "source": [
    "my_string = 'you're mylove'\n",
    "print (\"El Valor de my_string es\", my_string)\n",
    "print (\"El Valor de my_string es\", type(my_string))"
   ]
  },
  {
   "cell_type": "code",
   "execution_count": 38,
   "id": "6290fc5a",
   "metadata": {},
   "outputs": [
    {
     "name": "stdout",
     "output_type": "stream",
     "text": [
      "El Valor de my_string es \n",
      "Esta es una cadena de prueba con multiples lineas\n",
      "\n",
      "Esto posiblemente sea algo que no termine de entender\n",
      "\n",
      "Creo que tengo que forzosamente usar la diagonal con la n\n",
      "vemos si funciona sin la diagonal\n",
      "\n",
      "El Valor de my_string es <class 'str'>\n"
     ]
    }
   ],
   "source": [
    "my_string = \"\"\"\n",
    "Esta es una cadena de prueba con multiples lineas\\n\n",
    "Esto posiblemente sea algo que no termine de entender\\n\n",
    "Creo que tengo que forzosamente usar la diagonal con la n\n",
    "vemos si funciona sin la diagonal\n",
    "\"\"\"\n",
    "print (\"El Valor de my_string es\", my_string)\n",
    "print (\"El Valor de my_string es\", type(my_string))"
   ]
  },
  {
   "cell_type": "markdown",
   "id": "d3e81bdc",
   "metadata": {},
   "source": [
    "# Variable\n",
    "\n",
    "### ¿Qué es una variable?\n",
    "- Son un espacio temporal para guardae un valor con un nombre especifíco \n",
    "- No hay necedidad de declarar el dato especifícamente\n",
    "- Phyton es un lenguaje tipado dinámicamente, lo que quiere decir que el tipo de dato se define mientras corre el programa \n",
    "- Las variables de Phyton funcionan diferente que otros lenguajes de programación\n",
    "- No necesita crear la variables, solo asignamos un número a un valor usando el operador de asignación\n",
    "\n",
    "### Tipos de Variables\n",
    "- Variables Globales: todas quellas que se utilizarán para todo el programa\n",
    "- Variables Locales: Todas aquellas que se van a utilizar sólo en un bloque especifico."
   ]
  },
  {
   "cell_type": "markdown",
   "id": "ba1346fb",
   "metadata": {},
   "source": [
    "# Variables Globales\n",
    "- Declaramos variables globales afuera de funciones\n",
    "- El valor de la variable global puede ser constante para todo el programa\n",
    "- Cualquier función puede acceder a esta variable\n",
    "- Podemos decir que las variables globales tienen un alcance global\n",
    "- Normalmente son más usadas en para constantes\n",
    "- Las varibales Globales manteienen sus valores a través de la ejecución completa del programa\n",
    "- Una variable global puede ser una accesada por cualquier función"
   ]
  },
  {
   "cell_type": "code",
   "execution_count": null,
   "id": "f0abc54e",
   "metadata": {},
   "outputs": [],
   "source": [
    "# Variable Global\n",
    "my_global_variable=50\n",
    "def my_function_1():\n",
    "    pass\n",
    "\n",
    "def my_function_2():\n",
    "    pass"
   ]
  },
  {
   "cell_type": "code",
   "execution_count": null,
   "id": "4ab93b30",
   "metadata": {},
   "outputs": [],
   "source": [
    "def my_function_1():\n",
    "    my_local_variable=5\n",
    "\n",
    "def my_function_2():\n",
    "    my_local_variable=35"
   ]
  },
  {
   "cell_type": "code",
   "execution_count": 60,
   "id": "b3d74bb7",
   "metadata": {},
   "outputs": [],
   "source": [
    "my_global_variable=50\n",
    "def my_function_1():\n",
    "    print(\"my_function_1 - El vaalor de my_global_variable es: \", my_global_variable)\n",
    "\n",
    "def my_function_2():\n",
    "    print(\"my_function_2 - El vaalor de my_global_variable es: \", my_global_variable)"
   ]
  },
  {
   "cell_type": "code",
   "execution_count": 56,
   "id": "b9d3e64c",
   "metadata": {},
   "outputs": [
    {
     "name": "stdout",
     "output_type": "stream",
     "text": [
      "my_function_1 - El vaalor de my_global_variable es:  50\n"
     ]
    }
   ],
   "source": [
    "my_function_1()"
   ]
  },
  {
   "cell_type": "code",
   "execution_count": 61,
   "id": "1a2d36d3",
   "metadata": {},
   "outputs": [
    {
     "name": "stdout",
     "output_type": "stream",
     "text": [
      "my_function_2 - El vaalor de my_global_variable es:  50\n"
     ]
    }
   ],
   "source": [
    "my_function_2()"
   ]
  },
  {
   "cell_type": "code",
   "execution_count": 18,
   "id": "d19abea8",
   "metadata": {},
   "outputs": [],
   "source": [
    "#Preferencia al valor local, y depués al global\n",
    "my_variable=50\n",
    "\n",
    "def my_function_1():\n",
    "    my_variable=10\n",
    "    print(\"my_function_1 - El vaalor de my_variable es: \", my_variable)\n",
    "\n",
    "def my_function_2():\n",
    "    my_variable=20\n",
    "    print(\"my_function_2 - El vaalor de my_variable es: \", my_variable)\n",
    "    \n",
    "def my_function_3():\n",
    "    print(\"my_function_3 - El vaalor de my_variable es: \", my_variable)\n",
    "    "
   ]
  },
  {
   "cell_type": "code",
   "execution_count": 87,
   "id": "2966cfdb",
   "metadata": {},
   "outputs": [
    {
     "name": "stdout",
     "output_type": "stream",
     "text": [
      "my_function_1 - El vaalor de my_variable es:  10\n"
     ]
    }
   ],
   "source": [
    "my_function_1()"
   ]
  },
  {
   "cell_type": "code",
   "execution_count": 19,
   "id": "3010e214",
   "metadata": {
    "scrolled": true
   },
   "outputs": [
    {
     "name": "stdout",
     "output_type": "stream",
     "text": [
      "my_function_2 - El vaalor de my_variable es:  20\n"
     ]
    }
   ],
   "source": [
    "my_function_2()"
   ]
  },
  {
   "cell_type": "code",
   "execution_count": 21,
   "id": "c15acea6",
   "metadata": {},
   "outputs": [
    {
     "name": "stdout",
     "output_type": "stream",
     "text": [
      "my_function_3 - El vaalor de my_variable es:  50\n"
     ]
    }
   ],
   "source": [
    "my_function_3()"
   ]
  },
  {
   "cell_type": "markdown",
   "id": "228268c6",
   "metadata": {},
   "source": [
    "# VARIABLES LOCALES.\n",
    "\n",
    "- Podemos usarlas dentro de una función.\n",
    "- Podemos Tener una restriccion al acceder a una varible local desde otra función.\n",
    "- No podemos usarlas durante todo el programa.\n",
    "- El alcance y visibilidad se limita al interior de la función.\n",
    "- lo que dure la función será lo que dure el alcance de nuestra variable.\n"
   ]
  },
  {
   "cell_type": "code",
   "execution_count": null,
   "id": "131b334b",
   "metadata": {},
   "outputs": [],
   "source": [
    "# Variable Global\n",
    "my_global_variable=50\n",
    "def my_function_1():\n",
    "    pass\n",
    "\n",
    "def my_function_2():\n",
    "    pass"
   ]
  },
  {
   "cell_type": "code",
   "execution_count": null,
   "id": "21518f6e",
   "metadata": {},
   "outputs": [],
   "source": [
    "# Variable Local\n",
    "def my_function_1():\n",
    "    my_local_variable=5\n",
    "\n",
    "def my_function_2():\n",
    "    my_local_variable=35"
   ]
  },
  {
   "cell_type": "code",
   "execution_count": 1,
   "id": "8983c120",
   "metadata": {},
   "outputs": [],
   "source": [
    "def my_function_1():\n",
    "    my_variable=10\n",
    "    print(\"my_function_1 - El vaalor de my_variable es: \", my_variable)\n",
    "\n",
    "def my_function_2():\n",
    "    my_variable=20\n",
    "    print(\"my_function_2 - El vaalor de my_variable es: \", my_variable)\n",
    "    \n",
    "def my_function_3():\n",
    "    print(\"my_function_3 - El vaalor de my_variable es: \", my_variable)\n",
    "    "
   ]
  },
  {
   "cell_type": "code",
   "execution_count": 2,
   "id": "52a52fb6",
   "metadata": {},
   "outputs": [
    {
     "name": "stdout",
     "output_type": "stream",
     "text": [
      "my_function_1 - El vaalor de my_variable es:  10\n"
     ]
    }
   ],
   "source": [
    "my_function_1()"
   ]
  },
  {
   "cell_type": "code",
   "execution_count": 4,
   "id": "f67bbb5b",
   "metadata": {},
   "outputs": [
    {
     "name": "stdout",
     "output_type": "stream",
     "text": [
      "my_function_2 - El vaalor de my_variable es:  20\n"
     ]
    }
   ],
   "source": [
    "my_function_2()"
   ]
  },
  {
   "cell_type": "code",
   "execution_count": null,
   "id": "ffaa29dc",
   "metadata": {},
   "outputs": [],
   "source": []
  },
  {
   "cell_type": "code",
   "execution_count": 3,
   "id": "652b7e89",
   "metadata": {},
   "outputs": [
    {
     "ename": "NameError",
     "evalue": "name 'my_variable' is not defined",
     "output_type": "error",
     "traceback": [
      "\u001b[1;31m---------------------------------------------------------------------------\u001b[0m",
      "\u001b[1;31mNameError\u001b[0m                                 Traceback (most recent call last)",
      "Cell \u001b[1;32mIn[3], line 1\u001b[0m\n\u001b[1;32m----> 1\u001b[0m \u001b[43mmy_function_3\u001b[49m\u001b[43m(\u001b[49m\u001b[43m)\u001b[49m\n",
      "Cell \u001b[1;32mIn[1], line 10\u001b[0m, in \u001b[0;36mmy_function_3\u001b[1;34m()\u001b[0m\n\u001b[0;32m      9\u001b[0m \u001b[38;5;28;01mdef\u001b[39;00m \u001b[38;5;21mmy_function_3\u001b[39m():\n\u001b[1;32m---> 10\u001b[0m     \u001b[38;5;28mprint\u001b[39m(\u001b[38;5;124m\"\u001b[39m\u001b[38;5;124mmy_function_3 - El vaalor de my_variable es: \u001b[39m\u001b[38;5;124m\"\u001b[39m, \u001b[43mmy_variable\u001b[49m)\n",
      "\u001b[1;31mNameError\u001b[0m: name 'my_variable' is not defined"
     ]
    }
   ],
   "source": [
    "my_function_3()"
   ]
  },
  {
   "cell_type": "markdown",
   "id": "ec2df086",
   "metadata": {},
   "source": [
    "# Palabra reservada 'Global'"
   ]
  },
  {
   "cell_type": "code",
   "execution_count": 5,
   "id": "1cc79ad6",
   "metadata": {},
   "outputs": [],
   "source": [
    "def my_function_1():\n",
    "    my_variable=10\n",
    "    print(\"my_function_1 - El vaalor de my_variable es: \", my_variable)\n",
    "\n",
    "def my_function_2(): \n",
    "    global my_variable #Global\n",
    "    my_variable=20\n",
    "    print(\"my_function_2 - El vaalor de my_variable es: \", my_variable)\n",
    "    \n",
    "def my_function_3():\n",
    "    print(\"my_function_3 - El vaalor de my_variable es: \", my_variable)"
   ]
  },
  {
   "cell_type": "code",
   "execution_count": 7,
   "id": "e027138a",
   "metadata": {},
   "outputs": [
    {
     "name": "stdout",
     "output_type": "stream",
     "text": [
      "my_function_2 - El vaalor de my_variable es:  20\n"
     ]
    }
   ],
   "source": [
    "my_function_2()"
   ]
  },
  {
   "cell_type": "code",
   "execution_count": 6,
   "id": "9ea2a86a",
   "metadata": {},
   "outputs": [
    {
     "name": "stdout",
     "output_type": "stream",
     "text": [
      "my_function_1 - El vaalor de my_variable es:  10\n"
     ]
    }
   ],
   "source": [
    " my_function_1()"
   ]
  },
  {
   "cell_type": "code",
   "execution_count": 8,
   "id": "77aa811a",
   "metadata": {},
   "outputs": [
    {
     "name": "stdout",
     "output_type": "stream",
     "text": [
      "my_function_3 - El vaalor de my_variable es:  20\n"
     ]
    }
   ],
   "source": [
    "my_function_3()"
   ]
  },
  {
   "cell_type": "code",
   "execution_count": 12,
   "id": "314411a8",
   "metadata": {},
   "outputs": [],
   "source": [
    "def my_function_1():\n",
    "    my_variable=10\n",
    "    print(\"my_function_1 - El vaalor de my_variable es: \", my_variable)\n",
    "    \n",
    "def my_function_2(): \n",
    "    global a, b, c, d, e #Global\n",
    "    a=10\n",
    "    b=20\n",
    "    c=30\n",
    "    d=40\n",
    "    e=50\n",
    "    print(\"my_function_2 - El vaalor de my_variable es: \", a)\n",
    "    print(\"my_function_2 - El vaalor de my_variable es: \", b)\n",
    "    print(\"my_function_2 - El vaalor de my_variable es: \", c)\n",
    "    print(\"my_function_2 - El vaalor de my_variable es: \", d)\n",
    "    print(\"my_function_2 - El vaalor de my_variable es: \", e)\n",
    "    \n",
    "def my_function_3():\n",
    "    print(\"my_function_2 - El vaalor de my_variable es: \", a)\n",
    "    print(\"my_function_2 - El vaalor de my_variable es: \", b)\n",
    "    print(\"my_function_2 - El vaalor de my_variable es: \", c)\n",
    "    print(\"my_function_2 - El vaalor de my_variable es: \", d)\n",
    "    print(\"my_function_2 - El vaalor de my_variable es: \", e)"
   ]
  },
  {
   "cell_type": "code",
   "execution_count": 10,
   "id": "06b7012d",
   "metadata": {},
   "outputs": [
    {
     "name": "stdout",
     "output_type": "stream",
     "text": [
      "my_function_1 - El vaalor de my_variable es:  10\n"
     ]
    }
   ],
   "source": [
    "my_function_1()"
   ]
  },
  {
   "cell_type": "code",
   "execution_count": 13,
   "id": "9cc36af0",
   "metadata": {},
   "outputs": [
    {
     "name": "stdout",
     "output_type": "stream",
     "text": [
      "my_function_2 - El vaalor de my_variable es:  10\n",
      "my_function_2 - El vaalor de my_variable es:  20\n",
      "my_function_2 - El vaalor de my_variable es:  30\n",
      "my_function_2 - El vaalor de my_variable es:  40\n",
      "my_function_2 - El vaalor de my_variable es:  50\n"
     ]
    }
   ],
   "source": [
    "my_function_2()"
   ]
  },
  {
   "cell_type": "code",
   "execution_count": 14,
   "id": "4bab3e8c",
   "metadata": {},
   "outputs": [
    {
     "name": "stdout",
     "output_type": "stream",
     "text": [
      "my_function_2 - El vaalor de my_variable es:  10\n",
      "my_function_2 - El vaalor de my_variable es:  20\n",
      "my_function_2 - El vaalor de my_variable es:  30\n",
      "my_function_2 - El vaalor de my_variable es:  40\n",
      "my_function_2 - El vaalor de my_variable es:  50\n"
     ]
    }
   ],
   "source": [
    "my_function_3()"
   ]
  },
  {
   "cell_type": "markdown",
   "id": "09686837",
   "metadata": {},
   "source": [
    "# Tipos de Enteros\n",
    "- Forma Decimal.\n",
    "- Forma Binari.a\n",
    "- Forma Octal.\n",
    "- Forma Hexadecimal."
   ]
  },
  {
   "cell_type": "markdown",
   "id": "9d138569",
   "metadata": {},
   "source": [
    "# Forma Decimal"
   ]
  },
  {
   "cell_type": "code",
   "execution_count": 15,
   "id": "ae496d11",
   "metadata": {},
   "outputs": [
    {
     "name": "stdout",
     "output_type": "stream",
     "text": [
      "el valor de mi numero decimal 35\n"
     ]
    }
   ],
   "source": [
    "my_decimal_number = 35\n",
    "print('el valor de mi numero decimal', my_decimal_number)"
   ]
  },
  {
   "cell_type": "code",
   "execution_count": 16,
   "id": "bf7a5dc5",
   "metadata": {},
   "outputs": [
    {
     "name": "stdout",
     "output_type": "stream",
     "text": [
      "el valor de mi numero decimal 35892367549283652\n"
     ]
    }
   ],
   "source": [
    "my_decimal_number = 35892367549283652\n",
    "print('el valor de mi numero decimal', my_decimal_number)"
   ]
  },
  {
   "cell_type": "code",
   "execution_count": 17,
   "id": "c77ac3df",
   "metadata": {},
   "outputs": [
    {
     "ename": "SyntaxError",
     "evalue": "invalid decimal literal (2633479133.py, line 2)",
     "output_type": "error",
     "traceback": [
      "\u001b[1;36m  Cell \u001b[1;32mIn[17], line 2\u001b[1;36m\u001b[0m\n\u001b[1;33m    my_decimal_number = 35892367549283652e\u001b[0m\n\u001b[1;37m                                        ^\u001b[0m\n\u001b[1;31mSyntaxError\u001b[0m\u001b[1;31m:\u001b[0m invalid decimal literal\n"
     ]
    }
   ],
   "source": [
    "# error\n",
    "my_decimal_number = 35892367549283652e\n",
    "print('el valor de mi numero decimal', my_decimal_number)"
   ]
  },
  {
   "cell_type": "code",
   "execution_count": 18,
   "id": "c6071166",
   "metadata": {},
   "outputs": [
    {
     "ename": "SyntaxError",
     "evalue": "invalid syntax (1542598704.py, line 2)",
     "output_type": "error",
     "traceback": [
      "\u001b[1;36m  Cell \u001b[1;32mIn[18], line 2\u001b[1;36m\u001b[0m\n\u001b[1;33m    my_decimal_number = 35892367549283652@\u001b[0m\n\u001b[1;37m                                          ^\u001b[0m\n\u001b[1;31mSyntaxError\u001b[0m\u001b[1;31m:\u001b[0m invalid syntax\n"
     ]
    }
   ],
   "source": [
    "# error\n",
    "my_decimal_number = 35892367549283652@\n",
    "print('el valor de mi numero decimal', my_decimal_number)"
   ]
  },
  {
   "cell_type": "markdown",
   "id": "ec0c9fb0",
   "metadata": {},
   "source": [
    "# Forma Binaria\n",
    "\n",
    "- Código organizado en bytes\n",
    "- Lenguaje binario\n",
    "- Lenguaje de las máquinas (0 y 1)\n",
    "\n",
    "## Valor Base: 2\n",
    "\n",
    "- Solamente acepta dos digitos (0 y 1)\n",
    "- Usamos el prefijo '0b' o '0B'"
   ]
  },
  {
   "cell_type": "code",
   "execution_count": 19,
   "id": "dfc47f15",
   "metadata": {},
   "outputs": [
    {
     "name": "stdout",
     "output_type": "stream",
     "text": [
      "el valor de mi numero decimal 11\n"
     ]
    }
   ],
   "source": [
    "my_decimal_number = 11\n",
    "print('el valor de mi numero decimal', my_decimal_number)"
   ]
  },
  {
   "cell_type": "code",
   "execution_count": 23,
   "id": "308458c5",
   "metadata": {},
   "outputs": [
    {
     "name": "stdout",
     "output_type": "stream",
     "text": [
      "el valor de mi numero binario es: 2\n"
     ]
    }
   ],
   "source": [
    "my_binary_number = 0b10\n",
    "print('el valor de mi numero binario es:',my_binary_number)"
   ]
  },
  {
   "cell_type": "code",
   "execution_count": 24,
   "id": "433a71a3",
   "metadata": {},
   "outputs": [
    {
     "name": "stdout",
     "output_type": "stream",
     "text": [
      "el valor de mi numero decimal 11\n"
     ]
    }
   ],
   "source": [
    "my_decimal_number = 11\n",
    "print('el valor de mi numero decimal', my_decimal_number)"
   ]
  },
  {
   "cell_type": "markdown",
   "id": "aacc4f39",
   "metadata": {},
   "source": [
    "my_binary_number = 0B1111\n",
    "print('el valor de mi numero binario es:',my_binary_number)"
   ]
  },
  {
   "cell_type": "markdown",
   "id": "ad15a839",
   "metadata": {},
   "source": [
    "# Forma Octal\n",
    "\n",
    "## Valor Base: 8\n",
    "\n",
    "- Solamente acepta digitos de 0 a 7\n",
    "- Se usa el prefijo '0o' o '0O'"
   ]
  },
  {
   "cell_type": "code",
   "execution_count": 26,
   "id": "20c96efe",
   "metadata": {},
   "outputs": [
    {
     "name": "stdout",
     "output_type": "stream",
     "text": [
      "el valor de mi numero decimal 17\n"
     ]
    }
   ],
   "source": [
    "my_decimal_number = 17\n",
    "print('el valor de mi numero decimal', my_decimal_number)"
   ]
  },
  {
   "cell_type": "code",
   "execution_count": 29,
   "id": "c16b9723",
   "metadata": {},
   "outputs": [
    {
     "name": "stdout",
     "output_type": "stream",
     "text": [
      "el valor de mi numero octal 15\n"
     ]
    }
   ],
   "source": [
    "my_octal_number = 0o17 #1*8**1 + 7*8**0\n",
    "print('el valor de mi numero octal', my_octal_number)"
   ]
  },
  {
   "cell_type": "code",
   "execution_count": 30,
   "id": "acc31ab2",
   "metadata": {},
   "outputs": [
    {
     "name": "stdout",
     "output_type": "stream",
     "text": [
      "el valor de mi numero octal 157\n"
     ]
    }
   ],
   "source": [
    "my_octal_number = 0o235 #2*8**2 + 3*8**1 + 5*8**0\n",
    "print('el valor de mi numero octal', my_octal_number)"
   ]
  },
  {
   "cell_type": "markdown",
   "id": "90a98b97",
   "metadata": {},
   "source": [
    "# Forma Hexadecimal \n",
    "\n",
    "## Valor Base: 16\n",
    "\n",
    "- Acepta digiros del 0 al 9.\n",
    "- Acepta letras de A\\a a F\\f\n",
    "- Usamos el prefijo '0x' o '0X'\n",
    "\n",
    "- 0\n",
    "- 1   \n",
    "- 2   \n",
    "- 3   \n",
    "- 4   \n",
    "- 5   \n",
    "- 6   \n",
    "- 7\n",
    "- 8\n",
    "- 9\n",
    "- 0\n",
    "- a = 10\n",
    "- b = 11\n",
    "- c = 12\n",
    "- d = 13\n",
    "- e = 14\n",
    "- f = 15"
   ]
  },
  {
   "cell_type": "code",
   "execution_count": 31,
   "id": "3be3f685",
   "metadata": {},
   "outputs": [
    {
     "name": "stdout",
     "output_type": "stream",
     "text": [
      "el valor de mi numero decimal 17\n"
     ]
    }
   ],
   "source": [
    "my_decimal_number = 17\n",
    "print('el valor de mi numero decimal', my_decimal_number)"
   ]
  },
  {
   "cell_type": "code",
   "execution_count": 33,
   "id": "b26733a1",
   "metadata": {},
   "outputs": [
    {
     "name": "stdout",
     "output_type": "stream",
     "text": [
      "el valor de mi numero hexadecimal 23\n"
     ]
    }
   ],
   "source": [
    "my_hex_number = 0x17 #1*16**1 + 7*16**0\n",
    "print('el valor de mi numero hexadecimal', my_hex_number)"
   ]
  },
  {
   "cell_type": "code",
   "execution_count": 34,
   "id": "9f40b7e1",
   "metadata": {},
   "outputs": [
    {
     "name": "stdout",
     "output_type": "stream",
     "text": [
      "el valor de mi numero hexadecimal 574\n"
     ]
    }
   ],
   "source": [
    "my_hex_number = 0x23e #2*16**2 + 3*16**1 14*16**0\n",
    "print('el valor de mi numero hexadecimal', my_hex_number)"
   ]
  },
  {
   "cell_type": "code",
   "execution_count": null,
   "id": "0713ef9e",
   "metadata": {},
   "outputs": [],
   "source": [
    "no actualiza git hub"
   ]
  }
 ],
 "metadata": {
  "kernelspec": {
   "display_name": "Python 3 (ipykernel)",
   "language": "python",
   "name": "python3"
  },
  "language_info": {
   "codemirror_mode": {
    "name": "ipython",
    "version": 3
   },
   "file_extension": ".py",
   "mimetype": "text/x-python",
   "name": "python",
   "nbconvert_exporter": "python",
   "pygments_lexer": "ipython3",
   "version": "3.11.3"
  }
 },
 "nbformat": 4,
 "nbformat_minor": 5
}
