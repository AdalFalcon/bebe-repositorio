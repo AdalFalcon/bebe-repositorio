{
 "cells": [
  {
   "cell_type": "markdown",
   "id": "6bd93dda",
   "metadata": {},
   "source": [
    "# Ejericico Tipos de Datos y Variables"
   ]
  },
  {
   "cell_type": "code",
   "execution_count": 11,
   "id": "dcd1d236",
   "metadata": {},
   "outputs": [
    {
     "name": "stdout",
     "output_type": "stream",
     "text": [
      "El valor de la suma de los valores de a + f es 25\n",
      "El valor de la suma de los valores de a + c es 8\n",
      "El valor de la suma de los valores de f + b es 6975757451\n",
      "El valor de la suma de los valores de d + c es 0\n",
      "El valor de la suma de los valores de b + b es 13951514882\n",
      "El valor de la suma de los valores de e + c es 32\n",
      "El valor de la suma de los valores de a + f es 32\n",
      "El valor de la suma de los valores de a + f es 6975757434\n",
      "El valor de la suma de los valores de a + f es 0\n",
      "El valor de la suma de los valores de a + f es 8\n"
     ]
    },
    {
     "data": {
      "text/plain": [
       "(None,)"
      ]
     },
     "execution_count": 11,
     "metadata": {},
     "output_type": "execute_result"
    }
   ],
   "source": [
    "# Suma o Adicion\n",
    "\n",
    "a = 15\n",
    "b = 17**8\n",
    "c = -7\n",
    "d = 0b111\n",
    "e = 0o47\n",
    "f = 0xa\n",
    "\n",
    "print (\"El valor de la suma de los valores de a + f es\", a + f),\n",
    "print (\"El valor de la suma de los valores de a + c es\", a + c),\n",
    "print (\"El valor de la suma de los valores de f + b es\", f + b),\n",
    "print (\"El valor de la suma de los valores de d + c es\", d + c),\n",
    "print (\"El valor de la suma de los valores de b + b es\", b + b),\n",
    "print (\"El valor de la suma de los valores de e + c es\", c + e),\n",
    "print (\"El valor de la suma de los valores de a + f es\", e + c),\n",
    "print (\"El valor de la suma de los valores de a + f es\", c + b),\n",
    "print (\"El valor de la suma de los valores de a + f es\", c + d),\n",
    "print (\"El valor de la suma de los valores de a + f es\", c + a),"
   ]
  },
  {
   "cell_type": "code",
   "execution_count": 12,
   "id": "782194ad",
   "metadata": {},
   "outputs": [
    {
     "name": "stdout",
     "output_type": "stream",
     "text": [
      "El valor de la resta de los valores de a - f es 80\n",
      "El valor de la resta de los valores de f - e es -31\n",
      "El valor de la resta de los valores de a - e es 49\n",
      "El valor de la resta de los valores de a - d es 91\n",
      "El valor de la resta de los valores de e - a es -49\n",
      "El valor de la resta de los valores de d - a es -91\n",
      "El valor de la resta de los valores de f - b es -33232930569588\n",
      "El valor de la resta de los valores de b - c es 33232930569641\n",
      "El valor de la resta de los valores de d - b es -33232930569599\n",
      "El valor de la resta de los valores de e - c es 84\n"
     ]
    },
    {
     "data": {
      "text/plain": [
       "(None,)"
      ]
     },
     "execution_count": 12,
     "metadata": {},
     "output_type": "execute_result"
    }
   ],
   "source": [
    "# Resta o Sustracción\n",
    "\n",
    "a = 93\n",
    "b = 7**16\n",
    "c = -40\n",
    "d = 0b10\n",
    "e = 0o54\n",
    "f = 0xd\n",
    "\n",
    "print (\"El valor de la resta de los valores de a - f es\", a - f),\n",
    "print (\"El valor de la resta de los valores de f - e es\", f - e),\n",
    "print (\"El valor de la resta de los valores de a - e es\", a - e),\n",
    "print (\"El valor de la resta de los valores de a - d es\", a - d),\n",
    "print (\"El valor de la resta de los valores de e - a es\", e - a),\n",
    "print (\"El valor de la resta de los valores de d - a es\", d - a),\n",
    "print (\"El valor de la resta de los valores de f - b es\", f - b),\n",
    "print (\"El valor de la resta de los valores de b - c es\", b - c),\n",
    "print (\"El valor de la resta de los valores de d - b es\", d - b),\n",
    "print (\"El valor de la resta de los valores de e - c es\", e - c),\n"
   ]
  },
  {
   "cell_type": "code",
   "execution_count": 13,
   "id": "05dac8c8",
   "metadata": {},
   "outputs": [
    {
     "name": "stdout",
     "output_type": "stream",
     "text": [
      "El valor de la multiplicación de los valores de a * d es 4\n",
      "El valor de la multiplicación de los valores de f * c es -225\n",
      "El valor de la multiplicación de los valores de b * d es 9\n",
      "El valor de la multiplicación de los valores de b * d es 4\n",
      "El valor de la multiplicación de los valores de a * e es 16\n",
      "El valor de la multiplicación de los valores de c * d es -15\n",
      "El valor de la multiplicación de los valores de f * f es 225\n",
      "El valor de la multiplicación de los valores de e * c es -60\n",
      "El valor de la multiplicación de los valores de d * f es 15\n",
      "El valor de la multiplicación de los valores de a * b es 36\n"
     ]
    },
    {
     "data": {
      "text/plain": [
       "(None,)"
      ]
     },
     "execution_count": 13,
     "metadata": {},
     "output_type": "execute_result"
    }
   ],
   "source": [
    "# Multiplicación\n",
    "\n",
    "a = 4\n",
    "b = 3**2\n",
    "c = -15\n",
    "d = 0b1\n",
    "e = 0o4\n",
    "f = 0xf\n",
    "\n",
    "print (\"El valor de la multiplicación de los valores de a * d es\", a * d),\n",
    "print (\"El valor de la multiplicación de los valores de f * c es\", f * c),\n",
    "print (\"El valor de la multiplicación de los valores de b * d es\", b * d),\n",
    "print (\"El valor de la multiplicación de los valores de b * d es\", d * a),\n",
    "print (\"El valor de la multiplicación de los valores de a * e es\", a * e),\n",
    "print (\"El valor de la multiplicación de los valores de c * d es\", c * d),\n",
    "print (\"El valor de la multiplicación de los valores de f * f es\", f * f),\n",
    "print (\"El valor de la multiplicación de los valores de e * c es\", e * c),\n",
    "print (\"El valor de la multiplicación de los valores de d * f es\", d * f),\n",
    "print (\"El valor de la multiplicación de los valores de a * b es\", a * b),"
   ]
  },
  {
   "cell_type": "code",
   "execution_count": 25,
   "id": "a4cb424d",
   "metadata": {},
   "outputs": [
    {
     "name": "stdout",
     "output_type": "stream",
     "text": [
      "El valor de la división de los valores de (a / b) es 0.8\n",
      "El valor de la división de los valores de (c / e) es -0.2857142857142857\n",
      "El valor de la división de los valores de (f / c) es -5.5\n",
      "El valor de la división de los valores de (d / a) es 2.1\n",
      "El valor de la división de los valores de (b / f) es 2.272727272727273\n",
      "El valor de la división de los valores de (c / d) es -0.047619047619047616\n",
      "El valor de la división de los valores de (e / b) es 0.28\n",
      "El valor de la división de los valores de (a / a) es 1.0\n",
      "El valor de la división de los valores de (e / f) es 0.6363636363636364\n",
      "El valor de la división de los valores de (f / e) es 1.5714285714285714\n"
     ]
    }
   ],
   "source": [
    "# División\n",
    "\n",
    "a = 20\n",
    "b = 5**2\n",
    "c = -2\n",
    "d = 0b101010\n",
    "e = 0o7\n",
    "f = 0xb\n",
    "\n",
    "print (\"El valor de la división de los valores de (a / b) es\", (a / b)),\n",
    "print (\"El valor de la división de los valores de (c / e) es\", (c / e)),\n",
    "print (\"El valor de la división de los valores de (f / c) es\", (f / c)),\n",
    "print (\"El valor de la división de los valores de (d / a) es\", (d / a)),\n",
    "print (\"El valor de la división de los valores de (b / f) es\", (b / f)),\n",
    "print (\"El valor de la división de los valores de (c / d) es\", (c / d)),\n",
    "print (\"El valor de la división de los valores de (e / b) es\", (e / b)),\n",
    "print (\"El valor de la división de los valores de (a / a) es\", (a / a)),\n",
    "print (\"El valor de la división de los valores de (e / f) es\", (e / f)),\n",
    "print (\"El valor de la división de los valores de (f / e) es\", (f / e)),"
   ]
  },
  {
   "cell_type": "code",
   "execution_count": 40,
   "id": "8da1e346",
   "metadata": {},
   "outputs": [
    {
     "name": "stdout",
     "output_type": "stream",
     "text": [
      "El valor de la la operacion de a es 27000\n",
      "El valor de la la operacion de b es 22\n",
      "El valor de la la operacion de c es 1679616\n",
      "El valor de la la operacion de d es 110.25\n",
      "El valor de la la operacion de e es 16.333333333333332\n",
      "El valor de la la operacion de f es 100000011\n",
      "El valor de la la operacion de (a * f) / b es 122727286227.27272\n",
      "El valor de la la operacion de (b - d) * a es -2382750.0\n",
      "El valor de la la operacion de (e + a)/c es 0.016084827325610934\n",
      "El valor de la la operacion de (b / f) /a es 8.14814725185195e-12\n",
      "El valor de la la operacion de (a - f) + (b + e) / c) es -99973010.99997717\n"
     ]
    }
   ],
   "source": [
    "# Calculos con exponenciales:\n",
    "\n",
    "a = (20+10)**3\n",
    "b = (5**2-0b11)\n",
    "c = (-2 * 3)**8\n",
    "d = (0b101010 / 0o4)**2\n",
    "e = (0o7**2 / 3)\n",
    "f = (0xb + 10**8)\n",
    "\n",
    "print (\"El valor de la la operacion de a es\", a),\n",
    "print (\"El valor de la la operacion de b es\", b),\n",
    "print (\"El valor de la la operacion de c es\", c),\n",
    "print (\"El valor de la la operacion de d es\", d),\n",
    "print (\"El valor de la la operacion de e es\", e),\n",
    "print (\"El valor de la la operacion de f es\", f),\n",
    "print (\"El valor de la la operacion de (a * f) / b es\", (a * f) / b),\n",
    "print (\"El valor de la la operacion de (b - d) * a es\", (b - d) * a),\n",
    "print (\"El valor de la la operacion de (e + a)/c es\", (e + a)/c),\n",
    "print (\"El valor de la la operacion de (b / f) /a es\", (b / f) /a),\n",
    "print (\"El valor de la la operacion de (a - f) + (b + e) / c) es\", (a - f) + (b + e) / c)"
   ]
  }
 ],
 "metadata": {
  "kernelspec": {
   "display_name": "Python 3 (ipykernel)",
   "language": "python",
   "name": "python3"
  },
  "language_info": {
   "codemirror_mode": {
    "name": "ipython",
    "version": 3
   },
   "file_extension": ".py",
   "mimetype": "text/x-python",
   "name": "python",
   "nbconvert_exporter": "python",
   "pygments_lexer": "ipython3",
   "version": "3.11.3"
  }
 },
 "nbformat": 4,
 "nbformat_minor": 5
}
