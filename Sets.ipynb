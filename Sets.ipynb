{
 "cells": [
  {
   "cell_type": "markdown",
   "id": "2ea14d5d",
   "metadata": {},
   "source": [
    "# Creando y modificando sets"
   ]
  },
  {
   "cell_type": "code",
   "execution_count": 1,
   "id": "6b39dce3",
   "metadata": {},
   "outputs": [
    {
     "name": "stdout",
     "output_type": "stream",
     "text": [
      "<class 'set'>\n",
      "1\n",
      "{'phyton'}\n"
     ]
    }
   ],
   "source": [
    "my_set= set()\n",
    "my_set.add('phyton')\n",
    "\n",
    "print(type(my_set))\n",
    "print(len(my_set))\n",
    "print(my_set)\n"
   ]
  },
  {
   "cell_type": "code",
   "execution_count": 4,
   "id": "fb93c555",
   "metadata": {},
   "outputs": [
    {
     "name": "stdout",
     "output_type": "stream",
     "text": [
      "<class 'set'>\n",
      "5\n",
      "{'puchero', 4.6, 'ballo', 52, 'caballo'}\n"
     ]
    }
   ],
   "source": [
    "my_set= set()\n",
    "my_set.add('caballo')\n",
    "my_set.update((52,'ballo', 4.6))\n",
    "my_set.add('puchero')\n",
    "\n",
    "print(type(my_set))\n",
    "print(len(my_set))\n",
    "print(my_set)"
   ]
  },
  {
   "cell_type": "code",
   "execution_count": 5,
   "id": "274fe380",
   "metadata": {},
   "outputs": [
    {
     "name": "stdout",
     "output_type": "stream",
     "text": [
      "<class 'set'>\n",
      "5\n",
      "{'puchero', 4.6, 52, 'ballo', 'caballo'}\n"
     ]
    }
   ],
   "source": [
    "my_set= {'puchero', 4.6, 'ballo', 52, 'caballo'}\n",
    "\n",
    "print(type(my_set))\n",
    "print(len(my_set))\n",
    "print(my_set)"
   ]
  },
  {
   "cell_type": "markdown",
   "id": "01fde0f3",
   "metadata": {},
   "source": [
    "# metodos para manipulacion de sets\n",
    "\n"
   ]
  },
  {
   "cell_type": "code",
   "execution_count": 9,
   "id": "45b2997f",
   "metadata": {},
   "outputs": [
    {
     "name": "stdout",
     "output_type": "stream",
     "text": [
      "<class 'set'>\n",
      "5\n",
      "{2, 3, 4, 6, 7}\n"
     ]
    }
   ],
   "source": [
    "#add agrega un elemento a un set\n",
    "\n",
    "my_set = {3,6,4,7,2,7}\n",
    "print(type(my_set))\n",
    "print(len(my_set))\n",
    "print(my_set)"
   ]
  },
  {
   "cell_type": "code",
   "execution_count": 10,
   "id": "74376565",
   "metadata": {},
   "outputs": [
    {
     "name": "stdout",
     "output_type": "stream",
     "text": [
      "<class 'set'>\n",
      "6\n",
      "{1, 2, 3, 4, 6, 7}\n"
     ]
    }
   ],
   "source": [
    "my_set.add(1)\n",
    "my_set.add(2)\n",
    "my_set.add(6)\n",
    "my_set.add(1)\n",
    "\n",
    "print(type(my_set))\n",
    "print(len(my_set))\n",
    "print(my_set)"
   ]
  },
  {
   "cell_type": "code",
   "execution_count": 11,
   "id": "b41535e7",
   "metadata": {},
   "outputs": [
    {
     "name": "stdout",
     "output_type": "stream",
     "text": [
      "<class 'set'>\n",
      "5\n",
      "{2, 3, 4, 6, 7} \n",
      "\n",
      "<class 'set'>\n",
      "0\n",
      "set()\n"
     ]
    }
   ],
   "source": [
    "# Clear -> Remueve todos los elementos del set\n",
    "\n",
    "my_set = {3,6,4,7,2,7}\n",
    "print(type(my_set))\n",
    "print(len(my_set))\n",
    "print(my_set,'\\n')\n",
    "\n",
    "my_set.clear()\n",
    "print(type(my_set))\n",
    "print(len(my_set))\n",
    "print(my_set)"
   ]
  },
  {
   "cell_type": "code",
   "execution_count": 14,
   "id": "ca7b7596",
   "metadata": {},
   "outputs": [
    {
     "name": "stdout",
     "output_type": "stream",
     "text": [
      "<class 'set'>\n",
      "5\n",
      "{2, 3, 4, 6, 7} \n",
      "\n",
      "<class 'set'>\n",
      "5\n",
      "{2, 3, 4, 6, 7} \n",
      "\n",
      "<class 'set'>\n",
      "5\n",
      "{2, 3, 4, 6, 7} \n",
      "\n",
      "<class 'set'>\n",
      "0\n",
      "set() \n",
      "\n"
     ]
    }
   ],
   "source": [
    "#Copy -> Copia los elementos en un nuevo set\n",
    "\n",
    "my_set = {3,6,4,7,2,7}\n",
    "my_set_2 = my_set.copy()\n",
    "\n",
    "print(type(my_set))\n",
    "print(len(my_set))\n",
    "print(my_set,'\\n')\n",
    "\n",
    "print(type(my_set_2))\n",
    "print(len(my_set_2))\n",
    "print(my_set_2,'\\n')\n",
    "\n",
    "my_set_2.clear()\n",
    "\n",
    "print(type(my_set))\n",
    "print(len(my_set))\n",
    "print(my_set,'\\n')\n",
    "\n",
    "print(type(my_set_2))\n",
    "print(len(my_set_2))\n",
    "print(my_set_2,'\\n')"
   ]
  },
  {
   "cell_type": "code",
   "execution_count": 15,
   "id": "8fbf3a6c",
   "metadata": {},
   "outputs": [
    {
     "name": "stdout",
     "output_type": "stream",
     "text": [
      "<class 'set'>\n",
      "5\n",
      "{2, 3, 4, 6, 7} \n",
      "\n",
      "<class 'set'>\n",
      "5\n",
      "{2, 3, 4, 6, 7} \n",
      "\n",
      "<class 'set'>\n",
      "0\n",
      "set() \n",
      "\n",
      "<class 'set'>\n",
      "0\n",
      "set() \n",
      "\n"
     ]
    }
   ],
   "source": [
    "my_set = {3,6,4,7,2,7}\n",
    "my_set_2 = my_set\n",
    "\n",
    "print(type(my_set))\n",
    "print(len(my_set))\n",
    "print(my_set,'\\n')\n",
    "\n",
    "print(type(my_set_2))\n",
    "print(len(my_set_2))\n",
    "print(my_set_2,'\\n')\n",
    "\n",
    "my_set_2.clear()\n",
    "\n",
    "print(type(my_set))\n",
    "print(len(my_set))\n",
    "print(my_set,'\\n')\n",
    "\n",
    "print(type(my_set_2))\n",
    "print(len(my_set_2))\n",
    "print(my_set_2,'\\n')"
   ]
  },
  {
   "cell_type": "code",
   "execution_count": 19,
   "id": "b4f51859",
   "metadata": {},
   "outputs": [
    {
     "name": "stdout",
     "output_type": "stream",
     "text": [
      "los valores faltantes en set a son: {8, 2, 4, 6} \n",
      "\n",
      "Los valores faltantes en set b son: {9, 3, 5}\n"
     ]
    }
   ],
   "source": [
    "#Difference -> Obtiene los valores presentes en el primer set y faltantes en el segundo set\n",
    "\n",
    "set_a = {1,3,5,7,9}\n",
    "set_b = {1,2,4,6,7,8}\n",
    "\n",
    "# Valores que hay en set_b faltantes en set_a\n",
    "print('los valores faltantes en set a son:',set_b.difference (set_a), '\\n')\n",
    "\n",
    "#Valores que hay en set_a faltantes en set_b\n",
    "print('Los valores faltantes en set b son:',set_a.difference(set_b))\n"
   ]
  },
  {
   "cell_type": "code",
   "execution_count": 21,
   "id": "1e9aaec0",
   "metadata": {},
   "outputs": [
    {
     "name": "stdout",
     "output_type": "stream",
     "text": [
      "{2, 4, 6, 8} \n",
      "\n",
      "{1, 3, 5, 7, 9}\n"
     ]
    }
   ],
   "source": [
    "#Difference_update -> Conserva solo los valores diferentes entre el set solicitado y el que esta mandado como parámetro\n",
    "\n",
    "set_a = {1,3,5,7,9}\n",
    "set_b = {1,2,4,6,7,8}\n",
    "\n",
    "# Valores que hay en set_b faltantes en set_a\n",
    "set_b.difference_update(set_a)\n",
    "print(set_b,'\\n')\n",
    "\n",
    "#Valores que hay en set_a faltantes en set_b\n",
    "set_a.difference_update(set_b)\n",
    "print(set_a)\n"
   ]
  },
  {
   "cell_type": "code",
   "execution_count": 22,
   "id": "000a5666",
   "metadata": {},
   "outputs": [
    {
     "name": "stdout",
     "output_type": "stream",
     "text": [
      "{3, 5, 9} \n",
      "\n",
      "{1, 2, 4, 6, 7, 8}\n"
     ]
    }
   ],
   "source": [
    "set_a = {1,3,5,7,9}\n",
    "set_b = {1,2,4,6,7,8}\n",
    "\n",
    "# Valores que hay en set_a faltantes en set_b\n",
    "set_a.difference_update(set_b)\n",
    "print(set_a,'\\n')\n",
    "\n",
    "#Valores que hay en set_b faltantes en set_a\n",
    "set_b.difference_update(set_a)\n",
    "print(set_b)"
   ]
  },
  {
   "cell_type": "code",
   "execution_count": 24,
   "id": "7d397c1a",
   "metadata": {},
   "outputs": [
    {
     "name": "stdout",
     "output_type": "stream",
     "text": [
      "<class 'set'>\n",
      "5\n",
      "{'ron', 'mezcal', 'vodka', 'ginebra', 'tequila'} \n",
      "\n",
      "<class 'set'>\n",
      "4\n",
      "{'mezcal', 'vodka', 'ginebra', 'tequila'} \n",
      "\n",
      "<class 'set'>\n",
      "4\n",
      "{'mezcal', 'vodka', 'ginebra', 'tequila'} \n",
      "\n"
     ]
    }
   ],
   "source": [
    "# Discard -> Elimina un elemento del set si esta presente.\n",
    "\n",
    "my_set={'tequila','vodka','ginebra','ron','mezcal'}\n",
    "print(type(my_set))\n",
    "print(len(my_set))\n",
    "print(my_set,'\\n')\n",
    "\n",
    "my_set.discard('ron')\n",
    "print(type(my_set))\n",
    "print(len(my_set))\n",
    "print(my_set,'\\n')\n",
    "\n",
    "#Es irrelevante que el valor no este presente\n",
    "my_set.discard('pisco')\n",
    "print(type(my_set))\n",
    "print(len(my_set))\n",
    "print(my_set,'\\n')\n",
    "\n"
   ]
  },
  {
   "cell_type": "code",
   "execution_count": 26,
   "id": "397061ba",
   "metadata": {},
   "outputs": [
    {
     "name": "stdout",
     "output_type": "stream",
     "text": [
      "{1, 7} \n",
      "\n",
      "{1, 7} \n",
      "\n"
     ]
    }
   ],
   "source": [
    "# Intersection -> obtiene los valores en comun en 2 sets\n",
    "\n",
    "set_a = {1,3,5,7,9}\n",
    "set_b = {1,2,4,6,7,8}\n",
    "\n",
    "print(set_a.intersection(set_b),'\\n')\n",
    "print(set_b.intersection(set_a),'\\n')\n"
   ]
  },
  {
   "cell_type": "code",
   "execution_count": 31,
   "id": "5e821cf1",
   "metadata": {},
   "outputs": [
    {
     "name": "stdout",
     "output_type": "stream",
     "text": [
      "<class 'set'>\n",
      "2\n",
      "{1, 7} \n",
      "\n",
      "<class 'set'>\n",
      "6\n",
      "{1, 2, 4, 6, 7, 8} \n",
      "\n"
     ]
    }
   ],
   "source": [
    "#Intersection_update -> Obtiene los valores en común en 2 sets y los asigna al set que manda llamar el método.\n",
    "\n",
    "set_a = {1,3,5,7,9}\n",
    "set_b = {1,2,4,6,7,8}\n",
    "\n",
    "set_a.intersection_update(set_b),'\\n'\n",
    "print(type(set_a))\n",
    "print(len(set_a))\n",
    "print(set_a, '\\n')\n",
    "\n",
    "print(type(set_b))\n",
    "print(len(set_b))\n",
    "print(set_b, '\\n')\n",
    "\n",
    "\n"
   ]
  },
  {
   "cell_type": "code",
   "execution_count": 34,
   "id": "61122f51",
   "metadata": {},
   "outputs": [
    {
     "name": "stdout",
     "output_type": "stream",
     "text": [
      "False \n",
      "\n",
      "True\n"
     ]
    }
   ],
   "source": [
    "# isdisjoint \n",
    "# True : si noya valores compartidos por ambos sets\n",
    "# False : Si hay por lo menos un valor compartido por ambos sets\n",
    "\n",
    "set_a = {1,3,5,7,9}\n",
    "set_b = {1,2,4,6,7,8}\n",
    "\n",
    "print(set_a.isdisjoint(set_b),'\\n')\n",
    "\n",
    "set_1 = {3,9}\n",
    "set_2 = {1,2,4,6,7,8}\n",
    "print(set_1.isdisjoint(set_2))"
   ]
  },
  {
   "cell_type": "code",
   "execution_count": 38,
   "id": "65adc2e7",
   "metadata": {},
   "outputs": [
    {
     "name": "stdout",
     "output_type": "stream",
     "text": [
      "True \n",
      "\n",
      "False\n"
     ]
    }
   ],
   "source": [
    "#issubset\n",
    "#True : todos los valore sdel set llamado estan en el set pasado como parametro\n",
    "\n",
    "set_a = {1,7}\n",
    "set_b = {1,2,4,6,7,8}\n",
    "print(set_a.issubset(set_b),'\\n')\n",
    "\n",
    "#False : no todos los valores del set llamado se encuentran en el set pasado como parametro\n",
    "set_1 = {1,3,5,7,9}\n",
    "set_2 = {1,2,4,6,7,8}\n",
    "print(set_1.issubset(set_2))"
   ]
  },
  {
   "cell_type": "code",
   "execution_count": 41,
   "id": "ca438c19",
   "metadata": {},
   "outputs": [
    {
     "name": "stdout",
     "output_type": "stream",
     "text": [
      "True \n",
      "\n",
      "False\n"
     ]
    }
   ],
   "source": [
    "# isupperset -> analliza todos los valores del set como parametro esten dentro del set llamado\n",
    "\n",
    "set_a = {1,7}\n",
    "set_b = {1,2,4,6,7,8}\n",
    "print(set_b.issuperset(set_a),'\\n')\n",
    "\n",
    "set_1 = {1,3,5,7,9}\n",
    "set_2 = {1,2,4,6,7,8}\n",
    "print(set_1.issuperset(set_2))"
   ]
  },
  {
   "cell_type": "code",
   "execution_count": 42,
   "id": "02dabddf",
   "metadata": {},
   "outputs": [
    {
     "name": "stdout",
     "output_type": "stream",
     "text": [
      "<class 'set'>\n",
      "6\n",
      "{1, 2, 4, 6, 7, 8} \n",
      "\n",
      "1\n",
      "2\n",
      "4\n",
      "6 \n",
      "\n",
      "<class 'set'>\n",
      "2\n",
      "{7, 8}\n"
     ]
    }
   ],
   "source": [
    "# POP -> Elimina al primer elemento del set\n",
    "\n",
    "my_set = {1,2,4,6,7,8}\n",
    "\n",
    "print(type(my_set))\n",
    "print(len(my_set))\n",
    "print(my_set,'\\n')\n",
    "\n",
    "print(my_set.pop(),)\n",
    "print(my_set.pop(),)\n",
    "print(my_set.pop(),)\n",
    "print(my_set.pop(),'\\n')\n",
    "\n",
    "print(type(my_set))\n",
    "print(len(my_set))\n",
    "print(my_set,)"
   ]
  },
  {
   "cell_type": "code",
   "execution_count": 43,
   "id": "94e74b3c",
   "metadata": {},
   "outputs": [
    {
     "name": "stdout",
     "output_type": "stream",
     "text": [
      "<class 'set'>\n",
      "6\n",
      "{1, 2, 4, 6, 7, 8} \n",
      "\n",
      "<class 'set'>\n",
      "5\n",
      "{1, 2, 6, 7, 8} \n",
      "\n"
     ]
    },
    {
     "ename": "KeyError",
     "evalue": "3",
     "output_type": "error",
     "traceback": [
      "\u001b[1;31m---------------------------------------------------------------------------\u001b[0m",
      "\u001b[1;31mKeyError\u001b[0m                                  Traceback (most recent call last)",
      "Cell \u001b[1;32mIn[43], line 16\u001b[0m\n\u001b[0;32m     13\u001b[0m \u001b[38;5;28mprint\u001b[39m(\u001b[38;5;28mlen\u001b[39m(my_set))\n\u001b[0;32m     14\u001b[0m \u001b[38;5;28mprint\u001b[39m(my_set,\u001b[38;5;124m'\u001b[39m\u001b[38;5;130;01m\\n\u001b[39;00m\u001b[38;5;124m'\u001b[39m)\n\u001b[1;32m---> 16\u001b[0m \u001b[43mmy_set\u001b[49m\u001b[38;5;241;43m.\u001b[39;49m\u001b[43mremove\u001b[49m\u001b[43m(\u001b[49m\u001b[38;5;241;43m3\u001b[39;49m\u001b[43m)\u001b[49m\n",
      "\u001b[1;31mKeyError\u001b[0m: 3"
     ]
    }
   ],
   "source": [
    "#remove -> Elimina el elemento pasado como parametro, debe estar presente en el set o manda error\n",
    "\n",
    "\n",
    "my_set = {1,2,4,6,7,8}\n",
    "\n",
    "print(type(my_set))\n",
    "print(len(my_set))\n",
    "print(my_set,'\\n')\n",
    "\n",
    "my_set.remove(4)\n",
    "\n",
    "print(type(my_set))\n",
    "print(len(my_set))\n",
    "print(my_set,'\\n')\n",
    "\n",
    "my_set.remove(3)"
   ]
  },
  {
   "cell_type": "code",
   "execution_count": 47,
   "id": "8b54d963",
   "metadata": {},
   "outputs": [
    {
     "name": "stdout",
     "output_type": "stream",
     "text": [
      "<class 'set'>\n",
      "5\n",
      "{1, 3, 5, 7, 9} \n",
      "\n",
      "<class 'set'>\n",
      "6\n",
      "{1, 2, 4, 6, 7, 8} \n",
      "\n",
      "<class 'set'>\n",
      "9\n",
      "{1, 2, 3, 4, 5, 6, 7, 8, 9}\n"
     ]
    }
   ],
   "source": [
    "#union -> combina 2 sets\n",
    "\n",
    "set_a = {1,3,5,7,9}\n",
    "set_b = {1,2,4,6,7,8}\n",
    "\n",
    "print(type(set_a))\n",
    "print(len(set_a))\n",
    "print(set_a,'\\n')\n",
    "\n",
    "print(type(set_b))\n",
    "print(len(set_b))\n",
    "print(set_b,'\\n')\n",
    "\n",
    "set_c = set_a.union(set_b)\n",
    "print(type(set_c))\n",
    "print(len(set_c))\n",
    "print(set_c)\n",
    "\n",
    "\n",
    "\n",
    "\n"
   ]
  },
  {
   "cell_type": "code",
   "execution_count": 49,
   "id": "383833e1",
   "metadata": {},
   "outputs": [
    {
     "name": "stdout",
     "output_type": "stream",
     "text": [
      "<class 'set'>\n",
      "5\n",
      "{1, 3, 5, 7, 9} \n",
      "\n",
      "<class 'set'>\n",
      "6\n",
      "{1, 2, 4, 6, 7, 8} \n",
      "\n",
      "{1, 2, 3, 4, 5, 6, 7, 8, 9} \n",
      "\n",
      "{1, 2, 4, 6, 7, 8}\n"
     ]
    }
   ],
   "source": [
    "#Update -> Añade los valores del set pasado como parametro al set llamado\n",
    "\n",
    "set_a = {1,3,5,7,9}\n",
    "set_b = {1,2,4,6,7,8}\n",
    "\n",
    "print(type(set_a))\n",
    "print(len(set_a))\n",
    "print(set_a,'\\n')\n",
    "\n",
    "print(type(set_b))\n",
    "print(len(set_b))\n",
    "print(set_b,'\\n')\n",
    "\n",
    "set_a.update(set_b)\n",
    "print (set_a,'\\n')\n",
    "print (set_b)"
   ]
  },
  {
   "cell_type": "code",
   "execution_count": 51,
   "id": "d418c085",
   "metadata": {},
   "outputs": [
    {
     "name": "stdout",
     "output_type": "stream",
     "text": [
      "{2, 3, 4, 5, 6, 8, 9} \n",
      "\n",
      "{2, 3, 4, 5, 6, 8, 9}\n"
     ]
    }
   ],
   "source": [
    "#Symmetric_difference -> Obtiene las diferencias en ambos sets\n",
    "\n",
    "set_a = {1,3,5,7,9}\n",
    "set_b = {1,2,4,6,7,8}\n",
    "\n",
    "print (set_a.symmetric_difference(set_b),'\\n')\n",
    "print (set_b.symmetric_difference(set_a))"
   ]
  },
  {
   "cell_type": "code",
   "execution_count": 53,
   "id": "9061ead0",
   "metadata": {},
   "outputs": [
    {
     "name": "stdout",
     "output_type": "stream",
     "text": [
      "{2, 3, 4, 5, 6, 8, 9} \n",
      "\n",
      "{1, 2, 4, 6, 7, 8}\n"
     ]
    }
   ],
   "source": [
    "#Symmetric_difference_update -> Obtiene las diferencias de ambos sets y asigna los valores al set llamado\n",
    "\n",
    "set_a = {1,3,5,7,9}\n",
    "set_b = {1,2,4,6,7,8}\n",
    "\n",
    "set_a.symmetric_difference_update(set_b)\n",
    "print ((set_a),'\\n')\n",
    "print (set_b)"
   ]
  },
  {
   "cell_type": "markdown",
   "id": "df9b768b",
   "metadata": {},
   "source": [
    "# Conversion de Sets"
   ]
  },
  {
   "cell_type": "code",
   "execution_count": 54,
   "id": "5b771029",
   "metadata": {},
   "outputs": [
    {
     "name": "stdout",
     "output_type": "stream",
     "text": [
      "<class 'str'>\n",
      "rollo de carne \n",
      "\n",
      "<class 'set'>\n",
      "{'n', 'o', 'l', 'c', 'e', 'a', ' ', 'r', 'd'}\n"
     ]
    }
   ],
   "source": [
    "# De Cadena a Set\n",
    "\n",
    "my_string = \"rollo de carne\"\n",
    "my_set = set(my_string)\n",
    "\n",
    "print(type(my_string))\n",
    "print(my_string, '\\n')\n",
    "print(type(my_set))\n",
    "print(my_set)\n",
    "\n"
   ]
  },
  {
   "cell_type": "code",
   "execution_count": 56,
   "id": "f274eb75",
   "metadata": {},
   "outputs": [
    {
     "name": "stdout",
     "output_type": "stream",
     "text": [
      "<class 'list'>\n",
      "[3, 3, 6, 7, 2, 3, 8, 9, 8, 9, 5] \n",
      "\n",
      "<class 'set'>\n",
      "{2, 3, 5, 6, 7, 8, 9}\n"
     ]
    }
   ],
   "source": [
    "#Lista a Set\n",
    "\n",
    "my_list = [3,3,6,7,2,3,8,9,8,9,5]\n",
    "my_set = set(my_list)\n",
    "\n",
    "print(type(my_list))\n",
    "print(my_list, '\\n')\n",
    "print(type(my_set))\n",
    "print(my_set)\n"
   ]
  },
  {
   "cell_type": "code",
   "execution_count": 59,
   "id": "79a0dcaa",
   "metadata": {},
   "outputs": [
    {
     "name": "stdout",
     "output_type": "stream",
     "text": [
      "<class 'tuple'>\n",
      "(3, 3, 6, 7, 2, 3, 8, 9, 8, 9, 5) \n",
      "\n",
      "<class 'set'>\n",
      "{2, 3, 5, 6, 7, 8, 9}\n"
     ]
    }
   ],
   "source": [
    "# De Tupla a Set\n",
    "\n",
    "my_tuple = (3,3,6,7,2,3,8,9,8,9,5)\n",
    "my_set = set(my_tuple)\n",
    "\n",
    "print(type(my_tuple))\n",
    "print(my_tuple, '\\n')\n",
    "print(type(my_set))\n",
    "print(my_set)"
   ]
  },
  {
   "cell_type": "code",
   "execution_count": 60,
   "id": "5abb946e",
   "metadata": {},
   "outputs": [
    {
     "name": "stdout",
     "output_type": "stream",
     "text": [
      "<class 'set'>\n",
      "{'n', 'o', 'l', 'c', 'e', 'a', ' ', 'r', 'd'} \n",
      "\n",
      "<class 'str'>\n",
      "nolcea rd\n"
     ]
    }
   ],
   "source": [
    "# de set a string\n",
    "\n",
    "my_set = {'n', 'o', 'l', 'c', 'e', 'a', ' ', 'r', 'd'}\n",
    "my_string = ''.join(my_set)\n",
    "\n",
    "print(type(my_set))\n",
    "print(my_set, '\\n')\n",
    "print(type(my_string))\n",
    "print(my_string)"
   ]
  },
  {
   "cell_type": "code",
   "execution_count": 61,
   "id": "1ede5d33",
   "metadata": {},
   "outputs": [
    {
     "name": "stdout",
     "output_type": "stream",
     "text": [
      "<class 'set'>\n",
      "{2, 3, 5, 6, 7, 8, 9} \n",
      "\n",
      "<class 'list'>\n",
      "[2, 3, 5, 6, 7, 8, 9]\n"
     ]
    }
   ],
   "source": [
    "# de set a lista\n",
    "\n",
    "#Lista a Set\n",
    "\n",
    "my_set = {2, 3, 5, 6, 7, 8, 9}\n",
    "my_list = list(my_set)\n",
    "\n",
    "print(type(my_set))\n",
    "print(my_set, '\\n')\n",
    "print(type(my_list))\n",
    "print(my_list)"
   ]
  },
  {
   "cell_type": "code",
   "execution_count": 62,
   "id": "efce5837",
   "metadata": {},
   "outputs": [
    {
     "name": "stdout",
     "output_type": "stream",
     "text": [
      "<class 'set'>\n",
      "{2, 3, 5, 6, 7, 8, 9} \n",
      "\n",
      "<class 'tuple'>\n",
      "(2, 3, 5, 6, 7, 8, 9)\n"
     ]
    }
   ],
   "source": [
    "# de Set a Tupla\n",
    "\n",
    "my_set = {2, 3, 5, 6, 7, 8, 9}\n",
    "my_tuple = tuple(my_set)\n",
    "\n",
    "print(type(my_set))\n",
    "print(my_set, '\\n')\n",
    "print(type(my_tuple))\n",
    "print(my_tuple)"
   ]
  }
 ],
 "metadata": {
  "kernelspec": {
   "display_name": "Python 3 (ipykernel)",
   "language": "python",
   "name": "python3"
  },
  "language_info": {
   "codemirror_mode": {
    "name": "ipython",
    "version": 3
   },
   "file_extension": ".py",
   "mimetype": "text/x-python",
   "name": "python",
   "nbconvert_exporter": "python",
   "pygments_lexer": "ipython3",
   "version": "3.11.3"
  }
 },
 "nbformat": 4,
 "nbformat_minor": 5
}
