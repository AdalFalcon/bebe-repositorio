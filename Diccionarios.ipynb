{
 "cells": [
  {
   "cell_type": "markdown",
   "id": "37e17628",
   "metadata": {},
   "source": [
    "# Diferente formas de crear diccionarios."
   ]
  },
  {
   "cell_type": "code",
   "execution_count": 1,
   "id": "3f70753d",
   "metadata": {},
   "outputs": [
    {
     "name": "stdout",
     "output_type": "stream",
     "text": [
      "<class 'dict'>\n",
      "{}\n"
     ]
    }
   ],
   "source": [
    "my_dict = {}\n",
    "print(type(my_dict))\n",
    "print(my_dict)"
   ]
  },
  {
   "cell_type": "code",
   "execution_count": 2,
   "id": "db399867",
   "metadata": {},
   "outputs": [
    {
     "name": "stdout",
     "output_type": "stream",
     "text": [
      "<class 'dict'>\n",
      "{}\n"
     ]
    }
   ],
   "source": [
    "my_dict = dict ()\n",
    "print(type(my_dict))\n",
    "print(my_dict)"
   ]
  },
  {
   "cell_type": "code",
   "execution_count": 5,
   "id": "708ff0ca",
   "metadata": {},
   "outputs": [
    {
     "name": "stdout",
     "output_type": "stream",
     "text": [
      "<class 'dict'> \n",
      "\n",
      "{1: 'uno', 2: 'dos', 3: 'tres', 4: 'cuatro', 5: 'cinco'}\n"
     ]
    }
   ],
   "source": [
    "# Representando el diccionario como tal\n",
    "\n",
    "my_dict = {\n",
    "    1:'uno',\n",
    "    2:'dos',\n",
    "    3:'tres',\n",
    "    4:'cuatro',\n",
    "    5:'cinco',\n",
    "}\n",
    "\n",
    "print(type(my_dict),'\\n')\n",
    "print(my_dict)"
   ]
  },
  {
   "cell_type": "code",
   "execution_count": 6,
   "id": "121534c8",
   "metadata": {},
   "outputs": [
    {
     "name": "stdout",
     "output_type": "stream",
     "text": [
      "<class 'dict'> \n",
      "\n",
      "{'uno': 1, 'dos': 2, 'tres': 3, 'cuatro': 4, 'cinco': 5}\n"
     ]
    }
   ],
   "source": [
    "# Nombres de las llaves con valores\n",
    "\n",
    "my_dict = dict (uno =1, dos = 2, tres = 3, cuatro = 4, cinco = 5)\n",
    "print(type(my_dict),'\\n')\n",
    "print(my_dict)"
   ]
  },
  {
   "cell_type": "code",
   "execution_count": 7,
   "id": "999c4884",
   "metadata": {},
   "outputs": [
    {
     "name": "stdout",
     "output_type": "stream",
     "text": [
      "<class 'dict'> \n",
      "\n",
      "{1: 'uno', 2: 'dos', 3: 'tres', 4: 'cuatro', 5: 'cinco'}\n"
     ]
    }
   ],
   "source": [
    "# Usando una lista de tuplas.\n",
    "\n",
    "my_dict = dict (\n",
    "[\n",
    "    (1, 'uno'),\n",
    "    (2, 'dos'),\n",
    "    (3, 'tres'),\n",
    "    (4, 'cuatro'),\n",
    "    (5, 'cinco'),\n",
    "]\n",
    ")\n",
    "print(type(my_dict),'\\n')\n",
    "print(my_dict)"
   ]
  },
  {
   "cell_type": "markdown",
   "id": "5169a00e",
   "metadata": {},
   "source": [
    "# Metodo Update"
   ]
  },
  {
   "cell_type": "code",
   "execution_count": 10,
   "id": "a4090d22",
   "metadata": {},
   "outputs": [
    {
     "name": "stdout",
     "output_type": "stream",
     "text": [
      "<class 'dict'> \n",
      "\n",
      "{1: 'uno', 2: 'dos', 3: 'tres', 4: 'cuatro', 5: 'cinco'} \n",
      "\n",
      "<class 'dict'> \n",
      "\n",
      "{1: 'uno', 2: 'dos', 3: 'tres', 4: 'cuatro', 5: 'cinco'} \n",
      "\n"
     ]
    }
   ],
   "source": [
    "my_dict = {\n",
    "    1:'uno',\n",
    "    2:'dos',\n",
    "    3:'tres',\n",
    "    4:'cuatro',\n",
    "    5:'cinco',\n",
    "}\n",
    "\n",
    "my_dict_2 = {\n",
    "    6:'seis',\n",
    "    7:'siete',\n",
    "    8:'ocho',\n",
    "    9:'nueve',\n",
    "    \n",
    "}\n",
    "print(type(my_dict),'\\n')\n",
    "print(my_dict, '\\n')\n",
    "\n",
    "print(type(my_dict_2),'\\n')\n",
    "print(my_dict_1,'\\n')\n",
    "\n"
   ]
  },
  {
   "cell_type": "code",
   "execution_count": 12,
   "id": "b1aa5fdf",
   "metadata": {},
   "outputs": [
    {
     "name": "stdout",
     "output_type": "stream",
     "text": [
      "<class 'dict'> \n",
      "\n",
      "{1: 'uno', 2: 'dos', 3: 'tres', 4: 'cuatro', 5: 'cinco', 6: 'seis', 7: 'siete', 8: 'ocho', 9: 'nueve'}\n"
     ]
    }
   ],
   "source": [
    "my_dict.update(my_dict_2)\n",
    "print(type(my_dict),'\\n')\n",
    "print (my_dict)"
   ]
  },
  {
   "cell_type": "code",
   "execution_count": 15,
   "id": "0bfc5de8",
   "metadata": {},
   "outputs": [
    {
     "name": "stdout",
     "output_type": "stream",
     "text": [
      "<class 'dict'> \n",
      "\n",
      "{1: 'uno', 2: 'dos', 3: 'tres', 4: 'cuatro', 5: 'cinco'} \n",
      "\n",
      "<class 'dict'> \n",
      "\n",
      "{1: 'UNO', 3: 'TRES', 4: 'CUATRO'} \n",
      "\n",
      "<class 'dict'> \n",
      "\n",
      "{1: 'UNO', 2: 'dos', 3: 'TRES', 4: 'CUATRO', 5: 'cinco'}\n"
     ]
    }
   ],
   "source": [
    "my_dict = {\n",
    "    1:'uno',\n",
    "    2:'dos',\n",
    "    3:'tres',\n",
    "    4:'cuatro',\n",
    "    5:'cinco',\n",
    "}\n",
    "\n",
    "my_dict_2 = {\n",
    "    1:'UNO',\n",
    "    3:'TRES',\n",
    "    4:'CUATRO',\n",
    "    \n",
    "}\n",
    "print(type(my_dict),'\\n')\n",
    "print(my_dict, '\\n')\n",
    "\n",
    "print(type(my_dict_2),'\\n')\n",
    "print(my_dict_2,'\\n')\n",
    "\n",
    "my_dict.update(my_dict_2)\n",
    "print(type(my_dict),'\\n')\n",
    "print (my_dict)"
   ]
  },
  {
   "cell_type": "markdown",
   "id": "717e2b4d",
   "metadata": {},
   "source": [
    "# Copy & Alias\n"
   ]
  },
  {
   "cell_type": "code",
   "execution_count": 24,
   "id": "8b0eb300",
   "metadata": {},
   "outputs": [
    {
     "name": "stdout",
     "output_type": "stream",
     "text": [
      "{'trix': 69.9, 'lucky charm': 64.7, 'cherios': 40.6, 'zucaritas': 60.5}\n"
     ]
    }
   ],
   "source": [
    "cereales = {\n",
    "    'trix': 69.90,\n",
    "    'lucky charm':64.70,\n",
    "    'cherios': 40.60,\n",
    "    'zucaritas': 60.50,\n",
    "}\n",
    "\n",
    "alias = cereales # no recomendable\n",
    "copy = cereales.copy() # recomendable\n",
    "\n",
    "print(cereales)"
   ]
  },
  {
   "cell_type": "code",
   "execution_count": 34,
   "id": "f4e0e7ac",
   "metadata": {},
   "outputs": [
    {
     "name": "stdout",
     "output_type": "stream",
     "text": [
      "{'trix': 69.9, 'lucky charm': 64.7, 'cherios': 40.6, 'zucaritas': 60.5} \n",
      "\n",
      "{'trix': 71.0, 'lucky charm': 64.7, 'cherios': 40.6, 'zucaritas': 60.5} \n",
      "\n",
      "{'trix': 71.0, 'lucky charm': 64.7, 'cherios': 40.6, 'zucaritas': 60.5} \n",
      "\n"
     ]
    }
   ],
   "source": [
    "# Copy\n",
    "print (copy, '\\n')\n",
    "copy ['trix'] = 70.50\n",
    "print(alias,'\\n')\n",
    "print(cereales, '\\n')"
   ]
  },
  {
   "cell_type": "code",
   "execution_count": 35,
   "id": "49ebc4e1",
   "metadata": {},
   "outputs": [
    {
     "name": "stdout",
     "output_type": "stream",
     "text": [
      "{'trix': 71.0, 'lucky charm': 64.7, 'cherios': 40.6, 'zucaritas': 60.5}\n",
      "{'trix': 70.5, 'lucky charm': 64.7, 'cherios': 40.6, 'zucaritas': 60.5}\n",
      "{'trix': 70.5, 'lucky charm': 64.7, 'cherios': 40.6, 'zucaritas': 60.5}\n"
     ]
    }
   ],
   "source": [
    "# Alias\n",
    "\n",
    "print (alias)\n",
    "alias ['trix'] = 70.50\n",
    "print(alias)\n",
    "print (cereales)"
   ]
  },
  {
   "cell_type": "code",
   "execution_count": 38,
   "id": "a76a002e",
   "metadata": {},
   "outputs": [
    {
     "name": "stdout",
     "output_type": "stream",
     "text": [
      "{'trix': 69.9, 'lucky charm': 64.7, 'cherios': 40.6, 'zucaritas': 60.5} \n",
      "\n",
      "{'trix': 70.5, 'lucky charm': 64.7, 'cherios': 40.6, 'zucaritas': 60.5} \n",
      "\n",
      "{'trix': 69.9, 'lucky charm': 64.7, 'cherios': 40.6, 'zucaritas': 60.5}\n"
     ]
    }
   ],
   "source": [
    "## Copy\n",
    "cereales = {\n",
    "    'trix': 69.90,\n",
    "    'lucky charm':64.70,\n",
    "    'cherios': 40.60,\n",
    "    'zucaritas': 60.50,\n",
    "}\n",
    "copy = cereales.copy()\n",
    "print(copy,'\\n')\n",
    "copy['trix'] = 70.50\n",
    "print (copy,'\\n')\n",
    "print (cereales)"
   ]
  },
  {
   "cell_type": "markdown",
   "id": "6333a198",
   "metadata": {},
   "source": [
    "# Obtener Keys y Values"
   ]
  },
  {
   "cell_type": "code",
   "execution_count": 40,
   "id": "9231ea3b",
   "metadata": {},
   "outputs": [],
   "source": [
    "#Llaves\n",
    "\n",
    "cereales = {\n",
    "    'trix': 69.90,\n",
    "    'lucky charm':64.70,\n",
    "    'cherios': 40.60,\n",
    "    'zucaritas': 60.50,\n",
    "}"
   ]
  },
  {
   "cell_type": "code",
   "execution_count": 42,
   "id": "e6e88991",
   "metadata": {},
   "outputs": [
    {
     "name": "stdout",
     "output_type": "stream",
     "text": [
      "dict_keys(['trix', 'lucky charm', 'cherios', 'zucaritas'])\n"
     ]
    }
   ],
   "source": [
    "print (cereales.keys())\n"
   ]
  },
  {
   "cell_type": "code",
   "execution_count": 47,
   "id": "161ed026",
   "metadata": {},
   "outputs": [
    {
     "name": "stdout",
     "output_type": "stream",
     "text": [
      "Para la llave 'trix' el valor es 69.9\n",
      "Para la llave 'lucky charm' el valor es 64.7\n",
      "Para la llave 'cherios' el valor es 40.6\n",
      "Para la llave 'zucaritas' el valor es 60.5\n"
     ]
    }
   ],
   "source": [
    "for key in cereales.keys():\n",
    "    print (\"Para la llave '{}' el valor es {}\".format(key, cereales[key]))"
   ]
  },
  {
   "cell_type": "code",
   "execution_count": 49,
   "id": "82c28cd3",
   "metadata": {},
   "outputs": [
    {
     "name": "stdout",
     "output_type": "stream",
     "text": [
      "dict_values([69.9, 64.7, 40.6, 60.5])\n"
     ]
    }
   ],
   "source": [
    "# Valores\n",
    "cereales = {\n",
    "    'trix': 69.90,\n",
    "    'lucky charm':64.70,\n",
    "    'cherios': 40.60,\n",
    "    'zucaritas': 60.50,\n",
    "}\n",
    "\n",
    "print(cereales.values())"
   ]
  },
  {
   "cell_type": "code",
   "execution_count": 51,
   "id": "f329c429",
   "metadata": {},
   "outputs": [
    {
     "name": "stdout",
     "output_type": "stream",
     "text": [
      "El valor es 69.9\n",
      "El valor es 64.7\n",
      "El valor es 40.6\n",
      "El valor es 60.5\n"
     ]
    }
   ],
   "source": [
    "for value in cereales.values():\n",
    "    print(\"El valor es {}\".format(value))"
   ]
  },
  {
   "cell_type": "code",
   "execution_count": 53,
   "id": "b2af0d04",
   "metadata": {},
   "outputs": [
    {
     "name": "stdout",
     "output_type": "stream",
     "text": [
      "Para la llave 'trix' el valor es 69.9\n",
      "Para la llave 'lucky charm' el valor es 69.9\n",
      "Para la llave 'cherios' el valor es 69.9\n",
      "Para la llave 'zucaritas' el valor es 69.9\n"
     ]
    }
   ],
   "source": [
    "cereales = {\n",
    "    'trix': 69.90,\n",
    "    'lucky charm':64.70,\n",
    "    'cherios': 40.60,\n",
    "    'zucaritas': 60.50,\n",
    "}\n",
    "\n",
    "def get_key(d, val):\n",
    "    keys = [k for k, v in d.items() if v == val]\n",
    "    if keys:\n",
    "        return keys[0]\n",
    "    return None\n",
    "for value in cereales.values():\n",
    "    print (\"Para la llave '{}' el valor es {}\".format(get_key(cereales, value), values))"
   ]
  },
  {
   "cell_type": "code",
   "execution_count": null,
   "id": "2badb27f",
   "metadata": {},
   "outputs": [],
   "source": [
    "# Obtener Keys y Values al mismo tiempo\n",
    "\n",
    "for key, value in cereales.items():\n",
    "    print (\"Para la llave '{}' el valor es {}\".format(key, value))"
   ]
  },
  {
   "cell_type": "markdown",
   "id": "c774a5a4",
   "metadata": {},
   "source": [
    "\n",
    "# Metodos para manipulacion de diccionarios."
   ]
  },
  {
   "cell_type": "code",
   "execution_count": 57,
   "id": "16be5c3c",
   "metadata": {},
   "outputs": [
    {
     "name": "stdout",
     "output_type": "stream",
     "text": [
      "<class 'dict'> \n",
      "\n",
      "4 \n",
      "\n",
      "{'trix': 69.9, 'lucky charm': 64.7, 'cherios': 40.6, 'zucaritas': 60.5} \n",
      "\n",
      "<class 'dict'> \n",
      "\n",
      "0 \n",
      "\n",
      "{} \n",
      "\n"
     ]
    }
   ],
   "source": [
    "# Clear -> eliminar los elementos de un diccionario.\n",
    "\n",
    "cereales = {\n",
    "    'trix': 69.90,\n",
    "    'lucky charm':64.70,\n",
    "    'cherios': 40.60,\n",
    "    'zucaritas': 60.50,\n",
    "}\n",
    "\n",
    "print(type(cereales),'\\n')\n",
    "print(len(cereales),'\\n')\n",
    "print (cereales,'\\n')\n",
    "\n",
    "cereales.clear()\n",
    "print(type(cereales),'\\n')\n",
    "print(len(cereales),'\\n')\n",
    "print (cereales,'\\n')"
   ]
  },
  {
   "cell_type": "code",
   "execution_count": 59,
   "id": "38bd60ee",
   "metadata": {},
   "outputs": [
    {
     "name": "stdout",
     "output_type": "stream",
     "text": [
      "<class 'dict'> \n",
      "\n",
      "4 \n",
      "\n",
      "{'trix': 69.9, 'lucky charm': 64.7, 'cherios': 40.6, 'zucaritas': 60.5} \n",
      "\n",
      "<class 'dict'> \n",
      "\n",
      "4 \n",
      "\n",
      "{'trix': 69.9, 'lucky charm': 64.7, 'cherios': 40.6, 'zucaritas': 60.5} \n",
      "\n",
      "<class 'dict'> \n",
      "\n",
      "4 \n",
      "\n",
      "{'trix': 69.9, 'lucky charm': 64.7, 'cherios': 40.6, 'zucaritas': 60.5} \n",
      "\n",
      "<class 'dict'> \n",
      "\n",
      "0 \n",
      "\n",
      "{} \n",
      "\n"
     ]
    }
   ],
   "source": [
    "# copy -> Hace una copia del diccionario.\n",
    "cereales = {\n",
    "    'trix': 69.90,\n",
    "    'lucky charm':64.70,\n",
    "    'cherios': 40.60,\n",
    "    'zucaritas': 60.50,\n",
    "}\n",
    "\n",
    "print(type(cereales),'\\n')\n",
    "print(len(cereales),'\\n')\n",
    "print (cereales,'\\n')\n",
    "\n",
    "copy = cereales.copy()\n",
    "\n",
    "print(type(copy),'\\n')\n",
    "print(len(copy),'\\n')\n",
    "print (copy,'\\n')\n",
    "\n",
    "copy.clear()\n",
    "\n",
    "print(type(cereales),'\\n')\n",
    "print(len(cereales),'\\n')\n",
    "print (cereales,'\\n')\n",
    "\n",
    "print(type(copy),'\\n')\n",
    "print(len(copy),'\\n')\n",
    "print (copy,'\\n')\n"
   ]
  },
  {
   "cell_type": "code",
   "execution_count": 60,
   "id": "0248f85e",
   "metadata": {},
   "outputs": [
    {
     "name": "stdout",
     "output_type": "stream",
     "text": [
      "{'trix': 'Nombre de cereal', 'lucky charm': 'Nombre de cereal', 'cherios': 'Nombre de cereal', 'zucaritas': 'Nombre de cereal'}\n"
     ]
    }
   ],
   "source": [
    "# Fromkeys -> construir un nuevo diccionario tomando como referencia las keys de un diccionario.\n",
    "\n",
    "cereales = {\n",
    "    'trix': 69.90,\n",
    "    'lucky charm':64.70,\n",
    "    'cherios': 40.60,\n",
    "    'zucaritas': 60.50,\n",
    "}\n",
    "\n",
    "category = \"Nombre de cereal\"\n",
    "new_dict = dict.fromkeys(cereales, category)\n",
    "print(new_dict)"
   ]
  },
  {
   "cell_type": "code",
   "execution_count": 63,
   "id": "a57c5333",
   "metadata": {},
   "outputs": [
    {
     "name": "stdout",
     "output_type": "stream",
     "text": [
      "40.6\n",
      "40.6\n"
     ]
    }
   ],
   "source": [
    "# Get -> Obtner el valor de una diccionario de forma segura y con la opcion de configurar un valor por default.\n",
    "\n",
    "print(cereales['cherios']) # insegura\n",
    "print(cereales.get('cherios')) #segura\n"
   ]
  },
  {
   "cell_type": "code",
   "execution_count": 64,
   "id": "b470680e",
   "metadata": {},
   "outputs": [
    {
     "name": "stdout",
     "output_type": "stream",
     "text": [
      "None\n"
     ]
    }
   ],
   "source": [
    "print(cereales.get('korn flakes')) #segura"
   ]
  },
  {
   "cell_type": "code",
   "execution_count": 65,
   "id": "833189a5",
   "metadata": {},
   "outputs": [
    {
     "name": "stdout",
     "output_type": "stream",
     "text": [
      "60.4\n"
     ]
    }
   ],
   "source": [
    "# Forma segura de obtener un valor y configurando valor por default\n",
    "\n",
    "print(cereales.get('korn flakes', 60.40)) #segura"
   ]
  },
  {
   "cell_type": "code",
   "execution_count": 66,
   "id": "f2fd5803",
   "metadata": {},
   "outputs": [
    {
     "ename": "SyntaxError",
     "evalue": "incomplete input (3640424648.py, line 1)",
     "output_type": "error",
     "traceback": [
      "\u001b[1;36m  Cell \u001b[1;32mIn[66], line 1\u001b[1;36m\u001b[0m\n\u001b[1;33m    print(cereales('korn flakes') #error\u001b[0m\n\u001b[1;37m                                        ^\u001b[0m\n\u001b[1;31mSyntaxError\u001b[0m\u001b[1;31m:\u001b[0m incomplete input\n"
     ]
    }
   ],
   "source": [
    "print(cereales('korn flakes') #error"
   ]
  },
  {
   "cell_type": "code",
   "execution_count": 72,
   "id": "c4ab1bf8",
   "metadata": {},
   "outputs": [
    {
     "name": "stdout",
     "output_type": "stream",
     "text": [
      "El nombre 'trix' es la llave del cereal\n",
      "El nombre 'lucky charm' es la llave del cereal\n",
      "El nombre 'cherios' es la llave del cereal\n",
      "El nombre 'zucaritas' es la llave del cereal\n"
     ]
    }
   ],
   "source": [
    "# Key -> Obtener llaves de un diccionario.\n",
    "\n",
    "cereales = {\n",
    "    'trix': 69.90,\n",
    "    'lucky charm':64.70,\n",
    "    'cherios': 40.60,\n",
    "    'zucaritas': 60.50,\n",
    "}\n",
    "\n",
    "for key in cereales.keys():\n",
    "    print(\"El nombre '{}' es la llave del cereal\".format(key))\n",
    "\n"
   ]
  },
  {
   "cell_type": "code",
   "execution_count": 73,
   "id": "65fdb7a5",
   "metadata": {},
   "outputs": [
    {
     "name": "stdout",
     "output_type": "stream",
     "text": [
      "El precio '69.9' es el valor del cereal\n",
      "El precio '64.7' es el valor del cereal\n",
      "El precio '40.6' es el valor del cereal\n",
      "El precio '60.5' es el valor del cereal\n"
     ]
    }
   ],
   "source": [
    "# Values -. Obitiene los valores del diccionario.\n",
    "\n",
    "cereales = {\n",
    "    'trix': 69.90,\n",
    "    'lucky charm':64.70,\n",
    "    'cherios': 40.60,\n",
    "    'zucaritas': 60.50,\n",
    "}\n",
    "\n",
    "for value in cereales.values():\n",
    "    print(\"El precio '{}' es el valor del cereal\".format(value))"
   ]
  },
  {
   "cell_type": "code",
   "execution_count": 74,
   "id": "33e0c6c7",
   "metadata": {},
   "outputs": [
    {
     "name": "stdout",
     "output_type": "stream",
     "text": [
      "<class 'dict'> \n",
      "\n",
      "4 \n",
      "\n",
      "{'trix': 69.9, 'lucky charm': 64.7, 'cherios': 40.6, 'zucaritas': 60.5} \n",
      "\n",
      "<class 'dict'> \n",
      "\n",
      "3 \n",
      "\n",
      "{'lucky charm': 64.7, 'cherios': 40.6, 'zucaritas': 60.5}\n"
     ]
    }
   ],
   "source": [
    "# POP -> Elimina la llave y valor de un diccionario pasando la llave como parametro. \n",
    "\n",
    "cereales = {\n",
    "    'trix': 69.90,\n",
    "    'lucky charm':64.70,\n",
    "    'cherios': 40.60,\n",
    "    'zucaritas': 60.50,\n",
    "}\n",
    "\n",
    "print(type(cereales),'\\n')\n",
    "print(len(cereales),'\\n')\n",
    "print(cereales,'\\n')\n",
    "\n",
    "cereales.pop('trix')\n",
    "print(type(cereales),'\\n')\n",
    "print(len(cereales),'\\n')\n",
    "print(cereales)\n"
   ]
  },
  {
   "cell_type": "code",
   "execution_count": 75,
   "id": "932117f6",
   "metadata": {},
   "outputs": [
    {
     "ename": "KeyError",
     "evalue": "'korn flakes'",
     "output_type": "error",
     "traceback": [
      "\u001b[1;31m---------------------------------------------------------------------------\u001b[0m",
      "\u001b[1;31mKeyError\u001b[0m                                  Traceback (most recent call last)",
      "Cell \u001b[1;32mIn[75], line 1\u001b[0m\n\u001b[1;32m----> 1\u001b[0m \u001b[43mcereales\u001b[49m\u001b[38;5;241;43m.\u001b[39;49m\u001b[43mpop\u001b[49m\u001b[43m(\u001b[49m\u001b[38;5;124;43m'\u001b[39;49m\u001b[38;5;124;43mkorn flakes\u001b[39;49m\u001b[38;5;124;43m'\u001b[39;49m\u001b[43m)\u001b[49m\n\u001b[0;32m      2\u001b[0m \u001b[38;5;28mprint\u001b[39m(\u001b[38;5;28mtype\u001b[39m(cereales),\u001b[38;5;124m'\u001b[39m\u001b[38;5;130;01m\\n\u001b[39;00m\u001b[38;5;124m'\u001b[39m)\n\u001b[0;32m      3\u001b[0m \u001b[38;5;28mprint\u001b[39m(\u001b[38;5;28mlen\u001b[39m(cereales),\u001b[38;5;124m'\u001b[39m\u001b[38;5;130;01m\\n\u001b[39;00m\u001b[38;5;124m'\u001b[39m)\n",
      "\u001b[1;31mKeyError\u001b[0m: 'korn flakes'"
     ]
    }
   ],
   "source": [
    "cereales.pop('korn flakes') # Se detiene el programa\n",
    "print(type(cereales),'\\n')\n",
    "print(len(cereales),'\\n')\n",
    "print(cereales)\n"
   ]
  },
  {
   "cell_type": "code",
   "execution_count": 77,
   "id": "9034664c",
   "metadata": {},
   "outputs": [
    {
     "name": "stdout",
     "output_type": "stream",
     "text": [
      "<class 'dict'> \n",
      "\n",
      "3 \n",
      "\n",
      "{'lucky charm': 64.7, 'cherios': 40.6, 'zucaritas': 60.5}\n",
      "El cereal se acabo mi man\n"
     ]
    }
   ],
   "source": [
    "print(type(cereales),'\\n')\n",
    "print(len(cereales),'\\n')\n",
    "print(cereales)\n",
    "\n",
    "if 'Korn Flakes' in cereales.keys():\n",
    "    cereales.pop('korn flakes') \n",
    "    print(type(cereales),'\\n')\n",
    "    print(len(cereales),'\\n')\n",
    "    print(cereales,'\\n')\n",
    "else:\n",
    "    print(\"El cereal se acabo mi man\")"
   ]
  },
  {
   "cell_type": "code",
   "execution_count": 78,
   "id": "da0b44b8",
   "metadata": {},
   "outputs": [
    {
     "name": "stdout",
     "output_type": "stream",
     "text": [
      "<class 'dict'> \n",
      "\n",
      "4 \n",
      "\n",
      "{'trix': 69.9, 'lucky charm': 64.7, 'cherios': 40.6, 'zucaritas': 60.5} \n",
      "\n",
      "<class 'dict'> \n",
      "\n",
      "3 \n",
      "\n",
      "{'trix': 69.9, 'lucky charm': 64.7, 'cherios': 40.6}\n",
      "<class 'dict'> \n",
      "\n",
      "2 \n",
      "\n",
      "{'trix': 69.9, 'lucky charm': 64.7}\n"
     ]
    }
   ],
   "source": [
    "# popitem -> Elimina el indice -1 (EL ultimo del diccionario, pues)\n",
    "\n",
    "cereales = {\n",
    "    'trix': 69.90,\n",
    "    'lucky charm':64.70,\n",
    "    'cherios': 40.60,\n",
    "    'zucaritas': 60.50,\n",
    "}\n",
    "\n",
    "print(type(cereales),'\\n')\n",
    "print(len(cereales),'\\n')\n",
    "print(cereales,'\\n')\n",
    "\n",
    "cereales.popitem()\n",
    "print(type(cereales),'\\n')\n",
    "print(len(cereales),'\\n')\n",
    "print(cereales)\n",
    "\n",
    "cereales.popitem()\n",
    "print(type(cereales),'\\n')\n",
    "print(len(cereales),'\\n')\n",
    "print(cereales)\n",
    "\n",
    "\n",
    "\n"
   ]
  },
  {
   "cell_type": "code",
   "execution_count": 85,
   "id": "8fb769ae",
   "metadata": {},
   "outputs": [
    {
     "name": "stdout",
     "output_type": "stream",
     "text": [
      "<class 'dict'> \n",
      "\n",
      "4 \n",
      "\n",
      "{'trix': 69.9, 'lucky charm': 64.7, 'cherios': 40.6, 'zucaritas': 60.5} \n",
      "\n",
      "<class 'dict'> \n",
      "\n",
      "3 \n",
      "\n",
      "{'lucky charm': 64.7, 'cherios': 40.6, 'zucaritas': 60.5} \n",
      "\n",
      "El precio del trix en aurrera es de 69.9 \n",
      "\n",
      "El precio del trix en walmart es de 70.5 \n",
      "\n",
      "<class 'dict'> \n",
      "\n",
      "4 \n",
      "\n",
      "{'lucky charm': 64.7, 'cherios': 40.6, 'zucaritas': 60.5, 'trix': 70.5}\n"
     ]
    }
   ],
   "source": [
    "# setdefault \n",
    "#-> Configura un valor por default para cierta llave en caso de que no se encuentre en el diccionario\n",
    "#-> Si la llave esta presente, no tendrá ningún efecto. \n",
    "# Si la llave no esta, entonces configurará el valor para esa llave.\n",
    "\n",
    "\n",
    "cereales_aurrera = {\n",
    "    'trix': 69.90,\n",
    "    'lucky charm':64.70,\n",
    "    'cherios': 40.60,\n",
    "    'zucaritas': 60.50,\n",
    "}\n",
    "\n",
    "cereales_walmart = {\n",
    "    'lucky charm':64.70,\n",
    "    'cherios': 40.60,\n",
    "    'zucaritas': 60.50,\n",
    "}\n",
    "\n",
    "print(type(cereales_aurrera),'\\n')\n",
    "print(len(cereales_aurrera),'\\n')\n",
    "print(cereales_aurrera,'\\n')\n",
    "\n",
    "print(type(cereales_walmart),'\\n')\n",
    "print(len(cereales_walmart),'\\n')\n",
    "print(cereales_walmart,'\\n')\n",
    "\n",
    "cereales_aurrera.setdefault('trix', 70.50)\n",
    "cereales_walmart.setdefault('trix', 70.50)\n",
    "\n",
    "print(\"El precio del trix en aurrera es de\",cereales_aurrera.get('trix'),'\\n')\n",
    "print(\"El precio del trix en walmart es de\",cereales_walmart.get('trix'),'\\n')\n",
    "\n",
    "\n",
    "print(type(cereales_walmart),'\\n')\n",
    "print(len(cereales_walmart),'\\n')\n",
    "print(cereales_walmart)"
   ]
  }
 ],
 "metadata": {
  "kernelspec": {
   "display_name": "Python 3 (ipykernel)",
   "language": "python",
   "name": "python3"
  },
  "language_info": {
   "codemirror_mode": {
    "name": "ipython",
    "version": 3
   },
   "file_extension": ".py",
   "mimetype": "text/x-python",
   "name": "python",
   "nbconvert_exporter": "python",
   "pygments_lexer": "ipython3",
   "version": "3.11.3"
  }
 },
 "nbformat": 4,
 "nbformat_minor": 5
}
