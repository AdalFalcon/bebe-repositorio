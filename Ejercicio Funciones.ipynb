{
 "cells": [
  {
   "cell_type": "code",
   "execution_count": null,
   "id": "a64cb03a",
   "metadata": {},
   "outputs": [],
   "source": [
    "# Inicio de sesión.\n",
    "\n",
    "def inicio_sesion (nombre,sexo, halago):\n",
    "    nombre = input(\"Ingrese su nombre: \")\n",
    "    sexo = input(\"Ingrese su sexo (mujer/hombre): \").lower()\n",
    "    if (sexo == \"mujer\"):\n",
    "        saludo = \"bienvenida\"\n",
    "        halago = \"reinota\"\n",
    "    elif (sexo == \"hombre\"):\n",
    "        saludo = \"bienvenido\"\n",
    "        halago = \"mi rey\"\n",
    "    else:\n",
    "        saludo = \"bienvenide\"\n",
    "        halago = \"cariñe\"\n",
    "    \n",
    "        \n",
    "    print(\"Hola {}, {}. ¿Que necesitas hoy, {}?\".format(nombre, saludo, halago))\n",
    "\n",
    "inicio_sesion(\"nombre\", \"sexo\", \"halago\")"
   ]
  },
  {
   "cell_type": "code",
   "execution_count": null,
   "id": "d7d99425",
   "metadata": {},
   "outputs": [],
   "source": [
    "#Carrrio\n",
    "\n",
    "def carrito (producto, cantidad):\n",
    "    producto = input(\"Ingrese el producto: \")\n",
    "    cantidad = input(\"Ingrese la cantidad: \")\n",
    "   \n",
    "    print(\"Se agrego a tu carrito {1} de {0} )\".format(producto, cantidad))\n",
    "    \n",
    "carrito (\"producto\", \"cantidad\")"
   ]
  },
  {
   "cell_type": "code",
   "execution_count": null,
   "id": "e79b0e84",
   "metadata": {},
   "outputs": [],
   "source": [
    "# Calcular el precio total\n",
    "\n",
    "calcular_precio_total = lambda precio, cantidad: precio * cantidad\n",
    "\n",
    "def carrito(*args):\n",
    "    producto = input(\"Ingrese el producto: \")\n",
    "    cantidad = int(input(\"Ingrese la cantidad: \"))\n",
    "    precio_unitario = float(input(\"Ingrese el precio unitario del producto: \"))\n",
    "   \n",
    "    precio_total = calcular_precio_total(precio_unitario, cantidad)\n",
    "\n",
    "    return \"El total a por {1} {0} pagar en tu carrito es ${2}\".format(producto, cantidad, precio_total)\n",
    "\n",
    "# Llamada a la función e impresión del resultado\n",
    "resultado = carrito()\n",
    "print(resultado)"
   ]
  }
 ],
 "metadata": {
  "kernelspec": {
   "display_name": "Python 3 (ipykernel)",
   "language": "python",
   "name": "python3"
  },
  "language_info": {
   "codemirror_mode": {
    "name": "ipython",
    "version": 3
   },
   "file_extension": ".py",
   "mimetype": "text/x-python",
   "name": "python",
   "nbconvert_exporter": "python",
   "pygments_lexer": "ipython3",
   "version": "3.11.3"
  }
 },
 "nbformat": 4,
 "nbformat_minor": 5
}
