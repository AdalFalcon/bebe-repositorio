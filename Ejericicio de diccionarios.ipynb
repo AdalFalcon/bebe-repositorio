{
 "cells": [
  {
   "cell_type": "code",
   "execution_count": 1,
   "id": "7067ab8c",
   "metadata": {},
   "outputs": [
    {
     "name": "stdout",
     "output_type": "stream",
     "text": [
      "\n",
      "Ingresa el nombre de un Pokémon:\n",
      "pikachu\n",
      "\n",
      "ID: 25\n",
      "Nombre: pikachu\n",
      "Altura: 4\n",
      "Peso: 60\n",
      "Descripción: Le gusta relajarse\n",
      "\n",
      "======= Pokedex =======\n",
      "pikachu: ID - 25, Altura - 4, Peso - 60\n",
      "Descripción: Le gusta relajarse\n",
      "\n",
      "=======================\n"
     ]
    }
   ],
   "source": [
    "import pokebase as pb\n",
    "import requests\n",
    "import json\n",
    "\n",
    "def obtener_informacion_pokemon(nombre):\n",
    "    data = pb.pokemon(nombre).__dict__\n",
    "    id_ = data.get('id_')\n",
    "    name = data.get('name')\n",
    "    height = data.get('height')\n",
    "    weight = data.get('weight')\n",
    "\n",
    "    print(\"\\nID:\", id_)\n",
    "    print(\"Nombre:\", name)\n",
    "    print(\"Altura:\", height)\n",
    "    print(\"Peso:\", weight)\n",
    "\n",
    "    url = f\"https://pokeapi.co/api/v2/characteristic/{id_}/\"\n",
    "    response = requests.get(url)\n",
    "    for description_dict in response.json().get(\"descriptions\"):\n",
    "        if description_dict.get(\"language\", {}).get(\"name\") == \"es\":\n",
    "            description = description_dict.get(\"description\")\n",
    "            print(\"Descripción:\", description)\n",
    "\n",
    "    return {'ID': id_, 'Altura': height, 'Peso': weight, 'Descripción': description}\n",
    "\n",
    "def guardar_en_pokedex(pokedex, nombre, informacion):\n",
    "    pokedex[nombre] = informacion\n",
    "    with open('pokedex.json', 'w') as file:\n",
    "        json.dump(pokedex, file, indent=2)\n",
    "\n",
    "def cargar_pokedex():\n",
    "    try:\n",
    "        with open('pokedex.json', 'r') as file:\n",
    "            return json.load(file)\n",
    "    except FileNotFoundError:\n",
    "        return {}\n",
    "\n",
    "# Pedir al usuario que ingrese el nombre de un Pokémon\n",
    "pokemon_to_search = input(\"\\nIngresa el nombre de un Pokémon:\\n\")\n",
    "\n",
    "# Obtener información del Pokémon\n",
    "info_pokemon = obtener_informacion_pokemon(pokemon_to_search)\n",
    "\n",
    "# Cargar el Pokedex existente o crear uno nuevo\n",
    "pokedex = cargar_pokedex()\n",
    "\n",
    "# Guardar la información del Pokémon en el Pokedex\n",
    "guardar_en_pokedex(pokedex, pokemon_to_search, info_pokemon)\n",
    "\n",
    "# Mostrar el Pokedex\n",
    "print(\"\\n======= Pokedex =======\")\n",
    "for nombre, info in pokedex.items():\n",
    "    print(f'{nombre}: ID - {info[\"ID\"]}, Altura - {info[\"Altura\"]}, Peso - {info[\"Peso\"]}')\n",
    "    print(f'Descripción: {info[\"Descripción\"]}\\n')\n",
    "print(\"=======================\")"
   ]
  }
 ],
 "metadata": {
  "kernelspec": {
   "display_name": "Python 3 (ipykernel)",
   "language": "python",
   "name": "python3"
  },
  "language_info": {
   "codemirror_mode": {
    "name": "ipython",
    "version": 3
   },
   "file_extension": ".py",
   "mimetype": "text/x-python",
   "name": "python",
   "nbconvert_exporter": "python",
   "pygments_lexer": "ipython3",
   "version": "3.11.3"
  }
 },
 "nbformat": 4,
 "nbformat_minor": 5
}
