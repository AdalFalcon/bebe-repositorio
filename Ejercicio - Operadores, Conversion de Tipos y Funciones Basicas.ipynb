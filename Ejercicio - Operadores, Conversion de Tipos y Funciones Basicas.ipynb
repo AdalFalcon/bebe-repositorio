{
 "cells": [
  {
   "cell_type": "code",
   "execution_count": 3,
   "id": "283dbaba",
   "metadata": {},
   "outputs": [],
   "source": [
    "num_1 = 45.7\n",
    "num_2 = -14\n",
    "num_3 = 6**8\n",
    "num_4 = 27+2j\n",
    "num_5 = 22"
   ]
  },
  {
   "cell_type": "code",
   "execution_count": 24,
   "id": "22126dad",
   "metadata": {},
   "outputs": [
    {
     "name": "stdout",
     "output_type": "stream",
     "text": [
      "el resultado de la suma_1 es <class 'float'> 31.700000000000003\n",
      "el resultado de la resta_1 es <class 'complex'> (41+2j)\n",
      "el resultado de la multiplicacion_1 es <class 'int'> -308\n",
      "el resultado de la division_1 es <class 'float'> -8.335238530711781e-06\n"
     ]
    }
   ],
   "source": [
    "# Suma  \n",
    "    \n",
    "suma_1 = num_1 + num_2\n",
    "print('el resultado de la suma_1 es', type(num_1 + num_2), (num_1 + num_2))\n",
    "\n",
    "# Resta\n",
    "\n",
    "resta_1 = num_4 - num_2\n",
    "print('el resultado de la resta_1 es', type(num_4 - num_2), (num_4 - num_2))\n",
    "\n",
    "# Multiplicación\n",
    "\n",
    "multiplicación_1 = num_3 * num_5\n",
    "print('el resultado de la multiplicacion_1 es', type(num_5 * num_2), (num_5 * num_2))\n",
    "\n",
    "# Division\n",
    "\n",
    "division_1 = num_3 / num_2\n",
    "print('el resultado de la division_1 es', type(num_2 / num_3), (num_2 / num_3))"
   ]
  },
  {
   "cell_type": "code",
   "execution_count": 33,
   "id": "072044a9",
   "metadata": {},
   "outputs": [
    {
     "name": "stdout",
     "output_type": "stream",
     "text": [
      "<class 'list'>\n"
     ]
    }
   ],
   "source": [
    "# lista\n",
    "\n",
    "mi_lista = [\"jamon\", \"queso\", \"lechuga\", \"pan\", \"mayonesa\"]\n",
    "precio_1 = 50\n",
    "precio_2 = 30\n",
    "precio_3 = 15\n",
    "precio_4 = 30 \n",
    "precio_5 = 47\n",
    "print(type(mi_lista))"
   ]
  },
  {
   "cell_type": "code",
   "execution_count": 39,
   "id": "8830ebb2",
   "metadata": {},
   "outputs": [
    {
     "name": "stdout",
     "output_type": "stream",
     "text": [
      "El jamon es mas barato que la lechuga? <class 'bool'> False\n"
     ]
    }
   ],
   "source": [
    "jamon = precio_1\n",
    "queso = precio_2\n",
    "lechuga = precio_3\n",
    "pan = precio_4\n",
    "mayonesa = precio_5\n",
    "\n",
    "print(\"El jamon es mas barato que la lechuga?\", type(jamon < lechuga),(jamon < lechuga))"
   ]
  },
  {
   "cell_type": "code",
   "execution_count": 42,
   "id": "5e77130d",
   "metadata": {},
   "outputs": [
    {
     "name": "stdout",
     "output_type": "stream",
     "text": [
      "La mayonesa es igual o más barata que el jamon? <class 'bool'> True\n"
     ]
    }
   ],
   "source": [
    "print(\"La mayonesa es igual o más barata que el jamon?\", type(mayonesa <= jamon),(mayonesa <= jamon))"
   ]
  },
  {
   "cell_type": "code",
   "execution_count": 48,
   "id": "dd4115ab",
   "metadata": {},
   "outputs": [
    {
     "name": "stdout",
     "output_type": "stream",
     "text": [
      "Esta la lechuga en la lista de compra? <class 'list'> True\n"
     ]
    }
   ],
   "source": [
    "print(\"Esta la lechuga en la lista de compra?\", type(mi_lista), \"jamon\" in mi_lista)"
   ]
  },
  {
   "cell_type": "code",
   "execution_count": 49,
   "id": "a791a7ca",
   "metadata": {},
   "outputs": [
    {
     "name": "stdout",
     "output_type": "stream",
     "text": [
      "Estan los jitomates en la lista de compra? <class 'list'> False\n"
     ]
    }
   ],
   "source": [
    "print(\"Estan los jitomates en la lista de compra?\", type(mi_lista), \"jitomates\" in mi_lista)"
   ]
  },
  {
   "cell_type": "code",
   "execution_count": 50,
   "id": "e83dfda4",
   "metadata": {},
   "outputs": [
    {
     "name": "stdout",
     "output_type": "stream",
     "text": [
      "No estan los pepinillos en la lista de compra? <class 'list'> True\n"
     ]
    }
   ],
   "source": [
    "print(\"No estan los pepinillos en la lista de compra?\", type(mi_lista), \"pepinillos\" not in mi_lista)"
   ]
  },
  {
   "cell_type": "code",
   "execution_count": 53,
   "id": "9213dcde",
   "metadata": {},
   "outputs": [
    {
     "name": "stdout",
     "output_type": "stream",
     "text": [
      "Hay mayonesa y pan en la alacena para un sandwich? <class 'list'> True\n"
     ]
    }
   ],
   "source": [
    "print(\"Hay mayonesa y pan en la alacena para un sandwich?\", type(mi_lista), bool(mayonesa and pan))"
   ]
  },
  {
   "cell_type": "code",
   "execution_count": 62,
   "id": "bfd26077",
   "metadata": {},
   "outputs": [
    {
     "name": "stdout",
     "output_type": "stream",
     "text": [
      "Me alcanza para un sandwich con 150 pesos? <class 'bool'> False\n"
     ]
    }
   ],
   "source": [
    "print(\"Me alcanza para un sandwich con 150 pesos?\", type(150 > jamon+lechuga+queso+pan+mayonesa),(150 > jamon+lechuga+queso+pan+mayonesa))"
   ]
  },
  {
   "cell_type": "code",
   "execution_count": 64,
   "id": "9ce4c72c",
   "metadata": {},
   "outputs": [
    {
     "name": "stdout",
     "output_type": "stream",
     "text": [
      "No cuestan lo mismo el queso y el pan? <class 'bool'> True\n"
     ]
    }
   ],
   "source": [
    "print(\"No cuestan lo mismo el queso y el pan?\", type(queso == pan), (queso == pan))"
   ]
  },
  {
   "cell_type": "code",
   "execution_count": 66,
   "id": "b926dc9f",
   "metadata": {},
   "outputs": [
    {
     "name": "stdout",
     "output_type": "stream",
     "text": [
      "Estan el pan o la matequilla en la lista? <class 'str'> True\n"
     ]
    }
   ],
   "source": [
    "print(\"Estan el pan o la matequilla en la lista?\", type(\"pan\"or\"mantequilla\"),bool(\"pan\"or\"mantequilla\"))"
   ]
  }
 ],
 "metadata": {
  "kernelspec": {
   "display_name": "Python 3 (ipykernel)",
   "language": "python",
   "name": "python3"
  },
  "language_info": {
   "codemirror_mode": {
    "name": "ipython",
    "version": 3
   },
   "file_extension": ".py",
   "mimetype": "text/x-python",
   "name": "python",
   "nbconvert_exporter": "python",
   "pygments_lexer": "ipython3",
   "version": "3.11.3"
  }
 },
 "nbformat": 4,
 "nbformat_minor": 5
}
