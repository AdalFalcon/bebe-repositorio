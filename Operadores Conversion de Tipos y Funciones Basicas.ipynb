{
 "cells": [
  {
   "cell_type": "markdown",
   "id": "a777d582",
   "metadata": {},
   "source": [
    "# Operadores y tipos de operadores"
   ]
  },
  {
   "cell_type": "markdown",
   "id": "c222fcb3",
   "metadata": {},
   "source": [
    "¿Que son los operadores?\n",
    "\n",
    "- Son un conjunto de simbolos para un lenguaje de programación\n",
    "- Pueden decirle al compilador o interprete que ejecute ciertas accones para producir un resultado final.\n",
    "- Puede ser usado paara aplicar operraciones en una variable\n",
    "- Pueden ser clasisificados según su tipo (Aritméticos, relacionales, de asignación, lógicos, afiliación y de identidad)"
   ]
  },
  {
   "cell_type": "markdown",
   "id": "94ff8496",
   "metadata": {},
   "source": [
    "## Tipos de operadores:\n",
    "\n",
    "- Aritméticos ( suma \" + \", resta \" - \", multiplicación \" * \", división \" / \", division baja \" // \", Exponente \" ** \" )\n",
    "- Relacionales (Igual a \" = = \", Diferente a \" =! \" Mayor que \" > \". Mayor o igual que \" >= \" Menor que \" < \" Menor o igual que \" <= \" ) \n",
    "- De Asignación (Operador de asignación \" = \"  Sumar y Asignar \" += \", Restar y Asignar \" -= \", Multiplicar y Asignar \" *= \", Dividir y Asignar \" /= \" Divison redonda y asignar \" //= \", Modulo y asignar \" %= \", Esponente y asignar \" **= \"  \n",
    "- Lógicos de Afiliación\n",
    "- De identidad"
   ]
  },
  {
   "cell_type": "code",
   "execution_count": 2,
   "id": "6b95aba3",
   "metadata": {},
   "outputs": [
    {
     "name": "stdout",
     "output_type": "stream",
     "text": [
      "El resutltado de la suma de num_1+num_2 es: 800\n"
     ]
    }
   ],
   "source": [
    "# suma \" + \" :\n",
    "num_1 = 500\n",
    "num_2 = 300\n",
    "print(\"El resutltado de la suma de num_1 + num_2 es:\", num_1 + num_2)"
   ]
  },
  {
   "cell_type": "code",
   "execution_count": 3,
   "id": "bf5aa0ab",
   "metadata": {},
   "outputs": [
    {
     "name": "stdout",
     "output_type": "stream",
     "text": [
      "El resutltado de la resta de num_1 - num_2 es: 200\n"
     ]
    }
   ],
   "source": [
    "# resta \" - \" :\n",
    "num_1 = 500\n",
    "num_2 = 300\n",
    "print(\"El resutltado de la resta de num_1 - num_2 es:\", num_1 - num_2)"
   ]
  },
  {
   "cell_type": "code",
   "execution_count": 4,
   "id": "6f9ae0cb",
   "metadata": {},
   "outputs": [
    {
     "name": "stdout",
     "output_type": "stream",
     "text": [
      "El resutltado de la multiplicación de num_1 * num_2 es: 150000\n"
     ]
    }
   ],
   "source": [
    "# multiplicación \" * \" :\n",
    "num_1 = 500\n",
    "num_2 = 300\n",
    "print(\"El resutltado de la multiplicación de num_1 * num_2 es:\", num_1 * num_2)"
   ]
  },
  {
   "cell_type": "code",
   "execution_count": 5,
   "id": "887add5a",
   "metadata": {},
   "outputs": [
    {
     "name": "stdout",
     "output_type": "stream",
     "text": [
      "El resutltado de la División de num_1 / num_2 es: 1.6666666666666667\n"
     ]
    }
   ],
   "source": [
    "# División \" / \"\n",
    "num_1 = 500\n",
    "num_2 = 300\n",
    "print(\"El resutltado de la División de num_1 / num_2 es:\", num_1 / num_2)"
   ]
  },
  {
   "cell_type": "code",
   "execution_count": 6,
   "id": "f14f2434",
   "metadata": {},
   "outputs": [
    {
     "name": "stdout",
     "output_type": "stream",
     "text": [
      "El resutltado de la División de num_1 // num_2 es: 1\n"
     ]
    }
   ],
   "source": [
    "# División con redondeo bajo \" // \"\n",
    "num_1 = 500\n",
    "num_2 = 300\n",
    "print(\"El resutltado de la División de num_1 // num_2 es:\", num_1 // num_2)"
   ]
  },
  {
   "cell_type": "code",
   "execution_count": 7,
   "id": "f2c2257f",
   "metadata": {},
   "outputs": [
    {
     "name": "stdout",
     "output_type": "stream",
     "text": [
      "El resutltado de la División de num_1 // num_2 es: 0\n"
     ]
    }
   ],
   "source": [
    "# División con redondeo bajo \" // \"\n",
    "num_1 = 200\n",
    "num_2 = 900\n",
    "print(\"El resutltado de la División de num_1 // num_2 es:\", num_1 // num_2)"
   ]
  },
  {
   "cell_type": "code",
   "execution_count": 8,
   "id": "13658e3c",
   "metadata": {},
   "outputs": [
    {
     "name": "stdout",
     "output_type": "stream",
     "text": [
      "El resutltado de de num_1 // num_2 es: 32\n"
     ]
    }
   ],
   "source": [
    "# Exponente \" ** \"\n",
    "num_1 = 2\n",
    "num_2 = 5\n",
    "print(\"El resutltado de de num_1 // num_2 es:\", num_1** num_2) # 2*2*2*2*2"
   ]
  },
  {
   "cell_type": "code",
   "execution_count": 9,
   "id": "a9baacdf",
   "metadata": {},
   "outputs": [
    {
     "name": "stdout",
     "output_type": "stream",
     "text": [
      "El resutltado de de num_1 // num_2 es: 27\n"
     ]
    }
   ],
   "source": [
    "# Exponente \" ** \"\n",
    "num_1 = 3\n",
    "num_2 = 3\n",
    "print(\"El resutltado de de num_1 // num_2 es:\", num_1** num_2) # 3*3*3"
   ]
  },
  {
   "cell_type": "markdown",
   "id": "50ffa4a3",
   "metadata": {},
   "source": [
    "## Operadores Realcionales\n",
    "\n",
    "¿Qué son los operadores relacionles?\n",
    "- Son conocidos como operadores de comparación.\n",
    "- Regresan un valor booleano (True / False).\n",
    "- En Python son usados para comparar o relacionar los valores.\n",
    "- True es el resultado de cuando la condición se cumple.\n",
    "- False es cuando la condición no se cumple.\n",
    "- Estos operadores se ancargan de las opeaciones de comparación."
   ]
  },
  {
   "cell_type": "code",
   "execution_count": 11,
   "id": "9069dc65",
   "metadata": {},
   "outputs": [
    {
     "name": "stdout",
     "output_type": "stream",
     "text": [
      "El resultado de num_1 == num_2 es: False\n"
     ]
    }
   ],
   "source": [
    "# \" == \" Igual a \n",
    "\n",
    "num_1 = 570\n",
    "num_2 = 420\n",
    "print(\"El resultado de num_1 == num_2 es:\", num_1 == num_2) "
   ]
  },
  {
   "cell_type": "code",
   "execution_count": 12,
   "id": "360bdf69",
   "metadata": {},
   "outputs": [
    {
     "name": "stdout",
     "output_type": "stream",
     "text": [
      "El resultado de num_1 == num_2 es: True\n"
     ]
    }
   ],
   "source": [
    "num_1 = 570\n",
    "num_2 = 570\n",
    "print(\"El resultado de num_1 == num_2 es:\", num_1 == num_2) "
   ]
  },
  {
   "cell_type": "code",
   "execution_count": 16,
   "id": "f85c85db",
   "metadata": {},
   "outputs": [
    {
     "name": "stdout",
     "output_type": "stream",
     "text": [
      "El resultado de num_1 == num_2 es: True\n"
     ]
    }
   ],
   "source": [
    "str_1 = \"Cochiloco McGee\"\n",
    "str_2 = \"Cochiloco McGee\"\n",
    "print(\"El resultado de num_1 == num_2 es:\", str_1 == str_2) "
   ]
  },
  {
   "cell_type": "code",
   "execution_count": 17,
   "id": "ccea7c2b",
   "metadata": {},
   "outputs": [
    {
     "name": "stdout",
     "output_type": "stream",
     "text": [
      "El resultado de num_1 == num_2 es: False\n"
     ]
    }
   ],
   "source": [
    "str_1 = \"Cochiloco MgGee\"\n",
    "str_2 = \"Cochiloco McGee\"\n",
    "print(\"El resultado de num_1 == num_2 es:\", str_1 == str_2) "
   ]
  },
  {
   "cell_type": "code",
   "execution_count": 19,
   "id": "8d3e0efa",
   "metadata": {},
   "outputs": [
    {
     "name": "stdout",
     "output_type": "stream",
     "text": [
      "El resultado de num_1 =! num_2 es: True\n"
     ]
    }
   ],
   "source": [
    "# \" != \" Diferente a\n",
    "num_1 = 570\n",
    "num_2 = 420\n",
    "print(\"El resultado de num_1 =! num_2 es:\", num_1 != num_2) \n"
   ]
  },
  {
   "cell_type": "code",
   "execution_count": 20,
   "id": "1bdf7039",
   "metadata": {},
   "outputs": [
    {
     "name": "stdout",
     "output_type": "stream",
     "text": [
      "El resultado de num_1 =! num_2 es: False\n"
     ]
    }
   ],
   "source": [
    "# \" != \" Diferente a\n",
    "num_1 = 570\n",
    "num_2 = 570\n",
    "print(\"El resultado de num_1 =! num_2 es:\", num_1 != num_2) "
   ]
  },
  {
   "cell_type": "code",
   "execution_count": 21,
   "id": "e5906d6f",
   "metadata": {},
   "outputs": [
    {
     "name": "stdout",
     "output_type": "stream",
     "text": [
      "El resultado de num_1 != num_2 es: False\n"
     ]
    }
   ],
   "source": [
    "str_1 = \"Cochiloco McGee\"\n",
    "str_2 = \"Cochiloco McGee\"\n",
    "print(\"El resultado de num_1 != num_2 es:\", str_1 != str_2) "
   ]
  },
  {
   "cell_type": "code",
   "execution_count": 22,
   "id": "9cc191de",
   "metadata": {},
   "outputs": [
    {
     "name": "stdout",
     "output_type": "stream",
     "text": [
      "El resultado de num_1 != num_2 es: True\n"
     ]
    }
   ],
   "source": [
    "str_1 = \"Cochiloco McGee\"\n",
    "str_2 = \"Cochiloco MgGee\"\n",
    "print(\"El resultado de num_1 != num_2 es:\", str_1 != str_2) "
   ]
  },
  {
   "cell_type": "code",
   "execution_count": 23,
   "id": "624be68b",
   "metadata": {},
   "outputs": [
    {
     "name": "stdout",
     "output_type": "stream",
     "text": [
      "El resultado de num_1 > num_2 es: True\n"
     ]
    }
   ],
   "source": [
    "# Mayor que \" > \"\n",
    "num_1 = 570\n",
    "num_2 = 420\n",
    "print(\"El resultado de num_1 > num_2 es:\", num_1 > num_2) "
   ]
  },
  {
   "cell_type": "code",
   "execution_count": 24,
   "id": "a401eeed",
   "metadata": {},
   "outputs": [
    {
     "name": "stdout",
     "output_type": "stream",
     "text": [
      "El resultado de num_1 > num_2 es: False\n"
     ]
    }
   ],
   "source": [
    "num_1 = 570\n",
    "num_2 = 570\n",
    "print(\"El resultado de num_1 > num_2 es:\", num_1 > num_2) "
   ]
  },
  {
   "cell_type": "code",
   "execution_count": 25,
   "id": "35d0a033",
   "metadata": {},
   "outputs": [
    {
     "name": "stdout",
     "output_type": "stream",
     "text": [
      "El resultado de num_1 > num_2 es: False\n"
     ]
    }
   ],
   "source": [
    "num_1 = 420\n",
    "num_2 = 570\n",
    "print(\"El resultado de num_1 > num_2 es:\", num_1 > num_2) "
   ]
  },
  {
   "cell_type": "code",
   "execution_count": 28,
   "id": "3fb5bdcb",
   "metadata": {},
   "outputs": [
    {
     "name": "stdout",
     "output_type": "stream",
     "text": [
      "El resultado de num_1 >= num_2 es: True\n"
     ]
    }
   ],
   "source": [
    "# Mayor o igual que \" >= \"\n",
    "\n",
    "num_1 = 570\n",
    "num_2 = 420\n",
    "print(\"El resultado de num_1 >= num_2 es:\", num_1 >= num_2) "
   ]
  },
  {
   "cell_type": "code",
   "execution_count": 29,
   "id": "f903c309",
   "metadata": {},
   "outputs": [
    {
     "name": "stdout",
     "output_type": "stream",
     "text": [
      "El resultado de num_1 > num_2 es: True\n"
     ]
    }
   ],
   "source": [
    "num_1 = 570\n",
    "num_2 = 570\n",
    "print(\"El resultado de num_1 > num_2 es:\", num_1 >= num_2) "
   ]
  },
  {
   "cell_type": "code",
   "execution_count": 30,
   "id": "2ff5ca78",
   "metadata": {},
   "outputs": [
    {
     "name": "stdout",
     "output_type": "stream",
     "text": [
      "El resultado de num_1 >= num_2 es: False\n"
     ]
    }
   ],
   "source": [
    "num_1 = 420\n",
    "num_2 = 570\n",
    "print(\"El resultado de num_1 >= num_2 es:\", num_1 >= num_2) "
   ]
  },
  {
   "cell_type": "code",
   "execution_count": 31,
   "id": "af09b65a",
   "metadata": {},
   "outputs": [
    {
     "name": "stdout",
     "output_type": "stream",
     "text": [
      "El resultado de num_1 < num_2 es: False\n"
     ]
    }
   ],
   "source": [
    "# Menor que \" < \"\n",
    "num_1 = 570\n",
    "num_2 = 420\n",
    "print(\"El resultado de num_1 < num_2 es:\", num_1 < num_2) "
   ]
  },
  {
   "cell_type": "code",
   "execution_count": 32,
   "id": "7acae470",
   "metadata": {},
   "outputs": [
    {
     "name": "stdout",
     "output_type": "stream",
     "text": [
      "El resultado de num_1 < num_2 es: False\n"
     ]
    }
   ],
   "source": [
    "num_1 = 570\n",
    "num_2 = 570\n",
    "print(\"El resultado de num_1 < num_2 es:\", num_1 < num_2) "
   ]
  },
  {
   "cell_type": "code",
   "execution_count": 33,
   "id": "ea686a8e",
   "metadata": {},
   "outputs": [
    {
     "name": "stdout",
     "output_type": "stream",
     "text": [
      "El resultado de num_1 < num_2 es: True\n"
     ]
    }
   ],
   "source": [
    "num_1 = 420\n",
    "num_2 = 570\n",
    "print(\"El resultado de num_1 < num_2 es:\", num_1 < num_2) "
   ]
  },
  {
   "cell_type": "code",
   "execution_count": 34,
   "id": "e307078f",
   "metadata": {},
   "outputs": [
    {
     "name": "stdout",
     "output_type": "stream",
     "text": [
      "El resultado de num_1 <= num_2 es: False\n"
     ]
    }
   ],
   "source": [
    "# Menor o igual que \" <= \"\n",
    "num_1 = 570\n",
    "num_2 = 420\n",
    "print(\"El resultado de num_1 <= num_2 es:\", num_1 <= num_2) "
   ]
  },
  {
   "cell_type": "code",
   "execution_count": 35,
   "id": "a52860d6",
   "metadata": {},
   "outputs": [
    {
     "name": "stdout",
     "output_type": "stream",
     "text": [
      "El resultado de num_1 <= num_2 es: True\n"
     ]
    }
   ],
   "source": [
    "num_1 = 570\n",
    "num_2 = 570\n",
    "print(\"El resultado de num_1 <= num_2 es:\", num_1 <= num_2) "
   ]
  },
  {
   "cell_type": "code",
   "execution_count": 36,
   "id": "a6ed4444",
   "metadata": {},
   "outputs": [
    {
     "name": "stdout",
     "output_type": "stream",
     "text": [
      "El resultado de num_1 <= num_2 es: True\n"
     ]
    }
   ],
   "source": [
    "num_1 = 420\n",
    "num_2 = 570\n",
    "print(\"El resultado de num_1 <= num_2 es:\", num_1 <= num_2) "
   ]
  },
  {
   "cell_type": "markdown",
   "id": "2956719d",
   "metadata": {},
   "source": [
    "# Operadores de Asignación\n",
    "\n",
    "# ¿Qué son los operadores de Asignación?\n",
    "\n",
    "- En phyton son usados para asignar valores a varibales\n",
    "- Incluyen al operador de asignacion que el signo de igual \" = \""
   ]
  },
  {
   "cell_type": "code",
   "execution_count": 37,
   "id": "3c60b8bf",
   "metadata": {},
   "outputs": [],
   "source": [
    "# \"Operador de asignacion\"\n",
    "num_1 = 20\n",
    "num_2 = 3"
   ]
  },
  {
   "cell_type": "code",
   "execution_count": 39,
   "id": "9c10a7b6",
   "metadata": {},
   "outputs": [
    {
     "name": "stdout",
     "output_type": "stream",
     "text": [
      "num_1 antes de la asignición 20\n",
      "num_1 despues de la asignación 23\n"
     ]
    }
   ],
   "source": [
    "# \" =+ \" Sumar y Asignar\n",
    "num_1 = 20\n",
    "num_2 = 3\n",
    "print(\"num_1 antes de la asignición\", num_1)\n",
    "num_1 += num_2 # num_1 = num_1 + num_2\n",
    "print(\"num_1 despues de la asignación\", num_1)"
   ]
  },
  {
   "cell_type": "code",
   "execution_count": 41,
   "id": "67dac26a",
   "metadata": {},
   "outputs": [
    {
     "name": "stdout",
     "output_type": "stream",
     "text": [
      "num_1 antes de la asignición 20\n",
      "num_1 despues de la asignación 17\n"
     ]
    }
   ],
   "source": [
    "num_1 = 20\n",
    "num_2 = 3\n",
    "print(\"num_1 antes de la asignición\", num_1)\n",
    "num_1 -= num_2 # num_1 = num_1 - num_2\n",
    "print(\"num_1 despues de la asignación\", num_1)"
   ]
  },
  {
   "cell_type": "code",
   "execution_count": 42,
   "id": "613adde4",
   "metadata": {},
   "outputs": [
    {
     "name": "stdout",
     "output_type": "stream",
     "text": [
      "num_1 antes de la asignición 20\n",
      "num_1 despues de la asignación 60\n"
     ]
    }
   ],
   "source": [
    "num_1 = 20\n",
    "num_2 = 3\n",
    "print(\"num_1 antes de la asignición\", num_1)\n",
    "num_1 *= num_2 # num_1 = num_1 * num_2\n",
    "print(\"num_1 despues de la asignación\", num_1)"
   ]
  },
  {
   "cell_type": "code",
   "execution_count": 43,
   "id": "7dc7c5c5",
   "metadata": {},
   "outputs": [
    {
     "name": "stdout",
     "output_type": "stream",
     "text": [
      "num_1 antes de la asignición 20\n",
      "num_1 despues de la asignación 6.666666666666667\n"
     ]
    }
   ],
   "source": [
    "num_1 = 20\n",
    "num_2 = 3\n",
    "print(\"num_1 antes de la asignición\", num_1)\n",
    "num_1 /= num_2 # num_1 = num_1 / num_2\n",
    "print(\"num_1 despues de la asignación\", num_1)"
   ]
  },
  {
   "cell_type": "code",
   "execution_count": 44,
   "id": "93f68703",
   "metadata": {},
   "outputs": [
    {
     "name": "stdout",
     "output_type": "stream",
     "text": [
      "num_1 antes de la asignición 20\n",
      "num_1 despues de la asignación 6\n"
     ]
    }
   ],
   "source": [
    "num_1 = 20\n",
    "num_2 = 3\n",
    "print(\"num_1 antes de la asignición\", num_1)\n",
    "num_1 //= num_2 # num_1 = num_1 // num_2\n",
    "print(\"num_1 despues de la asignación\", num_1)"
   ]
  },
  {
   "cell_type": "code",
   "execution_count": 45,
   "id": "aec17c7e",
   "metadata": {},
   "outputs": [
    {
     "name": "stdout",
     "output_type": "stream",
     "text": [
      "num_1 antes de la asignición 20\n",
      "num_1 despues de la asignación 8000\n"
     ]
    }
   ],
   "source": [
    "num_1 = 20\n",
    "num_2 = 3\n",
    "print(\"num_1 antes de la asignición\", num_1)\n",
    "num_1 **= num_2 # num_1 = num_1 ** num_2\n",
    "print(\"num_1 despues de la asignación\", num_1)"
   ]
  },
  {
   "cell_type": "markdown",
   "id": "560fede6",
   "metadata": {},
   "source": [
    "num_1 = 20\n",
    "num_2 = 3\n",
    "print(\"num_1 antes de la asignición\", num_1)\n",
    "num_1 %= num_2 # num_1 = num_1 % num_2\n",
    "print(\"num_1 despues de la asignación\", num_1)"
   ]
  },
  {
   "cell_type": "markdown",
   "id": "23b7b518",
   "metadata": {},
   "source": [
    "# Operadores Lógicos\n",
    "\n",
    "## ¿Que son los operadores Lógicos?\n",
    "\n",
    "- Son usados principalmente para declaraciones condicioneales\n",
    "- Son indicadores estructurales\n",
    "- Tambien se les conoce como Conectores Lógicos:\n",
    "    - AND: True/False si ambas operaciones cumplen con las condidion\n",
    "    - OR: True/False cuando por lo menos una operacion cumple  con las condiciones\n",
    "    - NOT: True/False si la operacion es True/False\n"
   ]
  },
  {
   "cell_type": "code",
   "execution_count": 47,
   "id": "037a9e5b",
   "metadata": {},
   "outputs": [
    {
     "name": "stdout",
     "output_type": "stream",
     "text": [
      "num_1 <= num_2 and num_1 != num_2 True\n"
     ]
    }
   ],
   "source": [
    "# AND\n",
    "# Todas las condiciones deben ser verdaderas, de lo contrario el resultado es False\n",
    "\n",
    "num_1 = 11 # True\n",
    "num_2 = 55 # True\n",
    "print(\"num_1 <= num_2 and num_1 != num_2\", num_1 <= num_2 and num_1 != num_2)\n"
   ]
  },
  {
   "cell_type": "code",
   "execution_count": 48,
   "id": "7a94d0e4",
   "metadata": {},
   "outputs": [
    {
     "name": "stdout",
     "output_type": "stream",
     "text": [
      "num_1 <= num_2 and num_1 != num_2 False\n"
     ]
    }
   ],
   "source": [
    "num_1 = 11 # True\n",
    "num_2 = 11 # False\n",
    "print(\"num_1 <= num_2 and num_1 != num_2\", num_1 <= num_2 and num_1 != num_2)"
   ]
  },
  {
   "cell_type": "code",
   "execution_count": 49,
   "id": "49afd7ba",
   "metadata": {},
   "outputs": [
    {
     "name": "stdout",
     "output_type": "stream",
     "text": [
      "num_1 <= num_2 and num_1 != num_2 True\n"
     ]
    }
   ],
   "source": [
    "num_1 = 11 # True\n",
    "num_2 = 55 # False\n",
    "print(\"num_1 <= num_2 and num_1 != num_2\", num_1 <= num_2 and num_1 != num_2 and num_2 > 10)"
   ]
  },
  {
   "cell_type": "code",
   "execution_count": 50,
   "id": "4e8fccaf",
   "metadata": {},
   "outputs": [
    {
     "name": "stdout",
     "output_type": "stream",
     "text": [
      "num_1 <= num_2 and num_1 != num_2 False\n"
     ]
    }
   ],
   "source": [
    "num_1 = 11 # True\n",
    "num_2 = 11 # False\n",
    "print(\"num_1 <= num_2 and num_1 != num_2\", num_1 <= num_2 and num_1 != num_2 and num_2 > 10)"
   ]
  },
  {
   "cell_type": "code",
   "execution_count": 53,
   "id": "4c708764",
   "metadata": {},
   "outputs": [
    {
     "name": "stdout",
     "output_type": "stream",
     "text": [
      "num_1 <= num_2 or num_1 != num_2 True\n"
     ]
    }
   ],
   "source": [
    "# OR\n",
    "num_1 = 11 # True\n",
    "num_2 = 55 # False\n",
    "print(\"num_1 <= num_2 or num_1 != num_2\", num_1 <= num_2 or num_1 != num_2 or num_2)"
   ]
  },
  {
   "cell_type": "code",
   "execution_count": 55,
   "id": "c4104e55",
   "metadata": {},
   "outputs": [
    {
     "name": "stdout",
     "output_type": "stream",
     "text": [
      "num_1 <= num_2 or num_1 != num_2 True\n"
     ]
    }
   ],
   "source": [
    "num_1 = 11 # True\n",
    "num_2 = 11 # False\n",
    "print(\"num_1 <= num_2 or num_1 != num_2\", num_1 <= num_2 or num_1 != num_2)"
   ]
  },
  {
   "cell_type": "code",
   "execution_count": 59,
   "id": "c5f3a6db",
   "metadata": {},
   "outputs": [
    {
     "name": "stdout",
     "output_type": "stream",
     "text": [
      "num_1 <= num_2 or num_1 != num_2 True\n"
     ]
    }
   ],
   "source": [
    "num_1 = 11 # True\n",
    "num_2 = 55 # False\n",
    "print(\"num_1 <= num_2 or num_1 != num_2\", num_1 <= num_2 or num_1 != num_2 or num_2 > 10)"
   ]
  },
  {
   "cell_type": "code",
   "execution_count": 58,
   "id": "6ee3c557",
   "metadata": {},
   "outputs": [
    {
     "name": "stdout",
     "output_type": "stream",
     "text": [
      "num_1 <= num_2 or num_1 != num_2 True\n"
     ]
    }
   ],
   "source": [
    "num_1 = 11 # True\n",
    "num_2 = 11 # False\n",
    "print(\"num_1 <= num_2 or num_1 != num_2\", num_1 <= num_2 or num_1 != num_2 or num_2 > 10)"
   ]
  },
  {
   "cell_type": "code",
   "execution_count": 61,
   "id": "68f00ac4",
   "metadata": {},
   "outputs": [
    {
     "name": "stdout",
     "output_type": "stream",
     "text": [
      "not num_1 <= num_2  False\n"
     ]
    }
   ],
   "source": [
    "# NOT (Lo opuesto)\n",
    "# La condicion debe ser falsa\n",
    "\n",
    "num_1 = 11 \n",
    "num_2 = 55 \n",
    "print(\"not num_1 <= num_2 \", not num_1 <= num_2 )"
   ]
  },
  {
   "cell_type": "code",
   "execution_count": 62,
   "id": "229ff054",
   "metadata": {},
   "outputs": [
    {
     "name": "stdout",
     "output_type": "stream",
     "text": [
      "not num_1 <= num_2  False\n"
     ]
    }
   ],
   "source": [
    "num_1 = 11 \n",
    "num_2 = 55 \n",
    "print(\"not num_1 <= num_2 \", not num_1 != num_2 )"
   ]
  },
  {
   "cell_type": "code",
   "execution_count": 63,
   "id": "858ed12e",
   "metadata": {},
   "outputs": [
    {
     "name": "stdout",
     "output_type": "stream",
     "text": [
      "not num_1 <= num_2  True\n"
     ]
    }
   ],
   "source": [
    "num_1 = 11 \n",
    "num_2 = 55 \n",
    "print(\"not num_1 <= num_2 \", not num_1 > num_2 )"
   ]
  },
  {
   "cell_type": "markdown",
   "id": "8ea6e8c7",
   "metadata": {},
   "source": [
    "# Operadores de Afiliación\n",
    "\n",
    "## ¿Que son los operadores de afiliación?\n",
    "\n",
    "- Son usados para validar los elementos en listas, cadenas y tuplas.\n",
    "- Validan si una varibale está presente en una secuencia.\n",
    "- Regresa un valor booleano (True/False).\n",
    "- Regresa True si el valor está presente en la secuencia.\n",
    "- Regresa False si el valor no esta presente.\n",
    "- Hay dos operadores de Afiliación.\n",
    "    - IN : El valor esta en la secuencia.\n",
    "    - NOT IN : El valor no esta en la secuencia.\n",
    "  "
   ]
  },
  {
   "cell_type": "code",
   "execution_count": 64,
   "id": "b51c93c9",
   "metadata": {},
   "outputs": [
    {
     "name": "stdout",
     "output_type": "stream",
     "text": [
      "'a'in Los patos son verdes True\n"
     ]
    }
   ],
   "source": [
    "# IN ; ¿El valor esta dentro de la secuencia?\n",
    "my_string= \"Los patos son verdes\"\n",
    "print(\"'a'in Los patos son verdes\", 'a' in my_string)"
   ]
  },
  {
   "cell_type": "code",
   "execution_count": 66,
   "id": "320712d1",
   "metadata": {},
   "outputs": [
    {
     "name": "stdout",
     "output_type": "stream",
     "text": [
      "'w'in Los patos son verdes False\n"
     ]
    }
   ],
   "source": [
    "my_string= \"Los patos son verdes\"\n",
    "print(\"'w'in Los patos son verdes\", 'w' in my_string)"
   ]
  },
  {
   "cell_type": "code",
   "execution_count": 67,
   "id": "184073c6",
   "metadata": {},
   "outputs": [
    {
     "name": "stdout",
     "output_type": "stream",
     "text": [
      "5' in my list False\n"
     ]
    }
   ],
   "source": [
    "my_list = {1, 45, 67, 33, 95}\n",
    "print(\"'5' in my list\", 5 in my_list)"
   ]
  },
  {
   "cell_type": "code",
   "execution_count": 70,
   "id": "ce2830c3",
   "metadata": {},
   "outputs": [
    {
     "name": "stdout",
     "output_type": "stream",
     "text": [
      "'5' in my set True\n"
     ]
    }
   ],
   "source": [
    "my_set = {1, 45, 67, 33, 95, 5, 45, 11, 76, 1, 45, 67, 33, 95, 5, 45, 11, 103}\n",
    "print(\"'5' in my set\", 5 in my_set)"
   ]
  },
  {
   "cell_type": "code",
   "execution_count": 71,
   "id": "de0b7c04",
   "metadata": {},
   "outputs": [
    {
     "data": {
      "text/plain": [
       "{1, 5, 11, 33, 45, 67, 76, 95, 103}"
      ]
     },
     "execution_count": 71,
     "metadata": {},
     "output_type": "execute_result"
    }
   ],
   "source": [
    "my_set"
   ]
  },
  {
   "cell_type": "code",
   "execution_count": 72,
   "id": "b2397691",
   "metadata": {},
   "outputs": [
    {
     "name": "stdout",
     "output_type": "stream",
     "text": [
      "'a'not in Los patos son verdes False\n"
     ]
    }
   ],
   "source": [
    "# NOT IN (No esta presente ten la secuencia?)\n",
    "my_string= \"Los patos son verdes\"\n",
    "print(\"'a'not in Los patos son verdes\", 'a' not in my_string)"
   ]
  },
  {
   "cell_type": "code",
   "execution_count": 74,
   "id": "4b94b9d9",
   "metadata": {},
   "outputs": [
    {
     "name": "stdout",
     "output_type": "stream",
     "text": [
      "'w' not in Los patos son verdes True\n"
     ]
    }
   ],
   "source": [
    "my_string= \"Los patos son verdes\"\n",
    "print(\"'w' not in Los patos son verdes\", 'w' not in my_string)"
   ]
  },
  {
   "cell_type": "code",
   "execution_count": 75,
   "id": "235ffbcc",
   "metadata": {},
   "outputs": [
    {
     "name": "stdout",
     "output_type": "stream",
     "text": [
      "'5' not in my list True\n"
     ]
    }
   ],
   "source": [
    "my_list = {1, 45, 67, 33, 95}\n",
    "print(\"'5' not in my list\", 5 not in my_list)"
   ]
  },
  {
   "cell_type": "code",
   "execution_count": 76,
   "id": "2c11dce0",
   "metadata": {},
   "outputs": [
    {
     "name": "stdout",
     "output_type": "stream",
     "text": [
      "'5' not in my set False\n"
     ]
    }
   ],
   "source": [
    "my_set = {1, 45, 67, 33, 95, 5, 45, 11, 76, 1, 45, 67, 33, 95, 5, 45, 11, 103}\n",
    "print(\"'5' not in my set\", 5 not in my_set)"
   ]
  },
  {
   "cell_type": "markdown",
   "id": "8ab57436",
   "metadata": {},
   "source": [
    "# Operadores de identidad.\n",
    "## ¿Qué son los operadores de identedidad?\n",
    "\n",
    "- Son usados para comparar la ubicaci;on en memmoria de dos objetos.\n",
    "- Se utilizan para validar si los valores comparten el mismo espacio en memoria o no\n",
    "- regresan True si lo comparten y False si no lo comparten\n",
    "- Dos operadores: \n",
    "    - IS\n",
    "    - IS NOT\n",
    "   "
   ]
  },
  {
   "cell_type": "code",
   "execution_count": 77,
   "id": "8fc13512",
   "metadata": {},
   "outputs": [
    {
     "name": "stdout",
     "output_type": "stream",
     "text": [
      "num_1 is num_2 False\n"
     ]
    }
   ],
   "source": [
    "# IS\n",
    "num_1 = 11\n",
    "num_2 = 55\n",
    "print(\"num_1 is num_2\", num_1 is num_2)"
   ]
  },
  {
   "cell_type": "code",
   "execution_count": 78,
   "id": "e7d297a7",
   "metadata": {},
   "outputs": [
    {
     "name": "stdout",
     "output_type": "stream",
     "text": [
      "num_1 is num_2 True\n"
     ]
    }
   ],
   "source": [
    "num_1 = 77\n",
    "num_2 = 77\n",
    "print(\"num_1 is num_2\", num_1 is num_2)"
   ]
  },
  {
   "cell_type": "code",
   "execution_count": 79,
   "id": "360c6d10",
   "metadata": {},
   "outputs": [
    {
     "name": "stdout",
     "output_type": "stream",
     "text": [
      "num_1 is not num_2 True\n"
     ]
    }
   ],
   "source": [
    "# IS NOT\n",
    "num_1 = 11\n",
    "num_2 = 55\n",
    "print(\"num_1 is not num_2\", num_1 is not num_2)"
   ]
  },
  {
   "cell_type": "code",
   "execution_count": 80,
   "id": "60980f5f",
   "metadata": {},
   "outputs": [
    {
     "name": "stdout",
     "output_type": "stream",
     "text": [
      "num_1 is not num_2 False\n"
     ]
    }
   ],
   "source": [
    "num_1 = 77\n",
    "num_2 = 77\n",
    "print(\"num_1 is not num_2\", num_1 is not num_2)"
   ]
  },
  {
   "cell_type": "markdown",
   "id": "70fb3440",
   "metadata": {},
   "source": [
    "# Conversion de Tipos\n",
    "## ¿Que es la conversion de tipos?\n",
    "\n",
    "- Es la conversion de un tipo de dato a otro tipo de dato.\n",
    "- Es un paso muy importante para combinar direntes fuentes de datos en un formato específico\n",
    "- 2 Tipos:\n",
    "    - Conversion impplicita: hecha de forma automática por el interprete de python\n",
    "    - Conversion Explicíta:"
   ]
  },
  {
   "cell_type": "code",
   "execution_count": 81,
   "id": "530786d2",
   "metadata": {},
   "outputs": [
    {
     "data": {
      "text/plain": [
       "16.0"
      ]
     },
     "execution_count": 81,
     "metadata": {},
     "output_type": "execute_result"
    }
   ],
   "source": [
    "# Conversion Implicita\n",
    "\n",
    "14+2.0"
   ]
  },
  {
   "cell_type": "code",
   "execution_count": 82,
   "id": "e5454374",
   "metadata": {},
   "outputs": [
    {
     "data": {
      "text/plain": [
       "199"
      ]
     },
     "execution_count": 82,
     "metadata": {},
     "output_type": "execute_result"
    }
   ],
   "source": [
    "# Conversion Explicita\n",
    "int(199.99)"
   ]
  },
  {
   "cell_type": "code",
   "execution_count": 83,
   "id": "2421106e",
   "metadata": {},
   "outputs": [
    {
     "data": {
      "text/plain": [
       "58.0"
      ]
     },
     "execution_count": 83,
     "metadata": {},
     "output_type": "execute_result"
    }
   ],
   "source": [
    "float(58)"
   ]
  },
  {
   "cell_type": "code",
   "execution_count": 84,
   "id": "918a8e76",
   "metadata": {},
   "outputs": [
    {
     "data": {
      "text/plain": [
       "(4+0j)"
      ]
     },
     "execution_count": 84,
     "metadata": {},
     "output_type": "execute_result"
    }
   ],
   "source": [
    "complex(4)"
   ]
  },
  {
   "cell_type": "markdown",
   "id": "60be4515",
   "metadata": {},
   "source": [
    "## Conversiones INT"
   ]
  },
  {
   "cell_type": "code",
   "execution_count": 85,
   "id": "2ba188c3",
   "metadata": {},
   "outputs": [
    {
     "data": {
      "text/plain": [
       "10"
      ]
     },
     "execution_count": 85,
     "metadata": {},
     "output_type": "execute_result"
    }
   ],
   "source": [
    "int(10.78) # float a int"
   ]
  },
  {
   "cell_type": "code",
   "execution_count": 86,
   "id": "3d76fac3",
   "metadata": {},
   "outputs": [
    {
     "data": {
      "text/plain": [
       "0"
      ]
     },
     "execution_count": 86,
     "metadata": {},
     "output_type": "execute_result"
    }
   ],
   "source": [
    "int (False) # bool a int"
   ]
  },
  {
   "cell_type": "code",
   "execution_count": 87,
   "id": "20e770aa",
   "metadata": {},
   "outputs": [
    {
     "ename": "TypeError",
     "evalue": "int() argument must be a string, a bytes-like object or a real number, not 'complex'",
     "output_type": "error",
     "traceback": [
      "\u001b[1;31m---------------------------------------------------------------------------\u001b[0m",
      "\u001b[1;31mTypeError\u001b[0m                                 Traceback (most recent call last)",
      "Cell \u001b[1;32mIn[87], line 1\u001b[0m\n\u001b[1;32m----> 1\u001b[0m \u001b[38;5;28;43mint\u001b[39;49m\u001b[43m(\u001b[49m\u001b[38;5;241;43m5\u001b[39;49m\u001b[38;5;241;43m+\u001b[39;49m\u001b[38;5;241;43m4\u001b[39;49m\u001b[43mj\u001b[49m\u001b[43m)\u001b[49m \u001b[38;5;66;03m# complex a int : Error\u001b[39;00m\n",
      "\u001b[1;31mTypeError\u001b[0m: int() argument must be a string, a bytes-like object or a real number, not 'complex'"
     ]
    }
   ],
   "source": [
    "int(5+4j) # complex a int : Error"
   ]
  },
  {
   "cell_type": "code",
   "execution_count": 88,
   "id": "a01c718b",
   "metadata": {},
   "outputs": [
    {
     "data": {
      "text/plain": [
       "120"
      ]
     },
     "execution_count": 88,
     "metadata": {},
     "output_type": "execute_result"
    }
   ],
   "source": [
    "int(\"120\") #string a int"
   ]
  },
  {
   "cell_type": "code",
   "execution_count": 89,
   "id": "8e26772f",
   "metadata": {},
   "outputs": [
    {
     "ename": "ValueError",
     "evalue": "invalid literal for int() with base 10: '120.5'",
     "output_type": "error",
     "traceback": [
      "\u001b[1;31m---------------------------------------------------------------------------\u001b[0m",
      "\u001b[1;31mValueError\u001b[0m                                Traceback (most recent call last)",
      "Cell \u001b[1;32mIn[89], line 1\u001b[0m\n\u001b[1;32m----> 1\u001b[0m \u001b[38;5;28;43mint\u001b[39;49m\u001b[43m \u001b[49m\u001b[43m(\u001b[49m\u001b[38;5;124;43m'\u001b[39;49m\u001b[38;5;124;43m120.5\u001b[39;49m\u001b[38;5;124;43m'\u001b[39;49m\u001b[43m)\u001b[49m \u001b[38;5;66;03m# string a int: error\u001b[39;00m\n",
      "\u001b[1;31mValueError\u001b[0m: invalid literal for int() with base 10: '120.5'"
     ]
    }
   ],
   "source": [
    "int ('120.5') # string a int: error"
   ]
  },
  {
   "cell_type": "code",
   "execution_count": 90,
   "id": "d71712c2",
   "metadata": {},
   "outputs": [
    {
     "data": {
      "text/plain": [
       "23.0"
      ]
     },
     "execution_count": 90,
     "metadata": {},
     "output_type": "execute_result"
    }
   ],
   "source": [
    "# Conversion a Float\n",
    "\n",
    "float(23) # int a float"
   ]
  },
  {
   "cell_type": "code",
   "execution_count": 91,
   "id": "6484c8e9",
   "metadata": {},
   "outputs": [
    {
     "ename": "TypeError",
     "evalue": "float() argument must be a string or a real number, not 'complex'",
     "output_type": "error",
     "traceback": [
      "\u001b[1;31m---------------------------------------------------------------------------\u001b[0m",
      "\u001b[1;31mTypeError\u001b[0m                                 Traceback (most recent call last)",
      "Cell \u001b[1;32mIn[91], line 1\u001b[0m\n\u001b[1;32m----> 1\u001b[0m \u001b[38;5;28;43mfloat\u001b[39;49m\u001b[43m(\u001b[49m\u001b[38;5;241;43m23\u001b[39;49m\u001b[38;5;241;43m+\u001b[39;49m\u001b[38;5;241;43m5\u001b[39;49m\u001b[43mj\u001b[49m\u001b[43m)\u001b[49m \u001b[38;5;66;03m# complex a float error\u001b[39;00m\n",
      "\u001b[1;31mTypeError\u001b[0m: float() argument must be a string or a real number, not 'complex'"
     ]
    }
   ],
   "source": [
    "float(23+5j) # complex a float error"
   ]
  },
  {
   "cell_type": "code",
   "execution_count": 92,
   "id": "dd5bc12c",
   "metadata": {},
   "outputs": [
    {
     "data": {
      "text/plain": [
       "1.0"
      ]
     },
     "execution_count": 92,
     "metadata": {},
     "output_type": "execute_result"
    }
   ],
   "source": [
    "float(True) #BOOL a Float"
   ]
  },
  {
   "cell_type": "code",
   "execution_count": 93,
   "id": "5178c9d5",
   "metadata": {},
   "outputs": [
    {
     "data": {
      "text/plain": [
       "54.4"
      ]
     },
     "execution_count": 93,
     "metadata": {},
     "output_type": "execute_result"
    }
   ],
   "source": [
    "float('54.4') # String a float "
   ]
  },
  {
   "cell_type": "code",
   "execution_count": 94,
   "id": "c29e8148",
   "metadata": {},
   "outputs": [
    {
     "data": {
      "text/plain": [
       "54.0"
      ]
     },
     "execution_count": 94,
     "metadata": {},
     "output_type": "execute_result"
    }
   ],
   "source": [
    "float('54') # String a float"
   ]
  },
  {
   "cell_type": "code",
   "execution_count": 96,
   "id": "10793763",
   "metadata": {},
   "outputs": [
    {
     "ename": "ValueError",
     "evalue": "could not convert string to float: '54t'",
     "output_type": "error",
     "traceback": [
      "\u001b[1;31m---------------------------------------------------------------------------\u001b[0m",
      "\u001b[1;31mValueError\u001b[0m                                Traceback (most recent call last)",
      "Cell \u001b[1;32mIn[96], line 1\u001b[0m\n\u001b[1;32m----> 1\u001b[0m \u001b[38;5;28;43mfloat\u001b[39;49m\u001b[43m(\u001b[49m\u001b[38;5;124;43m'\u001b[39;49m\u001b[38;5;124;43m54t\u001b[39;49m\u001b[38;5;124;43m'\u001b[39;49m\u001b[43m)\u001b[49m \u001b[38;5;66;03m# String a float: error\u001b[39;00m\n",
      "\u001b[1;31mValueError\u001b[0m: could not convert string to float: '54t'"
     ]
    }
   ],
   "source": [
    "float('54t') # String a float: error"
   ]
  },
  {
   "cell_type": "code",
   "execution_count": 97,
   "id": "16b5ddf2",
   "metadata": {},
   "outputs": [
    {
     "ename": "ValueError",
     "evalue": "could not convert string to float: 'True'",
     "output_type": "error",
     "traceback": [
      "\u001b[1;31m---------------------------------------------------------------------------\u001b[0m",
      "\u001b[1;31mValueError\u001b[0m                                Traceback (most recent call last)",
      "Cell \u001b[1;32mIn[97], line 1\u001b[0m\n\u001b[1;32m----> 1\u001b[0m \u001b[38;5;28;43mfloat\u001b[39;49m\u001b[43m(\u001b[49m\u001b[38;5;124;43m\"\u001b[39;49m\u001b[38;5;124;43mTrue\u001b[39;49m\u001b[38;5;124;43m\"\u001b[39;49m\u001b[43m)\u001b[49m \u001b[38;5;66;03m# String a float: error\u001b[39;00m\n",
      "\u001b[1;31mValueError\u001b[0m: could not convert string to float: 'True'"
     ]
    }
   ],
   "source": [
    "float(\"True\") # String a float: error"
   ]
  },
  {
   "cell_type": "markdown",
   "id": "1665116e",
   "metadata": {},
   "source": [
    "# Conversion Complex (compleja)"
   ]
  },
  {
   "cell_type": "code",
   "execution_count": 98,
   "id": "6db055f1",
   "metadata": {},
   "outputs": [
    {
     "data": {
      "text/plain": [
       "(42+0j)"
      ]
     },
     "execution_count": 98,
     "metadata": {},
     "output_type": "execute_result"
    }
   ],
   "source": [
    "complex(42) #int a complex"
   ]
  },
  {
   "cell_type": "code",
   "execution_count": 99,
   "id": "f768cabe",
   "metadata": {},
   "outputs": [
    {
     "data": {
      "text/plain": [
       "(42.5+0j)"
      ]
     },
     "execution_count": 99,
     "metadata": {},
     "output_type": "execute_result"
    }
   ],
   "source": [
    "complex(42.5) #float a complex"
   ]
  },
  {
   "cell_type": "code",
   "execution_count": 100,
   "id": "d1813ab5",
   "metadata": {},
   "outputs": [
    {
     "data": {
      "text/plain": [
       "(1+0j)"
      ]
     },
     "execution_count": 100,
     "metadata": {},
     "output_type": "execute_result"
    }
   ],
   "source": [
    "complex(True) #bool a complex"
   ]
  },
  {
   "cell_type": "code",
   "execution_count": 101,
   "id": "45b86ace",
   "metadata": {},
   "outputs": [
    {
     "data": {
      "text/plain": [
       "0j"
      ]
     },
     "execution_count": 101,
     "metadata": {},
     "output_type": "execute_result"
    }
   ],
   "source": [
    "complex(False) #bool a complex"
   ]
  },
  {
   "cell_type": "code",
   "execution_count": 102,
   "id": "3ed23e75",
   "metadata": {},
   "outputs": [
    {
     "data": {
      "text/plain": [
       "(42+0j)"
      ]
     },
     "execution_count": 102,
     "metadata": {},
     "output_type": "execute_result"
    }
   ],
   "source": [
    "complex(\"42\") #str a complex"
   ]
  },
  {
   "cell_type": "code",
   "execution_count": 103,
   "id": "59ff7d75",
   "metadata": {},
   "outputs": [
    {
     "data": {
      "text/plain": [
       "(42.5+0j)"
      ]
     },
     "execution_count": 103,
     "metadata": {},
     "output_type": "execute_result"
    }
   ],
   "source": [
    "complex(\"42.5\") #str a complex"
   ]
  },
  {
   "cell_type": "code",
   "execution_count": 104,
   "id": "47155823",
   "metadata": {},
   "outputs": [
    {
     "ename": "ValueError",
     "evalue": "complex() arg is a malformed string",
     "output_type": "error",
     "traceback": [
      "\u001b[1;31m---------------------------------------------------------------------------\u001b[0m",
      "\u001b[1;31mValueError\u001b[0m                                Traceback (most recent call last)",
      "Cell \u001b[1;32mIn[104], line 1\u001b[0m\n\u001b[1;32m----> 1\u001b[0m \u001b[38;5;28;43mcomplex\u001b[39;49m\u001b[43m(\u001b[49m\u001b[38;5;124;43m\"\u001b[39;49m\u001b[38;5;124;43mchicharo\u001b[39;49m\u001b[38;5;124;43m\"\u001b[39;49m\u001b[43m)\u001b[49m \u001b[38;5;66;03m#str a complex\u001b[39;00m\n",
      "\u001b[1;31mValueError\u001b[0m: complex() arg is a malformed string"
     ]
    }
   ],
   "source": [
    "complex(\"chicharo\") #str a complex: Error"
   ]
  },
  {
   "cell_type": "code",
   "execution_count": 106,
   "id": "e7457b1f",
   "metadata": {},
   "outputs": [
    {
     "data": {
      "text/plain": [
       "42j"
      ]
     },
     "execution_count": 106,
     "metadata": {},
     "output_type": "execute_result"
    }
   ],
   "source": [
    "complex(\"42j\") #str a complex"
   ]
  },
  {
   "cell_type": "code",
   "execution_count": 108,
   "id": "b298b769",
   "metadata": {},
   "outputs": [
    {
     "ename": "ValueError",
     "evalue": "complex() arg is a malformed string",
     "output_type": "error",
     "traceback": [
      "\u001b[1;31m---------------------------------------------------------------------------\u001b[0m",
      "\u001b[1;31mValueError\u001b[0m                                Traceback (most recent call last)",
      "Cell \u001b[1;32mIn[108], line 1\u001b[0m\n\u001b[1;32m----> 1\u001b[0m \u001b[38;5;28;43mcomplex\u001b[39;49m\u001b[43m(\u001b[49m\u001b[38;5;124;43m\"\u001b[39;49m\u001b[38;5;124;43m42x\u001b[39;49m\u001b[38;5;124;43m\"\u001b[39;49m\u001b[43m)\u001b[49m \u001b[38;5;66;03m#str a complex : Error\u001b[39;00m\n",
      "\u001b[1;31mValueError\u001b[0m: complex() arg is a malformed string"
     ]
    }
   ],
   "source": [
    "complex(\"42x\") #str a complex : Error"
   ]
  },
  {
   "cell_type": "markdown",
   "id": "b2b1efe2",
   "metadata": {},
   "source": [
    "# Conversiones Bool"
   ]
  },
  {
   "cell_type": "code",
   "execution_count": 109,
   "id": "3a0fb633",
   "metadata": {},
   "outputs": [
    {
     "data": {
      "text/plain": [
       "False"
      ]
     },
     "execution_count": 109,
     "metadata": {},
     "output_type": "execute_result"
    }
   ],
   "source": [
    "bool(0) #int a bool "
   ]
  },
  {
   "cell_type": "code",
   "execution_count": 116,
   "id": "af9d929f",
   "metadata": {},
   "outputs": [
    {
     "data": {
      "text/plain": [
       "True"
      ]
     },
     "execution_count": 116,
     "metadata": {},
     "output_type": "execute_result"
    }
   ],
   "source": [
    "bool(0.1 ) #float a bool"
   ]
  },
  {
   "cell_type": "code",
   "execution_count": 117,
   "id": "04efd204",
   "metadata": {},
   "outputs": [
    {
     "data": {
      "text/plain": [
       "True"
      ]
     },
     "execution_count": 117,
     "metadata": {},
     "output_type": "execute_result"
    }
   ],
   "source": [
    "bool(6) # int a bool"
   ]
  },
  {
   "cell_type": "code",
   "execution_count": 118,
   "id": "8236707d",
   "metadata": {},
   "outputs": [
    {
     "data": {
      "text/plain": [
       "True"
      ]
     },
     "execution_count": 118,
     "metadata": {},
     "output_type": "execute_result"
    }
   ],
   "source": [
    "bool (3j) #complex a bool"
   ]
  },
  {
   "cell_type": "code",
   "execution_count": 114,
   "id": "7f4ea827",
   "metadata": {},
   "outputs": [
    {
     "data": {
      "text/plain": [
       "False"
      ]
     },
     "execution_count": 114,
     "metadata": {},
     "output_type": "execute_result"
    }
   ],
   "source": [
    "bool (0j)"
   ]
  },
  {
   "cell_type": "code",
   "execution_count": 119,
   "id": "aee92f8a",
   "metadata": {},
   "outputs": [
    {
     "data": {
      "text/plain": [
       "True"
      ]
     },
     "execution_count": 119,
     "metadata": {},
     "output_type": "execute_result"
    }
   ],
   "source": [
    "bool('0') #str a bool"
   ]
  },
  {
   "cell_type": "markdown",
   "id": "59e7ccc1",
   "metadata": {},
   "source": [
    "# Conversiones String"
   ]
  },
  {
   "cell_type": "code",
   "execution_count": 120,
   "id": "a3d5fbbc",
   "metadata": {},
   "outputs": [
    {
     "data": {
      "text/plain": [
       "'24'"
      ]
     },
     "execution_count": 120,
     "metadata": {},
     "output_type": "execute_result"
    }
   ],
   "source": [
    "str(24) #int a str"
   ]
  },
  {
   "cell_type": "code",
   "execution_count": 121,
   "id": "78d78b8e",
   "metadata": {},
   "outputs": [
    {
     "data": {
      "text/plain": [
       "'True'"
      ]
     },
     "execution_count": 121,
     "metadata": {},
     "output_type": "execute_result"
    }
   ],
   "source": [
    "str(True) #bool a str"
   ]
  },
  {
   "cell_type": "code",
   "execution_count": 122,
   "id": "ae858ff9",
   "metadata": {},
   "outputs": [
    {
     "data": {
      "text/plain": [
       "'24.7'"
      ]
     },
     "execution_count": 122,
     "metadata": {},
     "output_type": "execute_result"
    }
   ],
   "source": [
    "str(24.7) #float a str"
   ]
  },
  {
   "cell_type": "code",
   "execution_count": 125,
   "id": "455c7e35",
   "metadata": {},
   "outputs": [
    {
     "data": {
      "text/plain": [
       "'(24+0j)'"
      ]
     },
     "execution_count": 125,
     "metadata": {},
     "output_type": "execute_result"
    }
   ],
   "source": [
    "str(24+0j) #complex a str"
   ]
  },
  {
   "cell_type": "markdown",
   "id": "886f6823",
   "metadata": {},
   "source": [
    "# Funciones Básicas\n",
    "## Trunc()"
   ]
  },
  {
   "cell_type": "code",
   "execution_count": 126,
   "id": "e6077645",
   "metadata": {},
   "outputs": [
    {
     "name": "stdout",
     "output_type": "stream",
     "text": [
      "num_1: 65.34\n",
      "num_2: 65.3\n",
      "num_3: 65.8\n",
      "num_4: 65.0000000001\n"
     ]
    }
   ],
   "source": [
    "num_1 = 65.34\n",
    "num_2 = 65.3\n",
    "num_3 = 65.80\n",
    "num_4 = 65.0000000001\n",
    "print('num_1:', num_1)\n",
    "print('num_2:', num_2)\n",
    "print('num_3:', num_3)\n",
    "print('num_4:', num_4)"
   ]
  },
  {
   "cell_type": "code",
   "execution_count": 136,
   "id": "b34d00b7",
   "metadata": {},
   "outputs": [
    {
     "name": "stdout",
     "output_type": "stream",
     "text": [
      "trunc(num_1): 65\n",
      "trunc(num_2): 65\n",
      "trunc(num_3): 65\n",
      "trunc(num_4): 65\n"
     ]
    }
   ],
   "source": [
    "from math import trunc\n",
    "num_1 = 65.34\n",
    "num_2 = 65.3\n",
    "num_3 = 65.80\n",
    "num_4 = 65.0000000001\n",
    "print('trunc(num_1):',trunc(num_1))\n",
    "print('trunc(num_2):',trunc(num_2))\n",
    "print('trunc(num_3):',trunc(num_3))\n",
    "print('trunc(num_4):',trunc(num_4))"
   ]
  },
  {
   "cell_type": "markdown",
   "id": "1f67d6ee",
   "metadata": {},
   "source": [
    "# Round(), Cell(), Floor()"
   ]
  },
  {
   "cell_type": "code",
   "execution_count": 131,
   "id": "7011ca7a",
   "metadata": {},
   "outputs": [
    {
     "name": "stdout",
     "output_type": "stream",
     "text": [
      "round(num_1): 65\n",
      "round(num_2): 65\n",
      "round(num_3): 66\n",
      "round(num_4): 65\n"
     ]
    }
   ],
   "source": [
    "# round : redondeda hacia el entero mas cercano\n",
    "num_1 = 65.34\n",
    "num_2 = 65.3\n",
    "num_3 = 65.80\n",
    "num_4 = 65.0000000001\n",
    "print('round(num_1):',round(num_1))\n",
    "print('round(num_2):',round(num_2))\n",
    "print('round(num_3):',round(num_3))\n",
    "print('round(num_4):',round(num_4))"
   ]
  },
  {
   "cell_type": "code",
   "execution_count": 134,
   "id": "6c28630d",
   "metadata": {},
   "outputs": [
    {
     "name": "stdout",
     "output_type": "stream",
     "text": [
      "cell(num_1): 66\n",
      "cell(num_2): 66\n",
      "cell(num_3): 66\n",
      "cell(num_4): 66\n"
     ]
    }
   ],
   "source": [
    "#ceil: redondea hacia arriba\n",
    "from math import ceil\n",
    "num_1 = 65.34\n",
    "num_2 = 65.3\n",
    "num_3 = 65.80\n",
    "num_4 = 65.0000000001\n",
    "print('cell(num_1):',ceil(num_1))\n",
    "print('cell(num_2):',ceil(num_2))\n",
    "print('cell(num_3):',ceil(num_3))\n",
    "print('cell(num_4):',ceil(num_4))"
   ]
  },
  {
   "cell_type": "code",
   "execution_count": 135,
   "id": "54e59658",
   "metadata": {},
   "outputs": [
    {
     "name": "stdout",
     "output_type": "stream",
     "text": [
      "floor(num_1): 65\n",
      "floor(num_2): 65\n",
      "floor(num_3): 65\n",
      "floor(num_4): 65\n"
     ]
    }
   ],
   "source": [
    "# floor: redondea hacia abajo\n",
    "from math import floor\n",
    "num_1 = 65.34\n",
    "num_2 = 65.3\n",
    "num_3 = 65.80\n",
    "num_4 = 65.0000000001\n",
    "print('floor(num_1):',floor(num_1))\n",
    "print('floor(num_2):',floor(num_2))\n",
    "print('floor(num_3):',floor(num_3))\n",
    "print('floor(num_4):',floor(num_4))"
   ]
  },
  {
   "cell_type": "markdown",
   "id": "220103a6",
   "metadata": {},
   "source": [
    "# Funcion % ( para dar formato)"
   ]
  },
  {
   "cell_type": "code",
   "execution_count": 138,
   "id": "14e9c066",
   "metadata": {},
   "outputs": [
    {
     "name": "stdout",
     "output_type": "stream",
     "text": [
      "'%.2f'% num_1: 65.34\n",
      "'%.3f'% num_2: 65.300\n",
      "'%.4f'% num_3: 65.8000\n",
      "'%.5f'% num_4: 65.00000\n"
     ]
    }
   ],
   "source": [
    "num_1 = 65.34\n",
    "num_2 = 65.3\n",
    "num_3 = 65.80\n",
    "num_4 = 65.0000000001\n",
    "print(\"'%.2f'% num_1:\",'%.2f'%(num_1))\n",
    "print(\"'%.3f'% num_2:\",'%.3f'%(num_2))\n",
    "print(\"'%.4f'% num_3:\",'%.4f'%(num_3))\n",
    "print(\"'%.5f'% num_4:\",'%.5f'%(num_4))"
   ]
  },
  {
   "cell_type": "code",
   "execution_count": 141,
   "id": "4d5e281a",
   "metadata": {},
   "outputs": [
    {
     "name": "stdout",
     "output_type": "stream",
     "text": [
      "'(:.2f)'.format(num_1): 65.34\n",
      "'(:.3f)'.format(num_2): 65.300\n",
      "'(:.4f)'.format(num_3): 65.8000\n",
      "'(:.5f)'.format(num_4): 65.00000\n"
     ]
    }
   ],
   "source": [
    "# Format\n",
    "num_1 = 65.34\n",
    "num_2 = 65.3\n",
    "num_3 = 65.80\n",
    "num_4 = 65.0000000001\n",
    "print(\"'(:.2f)'.format(num_1):\", '{:.2f}'.format(num_1))\n",
    "print(\"'(:.3f)'.format(num_2):\", '{:.3f}'.format(num_2))\n",
    "print(\"'(:.4f)'.format(num_3):\", '{:.4f}'.format(num_3))\n",
    "print(\"'(:.5f)'.format(num_4):\", '{:.5f}'.format(num_4))"
   ]
  },
  {
   "cell_type": "code",
   "execution_count": null,
   "id": "74d240a9",
   "metadata": {},
   "outputs": [],
   "source": []
  }
 ],
 "metadata": {
  "kernelspec": {
   "display_name": "Python 3 (ipykernel)",
   "language": "python",
   "name": "python3"
  },
  "language_info": {
   "codemirror_mode": {
    "name": "ipython",
    "version": 3
   },
   "file_extension": ".py",
   "mimetype": "text/x-python",
   "name": "python",
   "nbconvert_exporter": "python",
   "pygments_lexer": "ipython3",
   "version": "3.11.3"
  }
 },
 "nbformat": 4,
 "nbformat_minor": 5
}
