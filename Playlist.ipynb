{
 "cells": [
  {
   "cell_type": "code",
   "execution_count": null,
   "id": "b0daa9fc",
   "metadata": {},
   "outputs": [
    {
     "name": "stdout",
     "output_type": "stream",
     "text": [
      "El futuro llegó del pasado\n",
      "\n",
      "El hit lo pones tú\n",
      "Inserte nombre de canción, artista, banda o album\n"
     ]
    }
   ],
   "source": [
    "import requests\n",
    "\n",
    "print(\"El futuro llegó del pasado\\n\")\n",
    "\n",
    "print(\"El hit lo pones tú\")\n",
    "print(\"Inserte Nombre de Canción, Artista, Banda o Album.\")\n",
    "word_to_search = input()\n",
    "\n",
    "url = \"https://deezerdevs-deezer.p.rapidapi.com/search\"\n",
    "querystring = {\"q\": word_to_search}\n",
    "headers = {\n",
    "    \"X-RapidAPI-Key\": \"3ed98f551fmshe4e6260228c4eadp13db17jsn8c893e1194da\",\n",
    "    \"X-RapidAPI-Host\": \"deezerdevs-deezer.p.rapidapi.com\"\n",
    "}\n",
    "\n",
    "response = requests.request(\"GET\", url, headers=headers, params=querystring).json()\n",
    "\n",
    "\n",
    "playlist = []\n",
    "for element in response['data']:\n",
    "    song_title = element['title']\n",
    "    artist_name = element['artist']['name']\n",
    "    song_tuple = (song_title, artist_name)\n",
    "    playlist.append(song_tuple)\n",
    "\n",
    "\n",
    "print(\"\\nPlaylist:\")\n",
    "for index, song in enumerate(playlist, start=1):\n",
    "    print(f\"Canción {index}: {song[0]} - {song[1]}\")"
   ]
  }
 ],
 "metadata": {
  "kernelspec": {
   "display_name": "Python 3 (ipykernel)",
   "language": "python",
   "name": "python3"
  },
  "language_info": {
   "codemirror_mode": {
    "name": "ipython",
    "version": 3
   },
   "file_extension": ".py",
   "mimetype": "text/x-python",
   "name": "python",
   "nbconvert_exporter": "python",
   "pygments_lexer": "ipython3",
   "version": "3.11.3"
  }
 },
 "nbformat": 4,
 "nbformat_minor": 5
}
