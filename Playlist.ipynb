{
 "cells": [
  {
   "cell_type": "code",
   "execution_count": null,
   "id": "b0daa9fc",
   "metadata": {},
   "outputs": [
    {
     "name": "stdout",
     "output_type": "stream",
     "text": [
      "playlist\n",
      "\n",
      "El futuro llego del pasado\n",
      "Ejemplo: 'rock', y obtendrás un playlist de canciones o artistas que incluyan la palabra rock\n"
     ]
    }
   ],
   "source": [
    "import requests\n",
    "\n",
    "playlist = 'Lista de reproducción'  \n",
    "\n",
    "print(\"playlist\\n\")\n",
    "\n",
    "# Referencia: https://www.deezer.com/en/channels/explore\n",
    "\n",
    "print(\"El futuro llego del pasado\") \n",
    "print(\"Ejemplo: 'rock', y obtendrás un playlist de canciones o artistas que incluyan la palabra rock\")\n",
    "\n",
    "word_to_search = input() \n",
    "url =  \"https://deezerdevs-deezer.p.rapidapi.com/search\"\n",
    "querystring = {\"q\":word_to_search}\n",
    "\n",
    "headers = { \n",
    "    \"X-RapidAPI-Key\": \"3ed98f551fmshe4e6260228c4eadp13db17jsn8c893e1194da\",\n",
    "    \"X-RapidAPI-Host\":  \"deezerdevs-deezer.p.rapidapi.com\" \n",
    "           } \n",
    "response = requests.request(\"GET\", url, headers=headers, params=querystring).json() \n",
    "\n",
    "for element in response['data']:\n",
    "    my_tuple = (element['Ride On Time'], element['artist']['Tatsuro Yamashita'])\n",
    "    playlist.append(my_tuple)\n",
    "       \n",
    "print(\"\\n¡Playlist generada con éxito!\")\n",
    "print(\"Contenido de la playlist:\")\n",
    "for index, song in enumerate(playlist, start=1):\n",
    "    print(f\"{index}. {song[0]} - {song[1]}\")"
   ]
  }
 ],
 "metadata": {
  "kernelspec": {
   "display_name": "Python 3 (ipykernel)",
   "language": "python",
   "name": "python3"
  },
  "language_info": {
   "codemirror_mode": {
    "name": "ipython",
    "version": 3
   },
   "file_extension": ".py",
   "mimetype": "text/x-python",
   "name": "python",
   "nbconvert_exporter": "python",
   "pygments_lexer": "ipython3",
   "version": "3.11.3"
  }
 },
 "nbformat": 4,
 "nbformat_minor": 5
}
