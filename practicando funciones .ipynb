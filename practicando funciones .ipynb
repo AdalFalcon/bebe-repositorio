{
 "cells": [
  {
   "cell_type": "code",
   "execution_count": null,
   "id": "d395c71e",
   "metadata": {},
   "outputs": [],
   "source": [
    "# Escribir una función que aplique un descuento a un precio y otra que aplique el IVA a un precio. \n",
    "   # Escribir una tercera función que reciba un diccionario con los precios y porcentajes\n",
    "     # de una cesta de la compra, y una de las funciones anteriores,  \n",
    "       # utilice la función pasada para aplicar los descuentos o el IVA a los productos de la cesta\n",
    "        #y devolver el precio final de la cesta."
   ]
  },
  {
   "cell_type": "code",
   "execution_count": 5,
   "id": "e16e6e78",
   "metadata": {},
   "outputs": [
    {
     "name": "stdout",
     "output_type": "stream",
     "text": [
      "Ingrese el precio: 300\n",
      "Ingrese el descuento en porcentaje: 50\n",
      "El total a pagar es 150.0\n"
     ]
    }
   ],
   "source": [
    "aplicar_descuento = lambda precio, descuento: precio - (descuento * precio)\n",
    "\n",
    "def descuento():\n",
    "    try:\n",
    "        precio = float(input(\"Ingrese el precio: \"))\n",
    "        descuento = float(input(\"Ingrese el descuento en porcentaje: \"))\n",
    "    except ValueError:\n",
    "        return \"Error: Ingrese un número válido para el precio y el descuento.\"\n",
    "\n",
    "    descuento /= 100  # Convertir el descuento a fracción si se ingresó en porcentaje\n",
    "    descuento_total = aplicar_descuento(precio, descuento)\n",
    "    \n",
    "    return \"El total a pagar es {}\".format(descuento_total)\n",
    "\n",
    "resultado_1 = descuento()\n",
    "print(resultado_1)"
   ]
  },
  {
   "cell_type": "code",
   "execution_count": 7,
   "id": "9318b17f",
   "metadata": {},
   "outputs": [
    {
     "name": "stdout",
     "output_type": "stream",
     "text": [
      "Ingrese el precio del producto: 60\n",
      "Ingrese el iva en porcentaje: 10\n",
      "El precio con iva es 60.66\n"
     ]
    }
   ],
   "source": [
    "def precio_con_iva (precio, iva):\n",
    "    return precio + (precio * iva/100)\n",
    "\n",
    "\n",
    "def calcular_iva ():\n",
    "    try:\n",
    "        precio = float(input(\"Ingrese el precio del producto: \"))\n",
    "        iva = float(input(\"Ingrese el iva en porcentaje: \"))\n",
    "    except ValueError:\n",
    "        return \"Ingrese un número valido para aplicar Iva\"\n",
    "    \n",
    "    iva /=100\n",
    "    precio_total = precio_con_iva(precio, 1 + iva)\n",
    "    \n",
    "    return \"El precio con iva es {}\".format(precio_total)\n",
    "\n",
    "resultado_2 = calcular_iva ()\n",
    "print(resultado_2)\n",
    "    \n",
    "    \n",
    "    "
   ]
  },
  {
   "cell_type": "code",
   "execution_count": 5,
   "id": "74f2b2c4",
   "metadata": {},
   "outputs": [
    {
     "name": "stdout",
     "output_type": "stream",
     "text": [
      "Ingrese el precio: 500\n",
      "Ingrese el descuento en porcentaje: 50\n",
      "El cargo por iva es del: 16\n",
      "El precio total es 252.9\n"
     ]
    }
   ],
   "source": [
    "def aplicar_descuento(precio,descuento):\n",
    "    return precio - (descuento * precio)\n",
    "        \n",
    "        \n",
    "def precio_con_iva (precio, iva):\n",
    "    return precio + (precio * iva/100)\n",
    "  \n",
    "def calcular_total():\n",
    "    try:\n",
    "        precio = float(input(\"Ingrese el precio: \"))\n",
    "        descuento = float(input(\"Ingrese el descuento en porcentaje: \"))\n",
    "        iva = float(input(\"El cargo por iva es del: \"))\n",
    "    except ValueError:\n",
    "        return \"Error: Ingrese un número válido para el precio y el descuento.\"\n",
    "\n",
    "    descuento /= 100  # Convertir el descuento a fracción si se ingresó en porcentaje\n",
    "    iva /=100\n",
    "    \n",
    "    precio_con_descuento = aplicar_descuento(precio, descuento)\n",
    "    precio_total = precio_con_iva(precio_con_descuento, 1 + iva)\n",
    "    \n",
    "    return \"El precio total es {}\".format(precio_total)\n",
    "\n",
    "resultado_4 = calcular_total()\n",
    "print (resultado_4)    \n",
    "        "
   ]
  }
 ],
 "metadata": {
  "kernelspec": {
   "display_name": "Python 3 (ipykernel)",
   "language": "python",
   "name": "python3"
  },
  "language_info": {
   "codemirror_mode": {
    "name": "ipython",
    "version": 3
   },
   "file_extension": ".py",
   "mimetype": "text/x-python",
   "name": "python",
   "nbconvert_exporter": "python",
   "pygments_lexer": "ipython3",
   "version": "3.11.3"
  }
 },
 "nbformat": 4,
 "nbformat_minor": 5
}
