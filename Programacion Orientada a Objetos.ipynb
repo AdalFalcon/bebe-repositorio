{
 "cells": [
  {
   "cell_type": "code",
   "execution_count": 39,
   "id": "b8987d41",
   "metadata": {},
   "outputs": [
    {
     "name": "stdout",
     "output_type": "stream",
     "text": [
      "Creando perro Choche, Chihuhua, Mamifero\n",
      "Creando perro Blanca, Pinsher, Mamifero\n",
      "Mamifero\n",
      "<class 'str'>\n"
     ]
    }
   ],
   "source": [
    "class Perro:\n",
    "    def __init__(self, nombre, raza, especie):\n",
    "        print(f\"Creando perro {nombre}, {raza}, {especie}\")\n",
    "        self.nombre = nombre\n",
    "        self.raza = raza\n",
    "        self.especie = especie\n",
    "mi_perro_1 = Perro(\"Choche\",\"Chihuhua\",\"Mamifero\")\n",
    "mi_perro_2 = Perro(\"Blanca\",\"Pinsher\",\"Mamifero\")\n",
    "\n",
    "\n",
    "\n",
    "print(mi_perro_1.especie)\n",
    "print(type(mi_perro_2.nombre))\n"
   ]
  },
  {
   "cell_type": "code",
   "execution_count": 57,
   "id": "06b6287b",
   "metadata": {},
   "outputs": [
    {
     "name": "stdout",
     "output_type": "stream",
     "text": [
      "Este animal se llama Choche y es Chihuahua es un Mamifero\n",
      "Mamiféro\n"
     ]
    }
   ],
   "source": [
    "class Perro:\n",
    "    especie_1 = \"Mamiféro\"\n",
    "    especie_2 = \"Octopodo\"\n",
    "    \n",
    "    def __init__(self, nombre, raza, especie):\n",
    "        print(f\"Este animal se llama {nombre} y es {raza} es un {especie}\")\n",
    "        \n",
    "        self.nombre = nombre\n",
    "        self.raza = raza\n",
    "        self.especie = especie\n",
    "\n",
    "mi_perro = Perro(\"Choche\", \"Chihuahua\", \"Mamifero\")\n",
    "\n",
    "\n",
    "\n",
    "print(type(Perro.especie_1) (mi_perro.especie_1))\n",
    "\n",
    "\n",
    "    "
   ]
  },
  {
   "cell_type": "code",
   "execution_count": 7,
   "id": "02abedde",
   "metadata": {},
   "outputs": [
    {
     "name": "stdout",
     "output_type": "stream",
     "text": [
      "Este perro es un Chihuahua, se llama Choche\n",
      "Caminando, 10 pasos\n",
      "guau\n"
     ]
    }
   ],
   "source": [
    "class Perro:\n",
    "    especie = 'Mamiféro'\n",
    "    def __init__ (self, raza, nombre):\n",
    "        self.nombre = nombre\n",
    "        self.raza = raza\n",
    "        print (f\"Este perro es un {raza}, se llama {nombre}\")\n",
    "    def ladrido (self):\n",
    "        print(\"guau\")\n",
    "    def caminata (self, pasos):\n",
    "        print (f\"Caminando, {pasos} pasos\")\n",
    "\n",
    "mi_perro = Perro (\"Chihuahua\",\"Choche\")\n",
    "mi_perro.caminata(10)\n",
    "mi_perro.ladrido()\n",
    "    "
   ]
  },
  {
   "cell_type": "code",
   "execution_count": 34,
   "id": "cdbe3996",
   "metadata": {},
   "outputs": [
    {
     "name": "stdout",
     "output_type": "stream",
     "text": [
      "WOF WOF, a veces digo GUAU GUAU\n",
      "Como hacen los bisteces: Tsss\n",
      "No soy un pokemon soy un Vivora\n",
      "No soy un pokemon soy un Canario\n",
      "No entendiste idiota, Vuelo!!!!\n"
     ]
    }
   ],
   "source": [
    "class Animials:\n",
    "    def __init__ (self, especie, edad):\n",
    "        self.especie = especie\n",
    "        self.edad = edad\n",
    "        \n",
    "    def sonido(self):\n",
    "            #metodo vacio\n",
    "            pass\n",
    "        \n",
    "    def movimiento (self):\n",
    "            #metodo vacio\n",
    "            pass\n",
    "        \n",
    "    def descripción (self):\n",
    "            print(\"No soy un pokemon soy un\", type(self).__name__)\n",
    "\n",
    "class Perro (Animials):\n",
    "    def sonido (self):\n",
    "        print(\"WOF WOF, a veces digo GUAU GUAU\")\n",
    "    def movimiento (self):\n",
    "        print(\"Como tu novia: A cuatro patas mi rey :V\")\n",
    "    \n",
    "\n",
    "class Vivora (Animials):\n",
    "    def sonido (self):\n",
    "        print (\"Como hacen los bisteces: Tsss\")\n",
    "    def movimiento(self):\n",
    "        print (\"Me arrastro, man. Que te digo\")\n",
    "\n",
    "class Canario(Animials):\n",
    "    def sonido (self):\n",
    "        print(\"Pio Pio, hijo de perra. ¿Quien preguta?\")\n",
    "    def movimiento(self):\n",
    "        print(\"Cuando me canso de usar las alas uso mis pies, como ves?\")\n",
    "        \n",
    "    def volar (self):\n",
    "        print(\"No entendiste idiota, Vuelo!!!!\")\n",
    "\n",
    "mi_perro = Perro (\"Mamifero\", 4)\n",
    "mi_vivora = Vivora (\"Reptil\",2)\n",
    "mi_canario = Canario (\"Vertebrado\", 3)\n",
    "\n",
    "mi_perro.sonido()\n",
    "mi_vivora.sonido()\n",
    "\n",
    "mi_vivora.descripción()\n",
    "mi_canario.descripción()\n",
    "\n",
    "mi_canario.volar()\n"
   ]
  },
  {
   "cell_type": "code",
   "execution_count": null,
   "id": "2e3397a9",
   "metadata": {},
   "outputs": [],
   "source": []
  }
 ],
 "metadata": {
  "kernelspec": {
   "display_name": "Python 3 (ipykernel)",
   "language": "python",
   "name": "python3"
  },
  "language_info": {
   "codemirror_mode": {
    "name": "ipython",
    "version": 3
   },
   "file_extension": ".py",
   "mimetype": "text/x-python",
   "name": "python",
   "nbconvert_exporter": "python",
   "pygments_lexer": "ipython3",
   "version": "3.11.3"
  }
 },
 "nbformat": 4,
 "nbformat_minor": 5
}
