{
 "cells": [
  {
   "cell_type": "code",
   "execution_count": 151,
   "id": "ede80ab0",
   "metadata": {},
   "outputs": [
    {
     "name": "stdout",
     "output_type": "stream",
     "text": [
      "Analizador de sentimientos\n",
      "\n",
      "my_string_1:\n",
      "Este es un producto muy bueno, excelente, maravilloso\n",
      " \n",
      "score_1:0 \n",
      "resultado: Neutro\n",
      "my_string_2:\n",
      "Este es un producto muy bueno, excelente, maravilloso\n",
      " \n",
      "score_2:1 \n",
      "resultado: Positivo\n",
      "my_string_3\n",
      "utíl, \"necesario, justo\n",
      " \n",
      "score_3:-1 \n",
      "resultado: Negativo\n"
     ]
    }
   ],
   "source": [
    "my_string_1 = \"\"\"\n",
    "Este es un producto muy bueno, excelente, maravilloso\n",
    "\"\"\"\n",
    "my_string_2 = \"\"\"\n",
    "Este es un producto muy bueno, excelente, maravilloso\n",
    "\"\"\"\n",
    "my_string_3 = \"\"\"\n",
    "utíl, \"necesario, justo\n",
    "\"\"\"\n",
    "\n",
    "neutral_words = [\"utíl\", \"necesario\", \"justo\"]\n",
    "positive_words = [\"bueno\", \"excelente\", \"maravilloso\"]\n",
    "negative_words = [\"defectuoso\", \"malo\", \"horrible\"]\n",
    "\n",
    "my_string = my_string.lower()\n",
    "\n",
    "words = my_string.split()\n",
    "\n",
    "score_1 = 0\n",
    "score_2 = 1\n",
    "score_3 = -1\n",
    "\n",
    "for word in words:\n",
    "    if word in positive_words:\n",
    "        score += 1\n",
    "    elif word in negative_words:\n",
    "        score -= 1\n",
    "        \n",
    "\n",
    "if score_1 == 0:\n",
    "    result = \"Neutro\"\n",
    "if score > 0:\n",
    "    result_2 = \"Positivo\"\n",
    "if score :\n",
    "    result_3 = \"Negativo\"\n",
    "\n",
    "print(\"Analizador de sentimientos\\n\")\n",
    "print(\"my_string_1:{\"\"} \\nscore_1:{} \\nresultado: {}\".format(my_string_1, score_1, result))\n",
    "print(\"my_string_2:{\"\"} \\nscore_2:{} \\nresultado: {}\".format(my_string_2, score_2, result_2))\n",
    "print(\"my_string_3{\"\"} \\nscore_3:{} \\nresultado: {}\".format(my_string_3, score_3, result_3))"
   ]
  },
  {
   "cell_type": "code",
   "execution_count": null,
   "id": "895b4f3b",
   "metadata": {},
   "outputs": [],
   "source": []
  }
 ],
 "metadata": {
  "kernelspec": {
   "display_name": "Python 3 (ipykernel)",
   "language": "python",
   "name": "python3"
  },
  "language_info": {
   "codemirror_mode": {
    "name": "ipython",
    "version": 3
   },
   "file_extension": ".py",
   "mimetype": "text/x-python",
   "name": "python",
   "nbconvert_exporter": "python",
   "pygments_lexer": "ipython3",
   "version": "3.11.3"
  }
 },
 "nbformat": 4,
 "nbformat_minor": 5
}
