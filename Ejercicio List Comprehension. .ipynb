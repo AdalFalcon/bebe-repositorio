{
 "cells": [
  {
   "cell_type": "code",
   "execution_count": null,
   "id": "2fbc8c15",
   "metadata": {},
   "outputs": [],
   "source": [
    "# En lista\n",
    "\n",
    "import requests\n",
    "\n",
    "print(\"Lista de Reproducción\\n\")\n",
    "print(\"Ingresa la palabra que te gustaría\")\n",
    "print(\"Ejemplo: 'rock', y obtendrás un playlist de canciones o artistas que incluyan la palabra rock\")\n",
    "\n",
    "word_to_search = input()\n",
    "url = \"https://deezerdevs-deezer.p.rapidapi.com/search\"\n",
    "querystring = {\"q\": word_to_search}\n",
    "headers = {\n",
    "    \"X-RapidAPI-Key\": \"3ed98f551fmshe4e6260228c4eadp13db17jsn8c893e1194da\",\n",
    "    \"X-RapidAPI-Host\": \"deezerdevs-deezer.p.rapidapi.com\"\n",
    "}\n",
    "\n",
    "response = requests.request(\"GET\", url, headers=headers, params=querystring).json()\n",
    "\n",
    "# Verificar si la búsqueda no devolvió resultados\n",
    "if not response['data']:\n",
    "    print(f\"No se encontraron resultados para '{word_to_search}'.\")\n",
    "else:\n",
    "    # Utilizando list comprehension\n",
    "    my_list = [[element['title'], element['artist']['name'], element['duration']] for element in response['data']]\n",
    "    print(my_list)"
   ]
  },
  {
   "cell_type": "code",
   "execution_count": null,
   "id": "edcc67e5",
   "metadata": {},
   "outputs": [],
   "source": [
    "# En Tupla\n",
    "\n",
    "import requests\n",
    "\n",
    "print(\"Lista de Reproducción\\n\")\n",
    "print(\"Ingresa la palabra que te gustaría\")\n",
    "print(\"Ejemplo: 'rock', y obtendrás un playlist de canciones o artistas que incluyan la palabra rock\")\n",
    "\n",
    "word_to_search = input()\n",
    "url = \"https://deezerdevs-deezer.p.rapidapi.com/search\"\n",
    "querystring = {\"q\": word_to_search}\n",
    "headers = {\n",
    "    \"X-RapidAPI-Key\": \"3ed98f551fmshe4e6260228c4eadp13db17jsn8c893e1194da\",\n",
    "    \"X-RapidAPI-Host\": \"deezerdevs-deezer.p.rapidapi.com\"\n",
    "}\n",
    "\n",
    "response = requests.request(\"GET\", url, headers=headers, params=querystring).json()\n",
    "\n",
    "# Verificar si la búsqueda no devolvió resultados\n",
    "if not response['data']:\n",
    "    print(f\"No se encontraron resultados para '{word_to_search}'.\")\n",
    "else:\n",
    "    # Utilizando list comprehension e incluyendo la duración\n",
    "    my_list = [tuple([element['title'], element['artist']['name'], {f\"{element['duration'] // 60} min {element['duration'] % 60} seg\"}]) for element in response['data']]\n",
    "\n",
    "    # Ordenar la lista por duración de menor a mayor\n",
    "    sorted_list = sorted(my_list, key=lambda x: x[2])\n",
    "\n",
    "    # Imprimir la lista ordenada por duración\n",
    "    for song_info in sorted_list:\n",
    "        print(f\"Título: {song_info[0]}, Artista: {song_info[1]}, Duración: {song_info[2]} segundos\")"
   ]
  },
  {
   "cell_type": "code",
   "execution_count": null,
   "id": "5b1e7c05",
   "metadata": {
    "scrolled": true
   },
   "outputs": [
    {
     "name": "stdout",
     "output_type": "stream",
     "text": [
      "Lista de Reproducción\n",
      "\n",
      "Ingresa la palabra que te gustaría\n",
      "Ejemplo: 'rock', y obtendrás un playlist de canciones o artistas que incluyan la palabra rock\n"
     ]
    }
   ],
   "source": [
    "#En diccionario\n",
    "\n",
    "import requests\n",
    "\n",
    "print(\"Lista de Reproducción\\n\")\n",
    "print(\"Ingresa la palabra que te gustaría\")\n",
    "print(\"Ejemplo: 'rock', y obtendrás un playlist de canciones o artistas que incluyan la palabra rock\")\n",
    "\n",
    "word_to_search = input()\n",
    "url = \"https://deezerdevs-deezer.p.rapidapi.com/search\"\n",
    "querystring = {\"q\": word_to_search}\n",
    "headers = {\n",
    "    \"X-RapidAPI-Key\": \"3ed98f551fmshe4e6260228c4eadp13db17jsn8c893e1194da\",\n",
    "    \"X-RapidAPI-Host\": \"deezerdevs-deezer.p.rapidapi.com\"\n",
    "}\n",
    "\n",
    "response = requests.request(\"GET\", url, headers=headers, params=querystring).json()\n",
    "\n",
    "# Verificar si la búsqueda no devolvió resultados\n",
    "if not response['data']:\n",
    "    print(f\"No se encontraron resultados para '{word_to_search}'.\")\n",
    "else:\n",
    "    # Utilizando list comprehension e incluyendo la duración en formato minutos y segundos\n",
    "    my_list = [\n",
    "        {\n",
    "            \"Título\": element['title'],\n",
    "            \"Artista\": element['artist']['name'],\n",
    "            \"Duración\": f\"{element['duration'] // 60} min {element['duration'] % 60} seg\"\n",
    "        }\n",
    "        for element in response['data']\n",
    "    ]\n",
    "\n",
    "    # Ordenar la lista por duración de menor a mayor\n",
    "    sorted_list = sorted(my_list, key=lambda x: x[\"Duración\"])\n",
    "\n",
    "    # Imprimir la lista ordenada por duración en forma de diccionario\n",
    "    for song_info in sorted_list:\n",
    "        print(f\"Título: {song_info['Título']}, Artista: {song_info['Artista']}, Duración: {song_info['Duración']}\")"
   ]
  }
 ],
 "metadata": {
  "kernelspec": {
   "display_name": "Python 3 (ipykernel)",
   "language": "python",
   "name": "python3"
  },
  "language_info": {
   "codemirror_mode": {
    "name": "ipython",
    "version": 3
   },
   "file_extension": ".py",
   "mimetype": "text/x-python",
   "name": "python",
   "nbconvert_exporter": "python",
   "pygments_lexer": "ipython3",
   "version": "3.11.3"
  }
 },
 "nbformat": 4,
 "nbformat_minor": 5
}
