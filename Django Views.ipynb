{
 "cells": [
  {
   "cell_type": "markdown",
   "id": "dc853a2e-a2fe-4d8f-ba42-284df287b1bb",
   "metadata": {},
   "source": [
    "# Creando una Vista Hardcodeada"
   ]
  },
  {
   "cell_type": "markdown",
   "id": "aa62f9fa-5890-4dbf-ab89-cc8a38e3686b",
   "metadata": {},
   "source": [
    "La vista es le interaccion mas cercana que el usuario tendra con la aplicacion.\n",
    "El Hadcodeo se refiere a crear un esqueleto estatico el cuaal podra ser modificado y dinamizado con iteraciones\n",
    "\n",
    "#### Las vistas (views) se dividen en dos\n",
    "\n",
    " - Vistas basadas en Funciones;\n",
    " - Vistas basadas en classes\n"
   ]
  },
  {
   "cell_type": "markdown",
   "id": "68c9f79a-07ea-4a91-ad78-901b914afb9b",
   "metadata": {},
   "source": [
    "## Creando una aplicacion en Djnago\n",
    "\n",
    "- Funciones: Siempre se nombran con minusculas.\n",
    "- Clases: siempre se nombran comenzando con mayusulas.\n",
    "\n",
    "python manage.py starapp <nombre_De_la_app> #ecommerce\n",
    "\n"
   ]
  },
  {
   "cell_type": "markdown",
   "id": "b5a57d14-85c7-405f-961d-b5cb21de2ad5",
   "metadata": {},
   "source": [
    "## ecommerce/views.py"
   ]
  },
  {
   "cell_type": "code",
   "execution_count": null,
   "id": "3b90416c-23ef-4ba9-91d3-f3f7f273bebb",
   "metadata": {},
   "outputs": [],
   "source": [
    "from django.shortcuts import render\n",
    "from django.http import HttpResponse\n",
    "    \n",
    "# Create your views here.\n",
    "def home(request):\n",
    "    html = \"\"\"\n",
    "    <!DOCTYPE html>\n",
    "    <html>\n",
    "        <head>\n",
    "            <style>\n",
    "                h1 {color: blue}\n",
    "            </Style>\n",
    "        </head>\n",
    "        \n",
    "        <body>\n",
    "            <h1>Bienvenido a Compumundo Hipermegared</h1>\n",
    "        </body>\n",
    "    </html>\n",
    "    \"\"\"\n",
    "    return HttpResponse (html)"
   ]
  },
  {
   "cell_type": "markdown",
   "id": "b7da8211-43d5-4bec-bb6b-1119f0ce9da1",
   "metadata": {},
   "source": [
    "## ecommerce/urls.py"
   ]
  },
  {
   "cell_type": "code",
   "execution_count": null,
   "id": "f90d8e00-6a6b-4ae6-a55a-b34f027b3404",
   "metadata": {},
   "outputs": [],
   "source": [
    "from django.urls import path\n",
    "\n",
    "from ecommerce import views\n",
    "\n",
    "urlpatterns = [\n",
    "    path(\"\", views.home, name=\"home\"),\n",
    "]\n"
   ]
  },
  {
   "cell_type": "markdown",
   "id": "e8bef5ec-10ef-4dc0-9f07-e3647c49a163",
   "metadata": {},
   "source": [
    "## config/urls.py"
   ]
  },
  {
   "cell_type": "code",
   "execution_count": null,
   "id": "aa393b94-e73a-4ded-b923-5c190612f74a",
   "metadata": {},
   "outputs": [],
   "source": [
    "from django.contrib import admin\n",
    "from django.urls import include\n",
    "from django.urls import path\n",
    "\n",
    "urlpatterns = [\n",
    "    path(\"up/\", include(\"up.urls\")),\n",
    "    path(\"\", include(\"pages.urls\")),\n",
    "    path(\"ecommerce/\", include(\"ecommerce.urls\")), #------> Agregado // Add\n",
    "    path(\"admin/\", admin.site.urls),\n",
    "    path(\"__debug__/\", include(\"debug_toolbar.urls\")),\n",
    "]\n"
   ]
  },
  {
   "cell_type": "markdown",
   "id": "14d09f40-e1ac-48df-8093-d953701388ea",
   "metadata": {},
   "source": [
    "## Respuesta http y redireccionamiento\n",
    "\n",
    "middlewares: Procesos intermedios entre un request y un response "
   ]
  },
  {
   "cell_type": "code",
   "execution_count": null,
   "id": "b777c0a1-24b6-4a22-a8c5-6c76bffe7438",
   "metadata": {},
   "outputs": [],
   "source": [
    "from django.shortcuts import render\n",
    "from django.http import HttpResponse, HttpResponseRedirect\n",
    "    \n",
    "#Create your views here.\n",
    "def home(request):\n",
    "    html = \"\"\"\n",
    "    <!DOCTYPE html>\n",
    "    <html>\n",
    "        <head>\n",
    "            <style>\n",
    "                h1 {color: blue}\n",
    "            </Style>\n",
    "        </head>\n",
    "        \n",
    "        <body>\n",
    "            <h1>Bienvenido a Compumundo Hipermegared</h1>\n",
    "        </body>\n",
    "    </html>\n",
    "    \"\"\"\n",
    "    return HttpResponse (html)\n",
    "\n",
    "# def home(request):\n",
    "#     response = HttpResponse()\n",
    "#     response.write(\"<p>Page Not Found, sorry man</p>\")\n",
    "#     response.status_code = 404\n",
    "#     return response\n",
    "\n",
    "def redirect_to_test(request):\n",
    "    return HttpResponseRedirect(\"/ecommerce\")"
   ]
  },
  {
   "cell_type": "markdown",
   "id": "0fbf3fc4-de95-42c3-a815-82f469a57be5",
   "metadata": {},
   "source": [
    "## Crud y Vistas\n",
    "Forma dinamica de usar las vistas\n",
    "\n",
    "CRUD = Create, Retrieve, Update, Delete. (crear, consultar, actualizar, eliminar)\n",
    "\n",
    "- Crear Modelos.\n",
    "- Agregar la app a INSTALLED_APPS\n",
    "- Crear y Aplicar migraciones.\n",
    "- Agregar Admin.\n"
   ]
  },
  {
   "cell_type": "markdown",
   "id": "b9d79487-f045-47d2-a268-49348a09370b",
   "metadata": {},
   "source": [
    "## ecommerce/models.py"
   ]
  },
  {
   "cell_type": "code",
   "execution_count": null,
   "id": "cf6eb863-fbb1-40ca-8513-8ff34a72af46",
   "metadata": {},
   "outputs": [],
   "source": [
    "from django.db import models\n",
    "\n",
    "# Create your models here.\n",
    "class ProductModel (models.Model):\n",
    "    title = models.TextField()\n",
    "    price = models.FloatField()"
   ]
  },
  {
   "cell_type": "markdown",
   "id": "828d0e2a-571f-406b-92f4-f8b47c31458f",
   "metadata": {},
   "source": [
    "## Config/settinngs.py"
   ]
  },
  {
   "cell_type": "code",
   "execution_count": null,
   "id": "29c64343-528f-4270-bdad-64f6d312f060",
   "metadata": {},
   "outputs": [],
   "source": [
    "...\n",
    "\n",
    "INSTINSTALLED_APPS = [\n",
    "    \"pages.apps.PagesConfig\",\n",
    "    \"ecommerce.apps.EcommerceConfig\",##<------ Agregado / Add\n",
    "    \"debug_toolbar\",\n",
    "    \"django.contrib.admin\",\n",
    "    \"django.contrib.auth\",\n",
    "    \"django.contrib.contenttypes\",\n",
    "    \"django.contrib.sessions\",\n",
    "    \"django.contrib.messages\",\n",
    "    \"django.contrib.staticfiles\",\n",
    "]\n",
    "\n",
    "]\n",
    "..."
   ]
  },
  {
   "cell_type": "markdown",
   "id": "df02554e-8eb2-49b6-9ca8-6706007b425d",
   "metadata": {},
   "source": [
    "## Cómo correr migraciones\n",
    "\n",
    "- python manage.py makemigrations\n",
    "- python manage.py migrate"
   ]
  },
  {
   "cell_type": "markdown",
   "id": "f4878bc0-7b61-4a6c-aa89-f94e9eea4e9f",
   "metadata": {},
   "source": [
    "## Registrar un modelo en el admin\n"
   ]
  },
  {
   "cell_type": "code",
   "execution_count": null,
   "id": "bb2867d2-a307-4091-9f21-985051cb37ce",
   "metadata": {},
   "outputs": [],
   "source": [
    "\n",
    "from django.contrib import admin\n",
    "\n",
    "from .models import ProductModel\n",
    "\n",
    "# Register your models here.\n",
    "\n",
    "admin.site.register(ProductModel)"
   ]
  },
  {
   "cell_type": "markdown",
   "id": "3d15a368-1ae4-4b79-a580-16b511c8ff83",
   "metadata": {},
   "source": [
    " ## Crear un superuser para el admin\n",
    "\n",
    " - python manage.py createsuperuser"
   ]
  },
  {
   "cell_type": "markdown",
   "id": "fb8da3d6-d986-40c7-b81d-952c9b355a1d",
   "metadata": {},
   "source": [
    "## Tipos básicos de vistas\n",
    "- List View ---> Se pueden ver los usuarios creados.\n",
    "- Create View ---> Se pueden insertar los datos para crear usuario.\n",
    "- Retrive and Update View --> Moidificar usuarios al seleccionarlos\n",
    "- Delete View ---> Elimina y Confirma."
   ]
  },
  {
   "cell_type": "markdown",
   "id": "649fc37c-7277-469b-b307-b0779b73cc8c",
   "metadata": {},
   "source": [
    "## ecommerce/viws.py"
   ]
  },
  {
   "cell_type": "code",
   "execution_count": null,
   "id": "bbb86378-5924-4635-b352-548a027dd938",
   "metadata": {},
   "outputs": [],
   "source": [
    "from django.shortcuts import render\n",
    "from django.http import HttpResponse, HttpResponseRedirect\n",
    "\n",
    "from .models import ProductModel\n",
    "\n",
    "#Create your views here.\n",
    "\n",
    "def product_model_list_view (request):\n",
    "    queryset - ProductModel.objects.all()\n",
    "    print(queryset)\n",
    "    return HttpResponse(\"La moda la haces tú\")"
   ]
  },
  {
   "cell_type": "markdown",
   "id": "5170f47b-ed44-4753-b4c2-ba8ce01965ef",
   "metadata": {},
   "source": [
    "# Usando Templates"
   ]
  },
  {
   "cell_type": "markdown",
   "id": "020d745c-2e3f-48de-aeb1-b749d9755f0f",
   "metadata": {},
   "source": [
    "## ecommerce/views.py"
   ]
  },
  {
   "cell_type": "code",
   "execution_count": null,
   "id": "b0537ee5-a06d-404d-8cf3-7941d4426d82",
   "metadata": {},
   "outputs": [],
   "source": [
    "from django.shortcuts import render\n",
    "from django.http import HttpResponse, HttpResponseRedirect\n",
    "\n",
    "from .models import ProductModel\n",
    "\n",
    "#Create your views here.\n",
    "\n",
    "def product_model_list_view (request):\n",
    "    queryset - ProductModel.objects.all()\n",
    "    print(queryset)\n",
    "    templetes = \"ecommerce/list-view.html\"\n",
    "    context = {\n",
    "        \"products\" : queryset\n",
    "    }\n",
    "    return render(request, template, context)"
   ]
  },
  {
   "cell_type": "markdown",
   "id": "777faadc-10fa-412d-9ca4-2c6ab5c733c5",
   "metadata": {},
   "source": [
    "## templates/ecommerce/list-view.html"
   ]
  },
  {
   "cell_type": "code",
   "execution_count": null,
   "id": "e656365f-e9e3-4029-963b-b980e01ab33e",
   "metadata": {},
   "outputs": [],
   "source": [
    "<h1>\n",
    "Vista de Listado\n",
    "</h1>\n",
    "\n",
    "{% for product in products %}\n",
    "<li>\n",
    "    {{product.title}}{{product.price}}\n",
    "</li>\n",
    "{% endfor %}"
   ]
  },
  {
   "cell_type": "markdown",
   "id": "f6af862e-cc7f-414a-a19b-31210f087db5",
   "metadata": {},
   "source": [
    "## Protegiendo los endpoints"
   ]
  },
  {
   "cell_type": "code",
   "execution_count": null,
   "id": "9da46440-18f2-4392-a13d-83b55f852119",
   "metadata": {},
   "outputs": [],
   "source": [
    "#@login_required\n",
    "\n",
    "def product_model_list_view(request):\n",
    "    print(request.user)\n",
    "    queryset = ProductModel.objects.all()\n",
    "    template  = \"ecommerce/list-view.html\"\n",
    "    context = {\n",
    "        \"products\": queryset\n",
    "    }\n",
    "    \n",
    "    if request.user.is_authenticated:\n",
    "        template = \"ecommerce/list-view.html\"\n",
    "    else:\n",
    "        template = \"ecommerce/list-view-public.html\"\n",
    "    \n",
    "    return render(request, template, context)\n",
    "\n",
    "@login_required\n",
    "\n",
    "def login_required_view(request):\n",
    "    print(request.user)\n",
    "    queryset = ProductModel.objects.all()\n",
    "    template  = \"ecommerce/list-view.html\"\n",
    "    context = {\n",
    "        \"products\": queryset\n",
    "    }\n",
    "    \n",
    "    if request.user.is_authenticated:\n",
    "        template = \"ecommerce/list-view.html\"\n",
    "    else:\n",
    "        template = \"ecommerce/list-view-public.html\"\n",
    "    \n",
    "    return render(request, template, context)"
   ]
  },
  {
   "cell_type": "markdown",
   "id": "00b266e5-4a5d-4718-9239-ffca18a97e07",
   "metadata": {},
   "source": [
    "## Vista de Detalle"
   ]
  },
  {
   "cell_type": "markdown",
   "id": "77ac8ab0-5681-4e37-b4d5-925d8b0a36ea",
   "metadata": {},
   "source": [
    "## ecommerce/views.py"
   ]
  },
  {
   "cell_type": "code",
   "execution_count": null,
   "id": "5d8b05cc-773b-4436-b49e-4d67ad0aad57",
   "metadata": {},
   "outputs": [],
   "source": [
    "from django.contrib.auth.decorators import login_required\n",
    "from django.shortcuts import render, get_object_or_404\n",
    "from django.http import HttpResponse, HttpResponseRedirect\n",
    "\n",
    "from .models import ProductModel\n",
    "\n",
    "#Create your views here.\n",
    "\n",
    "def product_model_detail_view(request, product_id):\n",
    "    instance = get_object_or_404(ProductModel, id=product_id)\n",
    "    context = {\n",
    "        \"product\" : instance\n",
    "    }\n",
    "    template = \"ecommerce/detail-view.html\"\n",
    "    return render(request, template, context)\n",
    "\n",
    "# Las demas views"
   ]
  },
  {
   "cell_type": "markdown",
   "id": "e80913c4-825b-4a9e-ad24-381cf8f161bd",
   "metadata": {},
   "source": [
    "## ecommerce/urls.py"
   ]
  },
  {
   "cell_type": "code",
   "execution_count": null,
   "id": "de52c5ea-4c7f-453e-aa4a-f36e880c17c8",
   "metadata": {},
   "outputs": [],
   "source": [
    "from django.urls import path\n",
    "\n",
    "from ecommerce import views\n",
    "\n",
    "urlpatterns = [\n",
    "    path(\"\", views.product_model_list_view, name=\"list\"),\n",
    "    path (\"<int:product_id>\", views.product_model_detail_view, name=\"detail\"),#<----- agregado / add\n",
    "]"
   ]
  },
  {
   "cell_type": "markdown",
   "id": "a2282729-094e-4aee-b13e-47edbbb47fd1",
   "metadata": {},
   "source": [
    "## templates/ecommerce/detail-view.html"
   ]
  },
  {
   "cell_type": "code",
   "execution_count": null,
   "id": "842b214b-c270-428c-9035-997a8c56bc39",
   "metadata": {},
   "outputs": [],
   "source": [
    "<h1>\n",
    "\n",
    "    {{ product.title }}\n",
    "    {{ product.price }}\n",
    "\n",
    "\n",
    "</h1>"
   ]
  },
  {
   "cell_type": "markdown",
   "id": "afffd29e-0819-41cb-8bde-19cff2272a5d",
   "metadata": {},
   "source": [
    "## templates/ecommerce/list-view.html"
   ]
  },
  {
   "cell_type": "code",
   "execution_count": null,
   "id": "ad78c5d2-d901-4618-a54d-23ce026c78b5",
   "metadata": {},
   "outputs": [],
   "source": [
    "<h1>\n",
    "Vista de Listado\n",
    "</h1>\n",
    "\n",
    "{% for product in products %}\n",
    "<li>\n",
    "    \n",
    "    <a href=\"/ecommerce/{{product.id}}\">{{product.title}} </a>\n",
    "\n",
    "</li>\n",
    "{% endfor %}"
   ]
  },
  {
   "cell_type": "markdown",
   "id": "16470774-7fca-44f4-86f2-db82f11215ed",
   "metadata": {},
   "source": [
    "# Vista de Creación"
   ]
  },
  {
   "cell_type": "markdown",
   "id": "f5a12354-9e6e-46bc-9a92-d1bae62f8add",
   "metadata": {},
   "source": [
    "## ecommerce/views.py"
   ]
  },
  {
   "cell_type": "code",
   "execution_count": null,
   "id": "e08a0752-5d37-4b8f-99ba-d0f260585b64",
   "metadata": {},
   "outputs": [],
   "source": [
    "from django.contrib.auth.decorators import login_required\n",
    "from django.contrib import messages\n",
    "from django.shortcuts import render, get_object_or_404\n",
    "from django.http import HttpResponse, HttpResponseRedirect\n",
    "\n",
    "from .forms import ProductModelForm\n",
    "from .models import ProductModel\n",
    "\n",
    "#Create your views here.\n",
    "\n",
    "#@login_required\n",
    "\n",
    "def product_model_create_view(request):\n",
    "    form = ProductModelForm(request.POST or none)\n",
    "    if form.is_valid():\n",
    "        instance = form.save (commit=False)\n",
    "        instance.save()\n",
    "        message.succes(request, \"Producto creado con éxito\")\n",
    "        return HttpResponseRedirect(\"/ecommerce/{product_id}\".format(product_id+instance.id))\n",
    "    context = {\n",
    "        \"form\": form\n",
    "    }\n",
    "    \n",
    "    template = \"ecommerce/create-view.html\"\n",
    "   \n",
    "    return render(request, template, context)\n"
   ]
  },
  {
   "cell_type": "markdown",
   "id": "3c510e86-2a95-4019-bc75-5f3fa8689113",
   "metadata": {},
   "source": [
    "## ecommerce/forms.py"
   ]
  },
  {
   "cell_type": "code",
   "execution_count": null,
   "id": "1eb8f402-b039-4018-bc41-96a99feb5dcc",
   "metadata": {},
   "outputs": [],
   "source": [
    "from django import forms    \n",
    "from .models import ProductModel\n",
    "\n",
    "class ProductModelForm(forms.ModelForm):\n",
    "    class Meta:\n",
    "        model = ProductModel\n",
    "        fields = [\n",
    "            \"title\",\n",
    "            \"price\"\n",
    "        ]"
   ]
  },
  {
   "cell_type": "markdown",
   "id": "3ebc065b-1f62-4561-b872-4fbec71814e6",
   "metadata": {},
   "source": [
    "## templates/ecommerce/messages.html"
   ]
  },
  {
   "cell_type": "code",
   "execution_count": null,
   "id": "d9ec2514-415a-4e17-8a17-1b2e9b8dad57",
   "metadata": {},
   "outputs": [],
   "source": [
    "{% if messages %}\n",
    "<ul class=\"messages\">\n",
    "    {% for message in messages %}\n",
    "    <li{% if message.tags %} class=\"{{ message.tags }}\"{% endif %}>{{ message }}</li>\n",
    "    {% endfor %}\n",
    "</ul>\n",
    "{% endif %}"
   ]
  },
  {
   "cell_type": "code",
   "execution_count": null,
   "id": "fc7ef687-9079-423e-b903-d538ac087f09",
   "metadata": {},
   "outputs": [],
   "source": [
    "Se agrega la siguiente linea para hacer visible los mensajes en las listas:\n",
    "\n",
    "{ % include \"ecommerce/messages.html\" % }"
   ]
  },
  {
   "cell_type": "markdown",
   "id": "0ac0b159-b3ab-4261-b045-b6c90388e2e3",
   "metadata": {},
   "source": [
    "## templates/ecommerce/create-view.html"
   ]
  },
  {
   "cell_type": "code",
   "execution_count": null,
   "id": "8b9abadb-26df-4d94-b777-345e9be463a3",
   "metadata": {},
   "outputs": [],
   "source": [
    "{% include \"ecommerce/messages.html\" %}\n",
    "<h1>\n",
    "     Crear un Nuevo Producto\n",
    "</h1>\n",
    "\n",
    "<form method = \"POST\" action=\".\"> {% csrf_token %}\n",
    "{{form.as_p}}\n",
    "\n",
    "<input type = \"submit\" value = \"crear\">\n",
    "\n",
    "</form>\n"
   ]
  },
  {
   "cell_type": "markdown",
   "id": "30d5ab8b-dc2e-40e9-b254-298b595deac6",
   "metadata": {},
   "source": [
    "# Vista de Actualización\n"
   ]
  },
  {
   "cell_type": "markdown",
   "id": "41d133dc-7c57-409c-8484-f554c3a44e49",
   "metadata": {},
   "source": [
    "## ecommerce/views.py"
   ]
  },
  {
   "cell_type": "code",
   "execution_count": null,
   "id": "dcb7a12f-69b6-4641-99ca-45a86f7a34ff",
   "metadata": {},
   "outputs": [],
   "source": [
    "from django.contrib.auth.decorators import login_required\n",
    "from django.contrib import messages\n",
    "from django.shortcuts import render, get_object_or_404\n",
    "from django.http import HttpResponse, HttpResponseRedirect\n",
    "\n",
    "from .forms import ProductModelForm\n",
    "from .models import ProductModel\n",
    "    \n",
    "\n",
    "def product_model_update_view(request, product_id=None):\n",
    "    instance = get_object_or_404(ProductModel, id=product_id)\n",
    "    form = ProductModelForm(request.POST or None, instance= instance)\n",
    "    if form.is_valid():\n",
    "        instance = form.save (commit=False)\n",
    "        instance.save()\n",
    "        messages.succes(request, \"Producto Eliminado con éxito\")\n",
    "        return HttpResponseRedirect(\"/ecommerce/{product_id}\".format(product_id=instance.id))\n",
    "    context ={\n",
    "        \"form\":form\n",
    "    }\n",
    "    \n",
    "    template = \"ecommerce/update_view.html\"\n",
    "    \n",
    "    return (request, template, context)"
   ]
  },
  {
   "cell_type": "markdown",
   "id": "55b254e8-e2e9-403e-b371-dc132b05df1a",
   "metadata": {},
   "source": [
    "## templates/ecommerce/update-view"
   ]
  },
  {
   "cell_type": "code",
   "execution_count": null,
   "id": "f8f093ab-f52b-4af9-864d-6ab48578cf45",
   "metadata": {},
   "outputs": [],
   "source": [
    "<h1>\n",
    "    Actualizacion de producto {{form.instance.title}}\n",
    "</h1>\n",
    "\n",
    "{{ form.instance.title}}\n",
    "\n",
    "<form method=\"POST\" action=\"\">\n",
    "    { % csrf_token % }\n",
    "    {{form.as_p}}\n",
    "    <intput type = \"submit\" value = \"Actualizar\">\n",
    "</form>"
   ]
  },
  {
   "cell_type": "markdown",
   "id": "44242808-f699-475d-a9bc-dd82556f30d2",
   "metadata": {},
   "source": [
    "## ecommerce/urls.py"
   ]
  },
  {
   "cell_type": "code",
   "execution_count": null,
   "id": "616660fd-e4aa-4572-b593-a3e91195ab38",
   "metadata": {},
   "outputs": [],
   "source": [
    "from django.urls import path\n",
    "\n",
    "from ecommerce import views\n",
    "\n",
    "urlpatterns = [\n",
    "    path(\"\", views.product_model_list_view, name=\"list\"),\n",
    "    #path(\"redirect/\", views.redirect_to_test, name=\"home\"),\n",
    "    path (\"<int:product_id>\", views.product_model_detail_view, name=\"detail\"),\n",
    "    path (\"create\", views.product_model_create_view, name=\"create\"),\n",
    "    path (\"<int:product_id>/edit/\", views.roduct_model_update_view, name=\"update\") \n",
    "]\n"
   ]
  },
  {
   "cell_type": "markdown",
   "id": "be9fb8e2-ebba-4d1d-8314-7cd03a9757ae",
   "metadata": {},
   "source": [
    "# Vista para Eliminar"
   ]
  },
  {
   "cell_type": "markdown",
   "id": "d156d654-6b1d-40fb-96a9-d59a1097e29f",
   "metadata": {},
   "source": [
    "## ecommerce/views.py"
   ]
  },
  {
   "cell_type": "code",
   "execution_count": null,
   "id": "988ce3b3-44f1-49c9-aba1-8bb59eda25e3",
   "metadata": {},
   "outputs": [],
   "source": [
    "from django.contrib.auth.decorators import login_required\n",
    "from django.contrib import messages\n",
    "from django.shortcuts import render, get_object_or_404\n",
    "from django.http import HttpResponse, HttpResponseRedirect\n",
    "\n",
    "from .forms import ProductModelForm\n",
    "from .models import ProductModel\n",
    "\n",
    "def product_model_delete_view(request, product_id=None):\n",
    "    instance = get_object_or_404 (ProductModel, id=product_id)\n",
    "    if request.method == \"POST\":\n",
    "        instance.delete()\n",
    "        HttpResponseRedirect(\"/ecommerce/\")\n",
    "        messages.success(\"Producto Eliminado con Éxito\")    \n",
    "    context = {\n",
    "        \"product\" : instance\n",
    "    }\n",
    "    template = \"ecommerce/delete-view.html\"\n",
    "    return render(request, template, context)"
   ]
  },
  {
   "cell_type": "markdown",
   "id": "cbe2ebce-a6c3-47c2-a574-075837caafff",
   "metadata": {},
   "source": [
    "## templates/ecommerce/delete.html\n"
   ]
  },
  {
   "cell_type": "code",
   "execution_count": null,
   "id": "64177749-777e-4316-ba8a-7394fb14d2d2",
   "metadata": {},
   "outputs": [],
   "source": [
    "( % include \"ecommerce/messages.html\" % )\n",
    "\n",
    "<h1>\n",
    "    Eliminar - {{product.title}}\n",
    "</h1>\n",
    "\n",
    "<form method = \"POST\" action = \"\">\n",
    "    {% csrf_token %}\n",
    "    Are you sure to delete this product?\n",
    "    <input type=\"submit\" value=\"Actualizar\">\n",
    "    <a href=\"ecommerce/{{product.id}}\">Cancel </a>\n",
    "</form>\n"
   ]
  },
  {
   "cell_type": "markdown",
   "id": "0fc5780a-e3e3-44fb-a776-a6badc475ac4",
   "metadata": {},
   "source": [
    "## ecommerce/urls.py"
   ]
  },
  {
   "cell_type": "code",
   "execution_count": null,
   "id": "907aafac-bd83-4a49-9123-376e5c026adb",
   "metadata": {},
   "outputs": [],
   "source": [
    "from django.urls import path\n",
    "\n",
    "from ecommerce import views\n",
    "\n",
    "urlpatterns = [\n",
    "    path(\"\", views.product_model_list_view, name=\"list\"),\n",
    "    #path(\"redirect/\", views.redirect_to_test, name=\"home\"),\n",
    "    path (\"<int:product_id>\", views.product_model_detail_view, name=\"detail\"),\n",
    "    path (\"create\", views.product_model_create_view, name=\"create\"),\n",
    "    path (\"<int:product_id>/edit/\", views.product_model_update_view, name=\"update\"),\n",
    "    path (\"<int:product_id>/delete/\", views.product_model_delete_view, name=\"delete\"),\n",
    " \n",
    "]\n"
   ]
  },
  {
   "cell_type": "markdown",
   "id": "1ca18f80-32f7-4a12-a39b-e08d1a5e1ca9",
   "metadata": {},
   "source": [
    "# Busqueda en la Vista de Listado"
   ]
  },
  {
   "cell_type": "markdown",
   "id": "401f33ed-c45b-4937-89aa-3cf66c3d47ef",
   "metadata": {},
   "source": [
    "## templates/ecommerce/search.html"
   ]
  },
  {
   "cell_type": "code",
   "execution_count": null,
   "id": "7e0a2c88-8958-411b-a76b-d4cb5460a44d",
   "metadata": {},
   "outputs": [],
   "source": [
    "<form method = \"GET\" action = \"/ecommerce/\">\n",
    "    <input type = \"text\" name = \"q\" placeholder= \"Search\">\n",
    "</form>"
   ]
  },
  {
   "cell_type": "markdown",
   "id": "36efc986-9789-4bbe-9af9-f0de1d11d405",
   "metadata": {},
   "source": [
    "## templates/ecommerce/list-view.html"
   ]
  },
  {
   "cell_type": "code",
   "execution_count": null,
   "id": "315568a5-dcc6-45aa-857d-7d0339ac35e4",
   "metadata": {},
   "outputs": [],
   "source": [
    "{ % include \"ecommerce/search.html\" % }\n",
    "\n",
    "{ % include \"ecommerce/messages.html\" % }\n",
    "\n",
    "<h1>\n",
    "Vista de Listado\n",
    "</h1>\n",
    "\n",
    "{% for product in products %}\n",
    "    <li>\n",
    "        <a href= \"/ecommerce/{{product.id}}\"> {{product.title}}<a/>\n",
    "    </li>\n",
    "{% endfor %}"
   ]
  },
  {
   "cell_type": "markdown",
   "id": "8e702beb-b4bb-4709-95f2-ae6c87e43419",
   "metadata": {},
   "source": [
    "## ecommerce/views.py"
   ]
  },
  {
   "cell_type": "code",
   "execution_count": null,
   "id": "0ebebd97-0997-4293-b647-b23d37da5bfd",
   "metadata": {},
   "outputs": [],
   "source": [
    "from django.contrib.auth.decorators import login_required\n",
    "from django.contrib import messages\n",
    "from django.shortcuts import render, get_object_or_404\n",
    "from django.http import HttpResponse, HttpResponseRedirect\n",
    "from django.db.models import Q\n",
    "\n",
    "from .forms import ProductModelForm\n",
    "from .models import ProductModel\n",
    "\n",
    "def product_model_list_view(request):\n",
    "    query = request.GET.get(\"q\", None)\n",
    "    queryset = ProductModel.objects.all()\n",
    "    if query is not None:\n",
    "        queryset = queryset.filter(\n",
    "            Q(title_icontains=query) |\n",
    "            Q(price_icontains=query)\n",
    "        )\n",
    "    \n",
    "    template  = \"ecommerce/list-view.html\"\n",
    "    context = {\n",
    "        \"products\": queryset\n",
    "    }\n",
    "    \n",
    "    if request.user.is_authenticated:\n",
    "        template = \"ecommerce/list-view.html\"\n",
    "    else:\n",
    "        template = \"ecommerce/list-view-public.html\"\n",
    "    \n",
    "    return render(request, template, context)"
   ]
  },
  {
   "cell_type": "markdown",
   "id": "b88dfe9e-cc4f-47c8-8cbc-260fbef176b8",
   "metadata": {},
   "source": [
    "# Agregando nuevos modelos / Adding new models"
   ]
  },
  {
   "cell_type": "markdown",
   "id": "7446a5f4-33e6-4b64-b230-f6fb30166d58",
   "metadata": {},
   "source": [
    "## ecommerce/models.py"
   ]
  },
  {
   "cell_type": "code",
   "execution_count": null,
   "id": "3deb1318-20c9-4656-9694-aacd2056e311",
   "metadata": {},
   "outputs": [],
   "source": [
    "from django.db import models\n",
    "\n",
    "# Create your models here.\n",
    "class ProductModel (models.Model):\n",
    "    title = models.TextField()\n",
    "    price = models.FloatField()\n",
    "    brand = models.TextField(default=\".\")\n",
    "    size = models.TextField(default=\".\")\n",
    "    foot_size = models.FloatField(default = 1.0)\n",
    "    color = models.TextField(default=\".\")"
   ]
  },
  {
   "cell_type": "markdown",
   "id": "f6001fee-d266-494d-bf56-6a7971aa722e",
   "metadata": {},
   "source": [
    "# Actualizacion del motor de busqueda / Searching motor update "
   ]
  },
  {
   "cell_type": "markdown",
   "id": "9735879c-d351-4533-8711-b78fb0ff12e8",
   "metadata": {},
   "source": [
    "## ecommerce/views.py"
   ]
  },
  {
   "cell_type": "code",
   "execution_count": null,
   "id": "b815bc56-51ce-4cbf-8241-a3e1007f17b9",
   "metadata": {},
   "outputs": [],
   "source": [
    "...\n",
    "\n",
    "#@login_required\n",
    "\n",
    "def product_model_list_view(request):\n",
    "    query = request.GET.get(\"q\", None)\n",
    "    queryset = ProductModel.objects.all()\n",
    "    if query is not None:\n",
    "        queryset = queryset.filter(\n",
    "            Q(title__icontains=query) |\n",
    "            Q(price__icontains=query) |\n",
    "            Q(brand__icontains=query) |\n",
    "            Q(size__icontains=query)  |\n",
    "            Q(foot_size__icontains=query) |\n",
    "            Q(color__icontains=query)\n",
    "        )\n",
    "    \n",
    "    template  = \"ecommerce/list-view.html\"\n",
    "    context = {\n",
    "        \"products\": queryset\n",
    "    }\n",
    "    \n",
    "    if request.user.is_authenticated:\n",
    "        template = \"ecommerce/list-view.html\"\n",
    "    else:\n",
    "        template = \"ecommerce/list-view-public.html\"\n",
    "    \n",
    "    return render(request, template, context)\n",
    "\n",
    "..."
   ]
  },
  {
   "cell_type": "markdown",
   "id": "793544f8-3587-466f-ae73-58a63af003e2",
   "metadata": {},
   "source": [
    "# Actualización de vista HTML // HTML Views Update"
   ]
  },
  {
   "cell_type": "markdown",
   "id": "e8877134-3396-4d15-a3bb-f86eb55fe644",
   "metadata": {},
   "source": [
    "## templates/ecommerce/detail-view.html"
   ]
  },
  {
   "cell_type": "code",
   "execution_count": null,
   "id": "5138a441-d676-4b2c-acd7-c88aee0e1923",
   "metadata": {},
   "outputs": [],
   "source": [
    "{% include \"ecommerce/messages.html\" %}\n",
    "\n",
    "<h1>\n",
    "    {{ product.title }}\n",
    "    {{ product.price }}\n",
    "    {{ product.brand }}\n",
    "    {{ product.size }}\n",
    "    {{ product.foot_size }}\n",
    "    {{ product.color }}\n",
    "</h1>"
   ]
  }
 ],
 "metadata": {
  "kernelspec": {
   "display_name": "Python 3 (ipykernel)",
   "language": "python",
   "name": "python3"
  },
  "language_info": {
   "codemirror_mode": {
    "name": "ipython",
    "version": 3
   },
   "file_extension": ".py",
   "mimetype": "text/x-python",
   "name": "python",
   "nbconvert_exporter": "python",
   "pygments_lexer": "ipython3",
   "version": "3.11.3"
  }
 },
 "nbformat": 4,
 "nbformat_minor": 5
}
