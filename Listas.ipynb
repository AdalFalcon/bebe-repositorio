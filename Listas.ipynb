{
 "cells": [
  {
   "cell_type": "markdown",
   "id": "1e980f97",
   "metadata": {},
   "source": [
    "## Diferentes formas de crear listas"
   ]
  },
  {
   "cell_type": "code",
   "execution_count": 1,
   "id": "561dd17e",
   "metadata": {},
   "outputs": [
    {
     "name": "stdout",
     "output_type": "stream",
     "text": [
      "[3, 3, 3, 3, 3, 3, 3, 3]\n"
     ]
    }
   ],
   "source": [
    "my_list = [3]*8\n",
    "print(my_list)"
   ]
  },
  {
   "cell_type": "code",
   "execution_count": 2,
   "id": "9f7341e6",
   "metadata": {},
   "outputs": [
    {
     "name": "stdout",
     "output_type": "stream",
     "text": [
      "[1, 2, 3, 4, 5, 6, 7, 8, 9]\n"
     ]
    }
   ],
   "source": [
    "my_list = [1,2,3,4,5,6,7,8,9,]\n",
    "print(my_list)"
   ]
  },
  {
   "cell_type": "code",
   "execution_count": 3,
   "id": "5ce21df9",
   "metadata": {},
   "outputs": [
    {
     "name": "stdout",
     "output_type": "stream",
     "text": [
      "[0, 1, 2, 3, 4, 5, 6, 7, 8, 9, 10]\n"
     ]
    }
   ],
   "source": [
    "my_list = []\n",
    "for number in range (11):\n",
    "    my_list.append(number)\n",
    "print(my_list)"
   ]
  },
  {
   "cell_type": "code",
   "execution_count": 4,
   "id": "1f30ed40",
   "metadata": {},
   "outputs": [
    {
     "name": "stdout",
     "output_type": "stream",
     "text": [
      "[0, 1, 2, 3, 4, 5, 6, 7, 8, 9, 10]\n"
     ]
    }
   ],
   "source": [
    "my_list = []\n",
    "for number in range (11):\n",
    "    my_list.append(number)\n",
    "print(my_list)"
   ]
  },
  {
   "cell_type": "code",
   "execution_count": 9,
   "id": "599056f3",
   "metadata": {},
   "outputs": [
    {
     "name": "stdout",
     "output_type": "stream",
     "text": [
      "[0, 1, 2, 3, 4, 5, 6, 7]\n"
     ]
    }
   ],
   "source": [
    "my_list = []\n",
    "for number in range (8):\n",
    "    my_list+= [number]\n",
    "print(my_list)"
   ]
  },
  {
   "cell_type": "code",
   "execution_count": 19,
   "id": "ea5bf6ce",
   "metadata": {},
   "outputs": [
    {
     "name": "stdout",
     "output_type": "stream",
     "text": [
      "[0, 1, 2, 3, 4, 5, 6, 7, 8, 9, 10, 11, 12, 13, 14, 15, 16, 17, 18, 19, 20]\n"
     ]
    }
   ],
   "source": [
    "my_list = [number for number in range(21)]\n",
    "print(my_list)"
   ]
  },
  {
   "cell_type": "markdown",
   "id": "387804d2",
   "metadata": {},
   "source": [
    "# Obetener sublistas"
   ]
  },
  {
   "cell_type": "code",
   "execution_count": 21,
   "id": "06273ec3",
   "metadata": {},
   "outputs": [
    {
     "name": "stdout",
     "output_type": "stream",
     "text": [
      "[0, 1, 2, 3, 4, 5, 6, 7, 8, 9, 10, 11, 12, 13, 14, 15, 16, 17, 18, 19, 20]\n"
     ]
    }
   ],
   "source": [
    "my_list = [number for number in range(21)]\n",
    "print(my_list)"
   ]
  },
  {
   "cell_type": "code",
   "execution_count": 22,
   "id": "cb4ec8ff",
   "metadata": {},
   "outputs": [
    {
     "name": "stdout",
     "output_type": "stream",
     "text": [
      "[0, 1, 2, 3]\n"
     ]
    }
   ],
   "source": [
    "my_sublist = my_list[:4]\n",
    "print(my_sublist)"
   ]
  },
  {
   "cell_type": "code",
   "execution_count": 32,
   "id": "de003e41",
   "metadata": {},
   "outputs": [
    {
     "name": "stdout",
     "output_type": "stream",
     "text": [
      "[5, 6, 7, 8, 9, 10, 11, 12, 13, 14]\n"
     ]
    }
   ],
   "source": [
    "my_sublist = my_list[5:15]\n",
    "print(my_sublist)"
   ]
  },
  {
   "cell_type": "code",
   "execution_count": 36,
   "id": "aba60aff",
   "metadata": {},
   "outputs": [
    {
     "name": "stdout",
     "output_type": "stream",
     "text": [
      "[10]\n"
     ]
    }
   ],
   "source": [
    "my_sublist = my_list [10:11]\n",
    "print (my_sublist)"
   ]
  },
  {
   "cell_type": "code",
   "execution_count": 37,
   "id": "63cd6164",
   "metadata": {},
   "outputs": [
    {
     "data": {
      "text/plain": [
       "21"
      ]
     },
     "execution_count": 37,
     "metadata": {},
     "output_type": "execute_result"
    }
   ],
   "source": [
    "len(my_list)"
   ]
  },
  {
   "cell_type": "markdown",
   "id": "f50643fc",
   "metadata": {},
   "source": [
    "# Creación de listas usando range y numpy"
   ]
  },
  {
   "cell_type": "code",
   "execution_count": 38,
   "id": "1af0c3e7",
   "metadata": {},
   "outputs": [
    {
     "name": "stdout",
     "output_type": "stream",
     "text": [
      "[range(1, 5)]\n"
     ]
    }
   ],
   "source": [
    "# range(inicio, fin, paso)\n",
    "my_list = [range(1,5,1)]\n",
    "print(my_list)"
   ]
  },
  {
   "cell_type": "code",
   "execution_count": 40,
   "id": "67ee8ce0",
   "metadata": {},
   "outputs": [
    {
     "name": "stdout",
     "output_type": "stream",
     "text": [
      "[1, 2, 3, 4]\n"
     ]
    }
   ],
   "source": [
    "my_list = [*range(1,5,1)]\n",
    "print(my_list)"
   ]
  },
  {
   "cell_type": "code",
   "execution_count": 41,
   "id": "3ac959c4",
   "metadata": {},
   "outputs": [
    {
     "name": "stdout",
     "output_type": "stream",
     "text": [
      "[1, 5, 9, 13, 17]\n"
     ]
    }
   ],
   "source": [
    "my_list = [*range(1,20,4)]\n",
    "print(my_list)"
   ]
  },
  {
   "cell_type": "code",
   "execution_count": 42,
   "id": "7b4c82e6",
   "metadata": {},
   "outputs": [
    {
     "name": "stdout",
     "output_type": "stream",
     "text": [
      "[1, 3, 5, 7, 9, 11, 13, 15, 17, 19]\n"
     ]
    }
   ],
   "source": [
    "my_list = [*range(1,20,2)]\n",
    "print(my_list)"
   ]
  },
  {
   "cell_type": "markdown",
   "id": "436b694f",
   "metadata": {},
   "source": [
    "!pip install numpy"
   ]
  },
  {
   "cell_type": "code",
   "execution_count": 47,
   "id": "e1e3c6e8",
   "metadata": {},
   "outputs": [
    {
     "name": "stdout",
     "output_type": "stream",
     "text": [
      "[1, 5, 9, 13, 17]\n"
     ]
    }
   ],
   "source": [
    "import numpy as np\n",
    "my_list = np.arange(1,20,4).tolist()\n",
    "print(my_list)"
   ]
  },
  {
   "cell_type": "markdown",
   "id": "7cc485b6",
   "metadata": {},
   "source": [
    "# Listas anidadas"
   ]
  },
  {
   "cell_type": "code",
   "execution_count": 49,
   "id": "f1cb0a74",
   "metadata": {},
   "outputs": [
    {
     "name": "stdout",
     "output_type": "stream",
     "text": [
      "[1, 2, 3, 4, 5]\n",
      "4\n"
     ]
    }
   ],
   "source": [
    "my_list= [1,2,3,4,5]\n",
    "print(my_list)\n",
    "print (my_list[3])"
   ]
  },
  {
   "cell_type": "code",
   "execution_count": 51,
   "id": "b3925a52",
   "metadata": {},
   "outputs": [
    {
     "name": "stdout",
     "output_type": "stream",
     "text": [
      "([1, 3, 5], [2, 4, 6])\n",
      "[1, 3, 5]\n",
      "[2, 4, 6]\n"
     ]
    }
   ],
   "source": [
    "my_list = [1,3,5], [2,4,6]\n",
    "print(my_list) # indice 0 y 1 [1,3,5], [2,4,6]\n",
    "print(my_list[0]) #indice 0 [1,3,5]\n",
    "print(my_list[1]) #indice 1 [2,4,6]"
   ]
  },
  {
   "cell_type": "code",
   "execution_count": 52,
   "id": "340a584f",
   "metadata": {},
   "outputs": [
    {
     "name": "stdout",
     "output_type": "stream",
     "text": [
      "([1, 3, 5], [2, 4, 6])\n",
      "5\n",
      "4\n"
     ]
    }
   ],
   "source": [
    "my_list = [1,3,5], [2,4,6]\n",
    "print(my_list)\n",
    "print(my_list[0][2])\n",
    "print(my_list[1][1])"
   ]
  },
  {
   "cell_type": "markdown",
   "id": "da1d3333",
   "metadata": {},
   "source": [
    "## Oredenando Listas"
   ]
  },
  {
   "cell_type": "code",
   "execution_count": 53,
   "id": "6c7668fb",
   "metadata": {},
   "outputs": [
    {
     "name": "stdout",
     "output_type": "stream",
     "text": [
      "[5, 1, 6, 8, 7, 3, 6, 2, 15]\n",
      "[1, 2, 3, 5, 6, 6, 7, 8, 15]\n"
     ]
    }
   ],
   "source": [
    "my_list = [5,1,6,8,7,3,6,2,15]\n",
    "print(my_list)\n",
    "my_list.sort()\n",
    "print(my_list)"
   ]
  },
  {
   "cell_type": "code",
   "execution_count": 54,
   "id": "8e31aaeb",
   "metadata": {},
   "outputs": [
    {
     "name": "stdout",
     "output_type": "stream",
     "text": [
      "[5, 1, 6, 8, 7, 3, 6, 2, 15]\n",
      "[15, 8, 7, 6, 6, 5, 3, 2, 1]\n"
     ]
    }
   ],
   "source": [
    "my_list = [5,1,6,8,7,3,6,2,15]\n",
    "print(my_list)\n",
    "my_list.sort(reverse=True)\n",
    "print(my_list)"
   ]
  },
  {
   "cell_type": "code",
   "execution_count": 57,
   "id": "8ae3c57f",
   "metadata": {},
   "outputs": [
    {
     "name": "stdout",
     "output_type": "stream",
     "text": [
      "['pulpo', 'gato', 'canario', 'res', 'pollo']\n",
      "['canario', 'gato', 'pollo', 'pulpo', 'res']\n"
     ]
    }
   ],
   "source": [
    "my_list = ['pulpo', 'gato', 'canario', 'res', 'pollo']\n",
    "print(my_list)\n",
    "my_list.sort()\n",
    "print(my_list)"
   ]
  },
  {
   "cell_type": "code",
   "execution_count": 59,
   "id": "4966b9de",
   "metadata": {},
   "outputs": [
    {
     "name": "stdout",
     "output_type": "stream",
     "text": [
      "['pulpo', 'gato', 'canario', 'res', 'pollo']\n",
      "['res', 'pulpo', 'pollo', 'gato', 'canario']\n"
     ]
    }
   ],
   "source": [
    "my_list = ['pulpo', 'gato', 'canario', 'res', 'pollo']\n",
    "print(my_list)\n",
    "my_list.sort(reverse=True)\n",
    "print(my_list)"
   ]
  },
  {
   "cell_type": "markdown",
   "id": "1b456f14",
   "metadata": {},
   "source": [
    "# Conversión de listas\n"
   ]
  },
  {
   "cell_type": "code",
   "execution_count": 60,
   "id": "89d8e2a5",
   "metadata": {},
   "outputs": [
    {
     "name": "stdout",
     "output_type": "stream",
     "text": [
      "Los patos son agresivos\n",
      "['Los', 'patos', 'son', 'agresivos']\n"
     ]
    }
   ],
   "source": [
    "# Cadenas a Listas\n",
    "\n",
    "# Seperar palabras\n",
    "\n",
    "my_string = 'Los patos son agresivos'\n",
    "my_list = my_string.split()\n",
    "print(my_string)\n",
    "print(my_list)"
   ]
  },
  {
   "cell_type": "code",
   "execution_count": 63,
   "id": "a8695668",
   "metadata": {},
   "outputs": [
    {
     "name": "stdout",
     "output_type": "stream",
     "text": [
      "Los patos son agresivos\n",
      "['', ' son agresivos']\n"
     ]
    }
   ],
   "source": [
    "my_string = 'Los patos son agresivos'\n",
    "my_list = my_string.split('Los patos')\n",
    "print(my_string)\n",
    "print(my_list)"
   ]
  },
  {
   "cell_type": "code",
   "execution_count": 64,
   "id": "441f2a82",
   "metadata": {},
   "outputs": [
    {
     "name": "stdout",
     "output_type": "stream",
     "text": [
      "Los patos son agresivos\n",
      "['Los patos ', '']\n"
     ]
    }
   ],
   "source": [
    "my_string = 'Los patos son agresivos'\n",
    "my_list = my_string.split('son agresivos')\n",
    "print(my_string)\n",
    "print(my_list)"
   ]
  },
  {
   "cell_type": "code",
   "execution_count": 72,
   "id": "01a837f7",
   "metadata": {},
   "outputs": [
    {
     "name": "stdout",
     "output_type": "stream",
     "text": [
      "Los patos son agresivos\n",
      "['L', 'o', 's', ' ', 'p', 'a', 't', 'o', 's', ' ', 's', 'o', 'n', ' ', 'a', 'g', 'r', 'e', 's', 'i', 'v', 'o', 's']\n"
     ]
    }
   ],
   "source": [
    "# separar caracateres\n",
    "\n",
    "my_string = 'Los patos son agresivos'\n",
    "my_list =  list (my_string)\n",
    "print(my_string)\n",
    "print(my_list)\n"
   ]
  },
  {
   "cell_type": "code",
   "execution_count": 73,
   "id": "53cec059",
   "metadata": {},
   "outputs": [
    {
     "name": "stdout",
     "output_type": "stream",
     "text": [
      "Los patos son agresivos\n",
      "[['L'], ['o'], ['s'], [' '], ['p'], ['a'], ['t'], ['o'], ['s'], [' '], ['s'], ['o'], ['n'], [' '], ['a'], ['g'], ['r'], ['e'], ['s'], ['i'], ['v'], ['o'], ['s']]\n"
     ]
    }
   ],
   "source": [
    "# separar caracteres en una lista de listas\n",
    "\n",
    "my_string = 'Los patos son agresivos'\n",
    "my_list =  list(map(list, my_string))\n",
    "print(my_string)\n",
    "print(my_list)\n"
   ]
  },
  {
   "cell_type": "code",
   "execution_count": 79,
   "id": "7251e851",
   "metadata": {},
   "outputs": [
    {
     "name": "stdout",
     "output_type": "stream",
     "text": [
      "['Los', 'patos', 'son', 'agresivos']\n",
      "Lospatossonagresivos\n"
     ]
    }
   ],
   "source": [
    "# De listas a cadenas\n",
    "\n",
    "my_list = ['Los', 'patos', 'son', 'agresivos']\n",
    "my_string = \" \".join(my_list)\n",
    "print(my_list)\n",
    "print(my_string)"
   ]
  },
  {
   "cell_type": "code",
   "execution_count": 86,
   "id": "fe44d80a",
   "metadata": {},
   "outputs": [
    {
     "name": "stdout",
     "output_type": "stream",
     "text": [
      "['L', 'o', 's', ' ', 'p', 'a', 't', 'o', 's', ' ', 's', 'o', 'n', ' ', 'a', 'g', 'r', 'e', 's', 'i', 'v', 'o', 's']\n",
      "Los patos son agresivos\n"
     ]
    }
   ],
   "source": [
    "my_list = ['L', 'o', 's', ' ', 'p', 'a', 't', 'o', 's', ' ', 's', 'o', 'n', ' ', 'a', 'g', 'r', 'e', 's', 'i', 'v', 'o', 's']\n",
    "my_string = \"\".join(my_list)\n",
    "print(my_list)\n",
    "print(my_string)"
   ]
  },
  {
   "cell_type": "code",
   "execution_count": 87,
   "id": "4f112ca8",
   "metadata": {},
   "outputs": [
    {
     "name": "stdout",
     "output_type": "stream",
     "text": [
      "[['L'], ['o'], ['s'], [' '], ['p'], ['a'], ['t'], ['o'], ['s'], [' '], ['s'], ['o'], ['n'], [' '], ['a'], ['g'], ['r'], ['e'], ['s'], ['i'], ['v'], ['o'], ['s']]\n",
      "Los patos son agresivos\n"
     ]
    }
   ],
   "source": [
    "my_list = [['L'], ['o'], ['s'], [' '], ['p'], ['a'], ['t'], ['o'], ['s'], [' '], ['s'], ['o'], ['n'], [' '], ['a'], ['g'], ['r'], ['e'], ['s'], ['i'], ['v'], ['o'], ['s']]\n",
    "my_string = \"\".join([\"\".join(element) for element in my_list])\n",
    "print(my_list)\n",
    "print(my_string)"
   ]
  },
  {
   "cell_type": "markdown",
   "id": "9d4ca263",
   "metadata": {},
   "source": [
    "# Creación de listas con valores de entrada"
   ]
  },
  {
   "cell_type": "code",
   "execution_count": 90,
   "id": "32d0aa71",
   "metadata": {},
   "outputs": [
    {
     "name": "stdout",
     "output_type": "stream",
     "text": [
      "ingresa los valores separados por espacio57892 3478 324768 78\n",
      "57892 3478 324768 78\n",
      "['57892', '3478', '324768', '78']\n"
     ]
    }
   ],
   "source": [
    "my_string = input (\"ingresa los valores separados por espacio\")\n",
    "my_list = my_string.split()\n",
    "print(my_string)\n",
    "print(my_list)"
   ]
  },
  {
   "cell_type": "markdown",
   "id": "c44fa5e9",
   "metadata": {},
   "source": [
    "# Metodos de manipulación de listas."
   ]
  },
  {
   "cell_type": "code",
   "execution_count": 101,
   "id": "4c888c5b",
   "metadata": {},
   "outputs": [
    {
     "name": "stdout",
     "output_type": "stream",
     "text": [
      "['reloj', 'tetanos', 'tuetano', 'animal', 'vegetal']\n",
      "5\n"
     ]
    }
   ],
   "source": [
    "# append - agregar un elemento al final de una lista\n",
    "\n",
    "my_list = [\"reloj\", \"tetanos\", \"tuetano\", \"animal\", \"vegetal\"]\n",
    "print(my_list)\n",
    "print(len(my_list))"
   ]
  },
  {
   "cell_type": "code",
   "execution_count": 103,
   "id": "92ae7da7",
   "metadata": {},
   "outputs": [
    {
     "name": "stdout",
     "output_type": "stream",
     "text": [
      "['reloj', 'tetanos', 'tuetano', 'animal', 'vegetal', 'mineral']\n",
      "6\n"
     ]
    }
   ],
   "source": [
    "my_list.append(\"mineral\")\n",
    "print(my_list)\n",
    "print(len(my_list))"
   ]
  },
  {
   "cell_type": "code",
   "execution_count": 104,
   "id": "e1f3cd76",
   "metadata": {},
   "outputs": [
    {
     "name": "stdout",
     "output_type": "stream",
     "text": [
      "['reloj', 'tetanos', 'tuetano', 'animal', 'vegetal', 'mineral', 'criminal']\n",
      "7\n"
     ]
    }
   ],
   "source": [
    "my_list.append(\"criminal\")\n",
    "print(my_list)\n",
    "print(len(my_list))"
   ]
  },
  {
   "cell_type": "code",
   "execution_count": 105,
   "id": "c386eaac",
   "metadata": {},
   "outputs": [
    {
     "name": "stdout",
     "output_type": "stream",
     "text": [
      "[500, 45, 23452, 64]\n",
      "4\n"
     ]
    }
   ],
   "source": [
    "my_list = [500, 45, 23452, 64]\n",
    "print(my_list)\n",
    "print(len(my_list))"
   ]
  },
  {
   "cell_type": "code",
   "execution_count": 106,
   "id": "7746e1fe",
   "metadata": {},
   "outputs": [
    {
     "name": "stdout",
     "output_type": "stream",
     "text": [
      "[500, 45, 23452, 64, 400]\n",
      "5\n"
     ]
    }
   ],
   "source": [
    "my_list.append(400)\n",
    "print(my_list)\n",
    "print(len(my_list))"
   ]
  },
  {
   "cell_type": "code",
   "execution_count": 107,
   "id": "7e050688",
   "metadata": {},
   "outputs": [
    {
     "name": "stdout",
     "output_type": "stream",
     "text": [
      "[500, 45, 23452, 64, 400, 400.43]\n",
      "6\n"
     ]
    }
   ],
   "source": [
    "my_list.append(400.43)\n",
    "print(my_list)\n",
    "print(len(my_list))"
   ]
  },
  {
   "cell_type": "code",
   "execution_count": 110,
   "id": "6926079e",
   "metadata": {},
   "outputs": [
    {
     "name": "stdout",
     "output_type": "stream",
     "text": [
      "['reloj', 'tetanos', 'tuetano', 'animal', 'vegetal']\n",
      "5\n"
     ]
    }
   ],
   "source": [
    "## instert - agregar un valor a una lista en una posición especifica\n",
    "## insert (indica, valor)\n",
    "\n",
    "my_list = [\"reloj\", \"tetanos\", \"tuetano\", \"animal\", \"vegetal\"]\n",
    "print(my_list)\n",
    "print(len(my_list))\n",
    "\n"
   ]
  },
  {
   "cell_type": "code",
   "execution_count": 112,
   "id": "2e011283",
   "metadata": {},
   "outputs": [
    {
     "name": "stdout",
     "output_type": "stream",
     "text": [
      "['reloj', 'tetanos', 'mineral', 'tuetano', 'animal', 'vegetal']\n",
      "6\n"
     ]
    }
   ],
   "source": [
    "my_list.insert (2, \"mineral\")\n",
    "print(my_list)\n",
    "print(len(my_list))"
   ]
  },
  {
   "cell_type": "code",
   "execution_count": 113,
   "id": "e6bc2df8",
   "metadata": {},
   "outputs": [
    {
     "name": "stdout",
     "output_type": "stream",
     "text": [
      "['criminal', 'reloj', 'tetanos', 'mineral', 'tuetano', 'animal', 'vegetal']\n",
      "7\n"
     ]
    }
   ],
   "source": [
    "my_list.insert (0, \"criminal\")\n",
    "print(my_list)\n",
    "print(len(my_list))"
   ]
  },
  {
   "cell_type": "code",
   "execution_count": 114,
   "id": "2cb61267",
   "metadata": {},
   "outputs": [
    {
     "name": "stdout",
     "output_type": "stream",
     "text": [
      "['reloj', 'tetanos', 'tuetano', 'animal', 'vegetal']\n",
      "5\n"
     ]
    }
   ],
   "source": [
    "## clear - Elimina todos los elementos de la lista\n",
    "\n",
    "my_list = [\"reloj\", \"tetanos\", \"tuetano\", \"animal\", \"vegetal\"]\n",
    "print(my_list)\n",
    "print(len(my_list))\n"
   ]
  },
  {
   "cell_type": "code",
   "execution_count": 115,
   "id": "28edb586",
   "metadata": {},
   "outputs": [
    {
     "name": "stdout",
     "output_type": "stream",
     "text": [
      "[]\n",
      "0\n"
     ]
    }
   ],
   "source": [
    "my_list.clear ()\n",
    "print(my_list)\n",
    "print(len(my_list))\n"
   ]
  },
  {
   "cell_type": "code",
   "execution_count": 3,
   "id": "34cedc36",
   "metadata": {},
   "outputs": [
    {
     "name": "stdout",
     "output_type": "stream",
     "text": [
      "['reloj', 'tetanos', 'tuetano', 'animal', 'vegetal']\n",
      "5\n"
     ]
    }
   ],
   "source": [
    "# copy - copia elementos de una lista\n",
    "\n",
    "my_list = [\"reloj\", \"tetanos\", \"tuetano\", \"animal\", \"vegetal\"]\n",
    "print(my_list)\n",
    "print(len(my_list))"
   ]
  },
  {
   "cell_type": "code",
   "execution_count": 4,
   "id": "3e0d10af",
   "metadata": {},
   "outputs": [
    {
     "name": "stdout",
     "output_type": "stream",
     "text": [
      "['reloj', 'tetanos', 'tuetano', 'animal', 'vegetal']\n",
      "5\n"
     ]
    }
   ],
   "source": [
    "my_list_copy = my_list.copy()\n",
    "print(my_list_copy)\n",
    "print(len(my_list_copy))"
   ]
  },
  {
   "cell_type": "code",
   "execution_count": 6,
   "id": "35585a21",
   "metadata": {},
   "outputs": [
    {
     "name": "stdout",
     "output_type": "stream",
     "text": [
      "[]\n",
      "0\n",
      "['reloj', 'tetanos', 'tuetano', 'animal', 'vegetal']\n",
      "5\n"
     ]
    }
   ],
   "source": [
    "my_list_copy.clear()\n",
    "print(my_list_copy)\n",
    "print(len(my_list_copy))\n",
    "print(my_list)\n",
    "print(len(my_list))"
   ]
  },
  {
   "cell_type": "code",
   "execution_count": 7,
   "id": "572c132b",
   "metadata": {},
   "outputs": [
    {
     "name": "stdout",
     "output_type": "stream",
     "text": [
      "[]\n",
      "0\n",
      "[]\n",
      "0\n"
     ]
    }
   ],
   "source": [
    "my_list_assigned = my_list\n",
    "my_list_assigned.clear()\n",
    "print(my_list_assigned)\n",
    "print(len(my_list_assigned))\n",
    "print(my_list)\n",
    "print(len(my_list))"
   ]
  },
  {
   "cell_type": "code",
   "execution_count": 12,
   "id": "9c8894c3",
   "metadata": {},
   "outputs": [
    {
     "name": "stdout",
     "output_type": "stream",
     "text": [
      "9\n",
      "[55, 60, 90, 5, 90, 85, 7, 33, 7]\n"
     ]
    }
   ],
   "source": [
    "# Count -> cuenta cuantas veces aparece un elemento en una lista\n",
    "\n",
    "my_list = [55,60,90,5,90,85,7,33,7]\n",
    "print(len(my_list))\n",
    "print(my_list)"
   ]
  },
  {
   "cell_type": "code",
   "execution_count": 20,
   "id": "3c26a6f1",
   "metadata": {},
   "outputs": [
    {
     "name": "stdout",
     "output_type": "stream",
     "text": [
      "cuantas veces aparece el numero 90 en mi lista? 2\n"
     ]
    }
   ],
   "source": [
    "print('cuantas veces aparece el numero 90 en mi lista? {}'.format(my_list.count(90)))"
   ]
  },
  {
   "cell_type": "code",
   "execution_count": 16,
   "id": "c775d155",
   "metadata": {},
   "outputs": [
    {
     "name": "stdout",
     "output_type": "stream",
     "text": [
      "9\n",
      "[55, 60, 90, 5, 90, 85, 7, 33, 7]\n"
     ]
    }
   ],
   "source": [
    "# Index -> obtiene el primer índice de una lista que hace mathc con el elemento solicitado.\n",
    "\n",
    "\n",
    "my_list = [55,60,90,5,90,85,7,33,7]\n",
    "print(len(my_list))\n",
    "print(my_list)"
   ]
  },
  {
   "cell_type": "code",
   "execution_count": 17,
   "id": "cb82261e",
   "metadata": {},
   "outputs": [
    {
     "name": "stdout",
     "output_type": "stream",
     "text": [
      "El índice de la primera aparicion del numero 55 es 0\n"
     ]
    }
   ],
   "source": [
    "print('El índice de la primera aparicion del numero 55 es {}'.format(my_list.index(55)))"
   ]
  },
  {
   "cell_type": "code",
   "execution_count": 19,
   "id": "75f0751f",
   "metadata": {},
   "outputs": [
    {
     "name": "stdout",
     "output_type": "stream",
     "text": [
      "El índice de la primera aparicion del numero 90 es 2\n"
     ]
    }
   ],
   "source": [
    "print('El índice de la primera aparicion del numero 90 es {}'.format(my_list.index(90)))"
   ]
  },
  {
   "cell_type": "code",
   "execution_count": 21,
   "id": "9a32959b",
   "metadata": {},
   "outputs": [
    {
     "name": "stdout",
     "output_type": "stream",
     "text": [
      "5\n",
      "['reloj', 'tetanos', 'tuetano', 'animal', 'vegetal']\n"
     ]
    }
   ],
   "source": [
    "my_list = [\"reloj\", \"tetanos\", \"tuetano\", \"animal\", \"vegetal\"]\n",
    "print(len(my_list))\n",
    "print(my_list)\n"
   ]
  },
  {
   "cell_type": "code",
   "execution_count": 22,
   "id": "fd9aa1aa",
   "metadata": {},
   "outputs": [
    {
     "name": "stdout",
     "output_type": "stream",
     "text": [
      "['reloj', 'tetanos', 'tuetano', 'animal', 'vegetal']\n",
      "5\n"
     ]
    }
   ],
   "source": [
    "my_list_2 = ['pulpo', 'gato', 'canario', 'res', 'pollo']\n",
    "print(my_list)\n",
    "print(len(my_list_2))"
   ]
  },
  {
   "cell_type": "code",
   "execution_count": 24,
   "id": "99303fbb",
   "metadata": {},
   "outputs": [
    {
     "name": "stdout",
     "output_type": "stream",
     "text": [
      "['reloj', 'tetanos', 'tuetano', 'animal', 'vegetal', 'pulpo', 'gato', 'canario', 'res', 'pollo']\n"
     ]
    }
   ],
   "source": [
    "my_list.extend(my_list_2)\n",
    "print(my_list)"
   ]
  },
  {
   "cell_type": "code",
   "execution_count": null,
   "id": "38e8e5e9",
   "metadata": {},
   "outputs": [],
   "source": [
    "my_list_3 = [55,60,90,5,90,85,7,33,7]\n",
    "print(my_list_3)"
   ]
  },
  {
   "cell_type": "code",
   "execution_count": 30,
   "id": "8fc22bee",
   "metadata": {},
   "outputs": [
    {
     "name": "stdout",
     "output_type": "stream",
     "text": [
      "['reloj', 'tetanos', 'tuetano', 'animal', 'vegetal', 'pulpo', 'gato', 'canario', 'res', 'pollo', 55, 60, 90, 5, 90, 85, 7, 33, 7, 55, 60, 90, 5, 90, 85, 7, 33, 7]\n"
     ]
    }
   ],
   "source": [
    "my_list.extend(my_list_3)\n",
    "print(my_list)"
   ]
  },
  {
   "cell_type": "code",
   "execution_count": 31,
   "id": "75b0618d",
   "metadata": {},
   "outputs": [
    {
     "name": "stdout",
     "output_type": "stream",
     "text": [
      "['reloj', 'tetanos', 'tuetano', 'animal', 'vegetal', 'pulpo', 'gato', 'canario', 'res', 'pollo', 55, 60, 90, 5, 90, 85, 7, 33, 7, 55, 60, 90, 5, 90, 85, 7, 33, 7]\n"
     ]
    }
   ],
   "source": [
    "print(my_list)\n"
   ]
  },
  {
   "cell_type": "code",
   "execution_count": null,
   "id": "14e148cf",
   "metadata": {},
   "outputs": [],
   "source": [
    "my_list_3.clear()\n",
    "print(my_list_3)\n",
    "print(len(my_list_3))\n",
    "\n"
   ]
  },
  {
   "cell_type": "code",
   "execution_count": 34,
   "id": "ed47d83e",
   "metadata": {},
   "outputs": [
    {
     "name": "stdout",
     "output_type": "stream",
     "text": [
      "['reloj', 'tetanos', 'tuetano', 'animal', 'vegetal', 'pulpo', 'gato', 'canario', 'res', 'pollo', 55, 60, 90, 5, 90, 85, 7, 33, 7, 55, 60, 90, 5, 90, 85, 7, 33, 7]\n"
     ]
    }
   ],
   "source": [
    "print(my_list)"
   ]
  },
  {
   "cell_type": "code",
   "execution_count": 36,
   "id": "09e979ff",
   "metadata": {},
   "outputs": [
    {
     "name": "stdout",
     "output_type": "stream",
     "text": [
      "6\n",
      "[745, 387, 543, 32, 5634, 5]\n"
     ]
    }
   ],
   "source": [
    "# Pop -> Elimina elementos de una lista basado en los índices\n",
    "\n",
    "my_list = [745,387,543,32,5634,5]\n",
    "print(len(my_list))\n",
    "print(my_list)"
   ]
  },
  {
   "cell_type": "code",
   "execution_count": 37,
   "id": "33e9b079",
   "metadata": {},
   "outputs": [
    {
     "name": "stdout",
     "output_type": "stream",
     "text": [
      "5\n",
      "[745, 387, 543, 32, 5634]\n"
     ]
    }
   ],
   "source": [
    "\n",
    "my_list.pop()\n",
    "print(len(my_list))\n",
    "print(my_list)"
   ]
  },
  {
   "cell_type": "code",
   "execution_count": 38,
   "id": "f6121bb4",
   "metadata": {},
   "outputs": [
    {
     "name": "stdout",
     "output_type": "stream",
     "text": [
      "4\n",
      "[387, 543, 32, 5634]\n"
     ]
    }
   ],
   "source": [
    "my_list.pop(0)\n",
    "print(len(my_list))\n",
    "print(my_list)"
   ]
  },
  {
   "cell_type": "code",
   "execution_count": 39,
   "id": "45af2c02",
   "metadata": {},
   "outputs": [
    {
     "name": "stdout",
     "output_type": "stream",
     "text": [
      "3\n",
      "[387, 32, 5634]\n"
     ]
    }
   ],
   "source": [
    "my_list.pop(1)\n",
    "print(len(my_list))\n",
    "print(my_list)"
   ]
  },
  {
   "cell_type": "code",
   "execution_count": 43,
   "id": "3ff564ef",
   "metadata": {},
   "outputs": [
    {
     "name": "stdout",
     "output_type": "stream",
     "text": [
      "7\n",
      "[745, 745, 387, 543, 32, 5634, 5]\n"
     ]
    }
   ],
   "source": [
    "# remove -> Elimina la primera aparicion de un valor en una lista, en caso de datos repetidos.\n",
    "\n",
    "my_list = [745, 745, 387,543,32,5634,5]\n",
    "print(len(my_list))\n",
    "print(my_list)\n"
   ]
  },
  {
   "cell_type": "code",
   "execution_count": 44,
   "id": "a4e2fe1c",
   "metadata": {},
   "outputs": [
    {
     "name": "stdout",
     "output_type": "stream",
     "text": [
      "6\n",
      "[745, 745, 387, 543, 5634, 5]\n"
     ]
    }
   ],
   "source": [
    "my_list.remove(32)\n",
    "print(len(my_list))\n",
    "print(my_list)"
   ]
  },
  {
   "cell_type": "code",
   "execution_count": 45,
   "id": "0748eab6",
   "metadata": {},
   "outputs": [
    {
     "name": "stdout",
     "output_type": "stream",
     "text": [
      "5\n",
      "[745, 387, 543, 5634, 5]\n"
     ]
    }
   ],
   "source": [
    "my_list.remove(745)\n",
    "print(len(my_list))\n",
    "print(my_list)"
   ]
  },
  {
   "cell_type": "code",
   "execution_count": 46,
   "id": "fc3c5f37",
   "metadata": {},
   "outputs": [
    {
     "name": "stdout",
     "output_type": "stream",
     "text": [
      "5\n",
      "['reloj', 'tetanos', 'tuetano', 'animal', 'vegetal']\n"
     ]
    }
   ],
   "source": [
    "# Reverse -> Invierte el orden de una lista\n",
    "\n",
    "my_list = [\"reloj\", \"tetanos\", \"tuetano\", \"animal\", \"vegetal\"]\n",
    "print(len(my_list))\n",
    "print(my_list)\n"
   ]
  },
  {
   "cell_type": "code",
   "execution_count": 47,
   "id": "bd88eb44",
   "metadata": {},
   "outputs": [
    {
     "name": "stdout",
     "output_type": "stream",
     "text": [
      "5\n",
      "['vegetal', 'animal', 'tuetano', 'tetanos', 'reloj']\n"
     ]
    }
   ],
   "source": [
    "my_list.reverse()\n",
    "print(len(my_list))\n",
    "print(my_list)"
   ]
  },
  {
   "cell_type": "code",
   "execution_count": 48,
   "id": "15360dcc",
   "metadata": {
    "scrolled": true
   },
   "outputs": [
    {
     "name": "stdout",
     "output_type": "stream",
     "text": [
      "5\n",
      "['reloj', 'tetanos', 'tuetano', 'animal', 'vegetal']\n"
     ]
    }
   ],
   "source": [
    "# Sort -> Oredena los elementos de una lista\n",
    "\n",
    "my_list = [\"reloj\", \"tetanos\", \"tuetano\", \"animal\", \"vegetal\"]\n",
    "print(len(my_list))\n",
    "print(my_list)\n"
   ]
  },
  {
   "cell_type": "code",
   "execution_count": 49,
   "id": "43d1f368",
   "metadata": {},
   "outputs": [
    {
     "name": "stdout",
     "output_type": "stream",
     "text": [
      "5\n",
      "['animal', 'reloj', 'tetanos', 'tuetano', 'vegetal']\n"
     ]
    }
   ],
   "source": [
    "my_list.sort()\n",
    "print(len(my_list))\n",
    "print(my_list)"
   ]
  },
  {
   "cell_type": "code",
   "execution_count": 50,
   "id": "5aebe461",
   "metadata": {},
   "outputs": [
    {
     "name": "stdout",
     "output_type": "stream",
     "text": [
      "['reloj', 'tetanos', 'tuetano', 'animal', 'vegetal']\n",
      "['vegetal', 'tuetano', 'tetanos', 'reloj', 'animal']\n"
     ]
    }
   ],
   "source": [
    "my_list = [\"reloj\", \"tetanos\", \"tuetano\", \"animal\", \"vegetal\"]\n",
    "print(my_list)\n",
    "my_list.sort(reverse=True)\n",
    "print(my_list)\n"
   ]
  },
  {
   "cell_type": "code",
   "execution_count": 51,
   "id": "8635c115",
   "metadata": {},
   "outputs": [
    {
     "name": "stdout",
     "output_type": "stream",
     "text": [
      "7\n",
      "[745, 745, 387, 543, 32, 5634, 5]\n"
     ]
    }
   ],
   "source": [
    "# obtener un elemento aleatorio de una lista\n",
    "\n",
    "\n",
    "my_list = [745, 745, 387,543,32,5634,5]\n",
    "print(len(my_list))\n",
    "print(my_list)\n"
   ]
  },
  {
   "cell_type": "code",
   "execution_count": 52,
   "id": "3747abd8",
   "metadata": {},
   "outputs": [],
   "source": [
    "import random"
   ]
  },
  {
   "cell_type": "code",
   "execution_count": 53,
   "id": "d02e447f",
   "metadata": {},
   "outputs": [
    {
     "name": "stdout",
     "output_type": "stream",
     "text": [
      "745\n"
     ]
    }
   ],
   "source": [
    "print(random.choice(my_list))"
   ]
  },
  {
   "cell_type": "code",
   "execution_count": 54,
   "id": "b647c14e",
   "metadata": {},
   "outputs": [
    {
     "name": "stdout",
     "output_type": "stream",
     "text": [
      "5\n"
     ]
    }
   ],
   "source": [
    "print(random.choice(my_list))"
   ]
  },
  {
   "cell_type": "code",
   "execution_count": 55,
   "id": "eb87c40c",
   "metadata": {},
   "outputs": [
    {
     "name": "stdout",
     "output_type": "stream",
     "text": [
      "745\n"
     ]
    }
   ],
   "source": [
    "print(random.choice(my_list))"
   ]
  },
  {
   "cell_type": "code",
   "execution_count": null,
   "id": "93415d84",
   "metadata": {},
   "outputs": [],
   "source": []
  }
 ],
 "metadata": {
  "kernelspec": {
   "display_name": "Python 3 (ipykernel)",
   "language": "python",
   "name": "python3"
  },
  "language_info": {
   "codemirror_mode": {
    "name": "ipython",
    "version": 3
   },
   "file_extension": ".py",
   "mimetype": "text/x-python",
   "name": "python",
   "nbconvert_exporter": "python",
   "pygments_lexer": "ipython3",
   "version": "3.11.3"
  }
 },
 "nbformat": 4,
 "nbformat_minor": 5
}
