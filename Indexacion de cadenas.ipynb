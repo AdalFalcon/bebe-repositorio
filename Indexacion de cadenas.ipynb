{
 "cells": [
  {
   "cell_type": "markdown",
   "id": "406822b1",
   "metadata": {},
   "source": [
    "# Indexacion de Cadenas\n",
    "\n",
    "- ¿Que es un índicie?\n",
    "- ¿Porque es necesario?\n",
    "\n",
    "- Indexaci;on significa acceder a los elemento\n",
    "- Para acceder a los elementos podemos usar corchetes \"[.]\".\n",
    "- El indice o número que pongamos se refiere a la posición dentro de la lista ordenada \n",
    "- La indexación puede usarse para extraer elementos individuales de una estructura de datos.\n",
    "- En python, toda indexacion parte desde el numero 0 como primera posición\n",
    "\n",
    "- En python, tenemos dos tipos de indices:\n",
    "    - Positivos:Comienza desde 0: de izquierda a derecha según la posicion solicitada.\n",
    "    - Negativos: Comienza desde -1: de derecha a izquerda según la posicion solicitada.\n",
    " "
   ]
  },
  {
   "cell_type": "code",
   "execution_count": 10,
   "id": "c0a23a87",
   "metadata": {},
   "outputs": [
    {
     "name": "stdout",
     "output_type": "stream",
     "text": [
      "patito color de cafe\n",
      "<class 'str'>\n",
      "p\n",
      "patit\n",
      "patit\n",
      "patito color de cafe\n",
      " color de ca\n"
     ]
    }
   ],
   "source": [
    "# Segmentación de cadenas\n",
    "\n",
    "# Indices positivos\n",
    "\n",
    "my_string = \"patito color de cafe\"\n",
    "print(my_string)\n",
    "print(type(my_string))\n",
    "print(my_string[0])\n",
    "print(my_string[0:5]) # 0,1,2,3,4.\n",
    "print(my_string[:5])\n",
    "print(my_string[:])\n",
    "print(my_string[6:18])"
   ]
  },
  {
   "cell_type": "code",
   "execution_count": 11,
   "id": "d45812fa",
   "metadata": {},
   "outputs": [
    {
     "ename": "IndexError",
     "evalue": "string index out of range",
     "output_type": "error",
     "traceback": [
      "\u001b[1;31m---------------------------------------------------------------------------\u001b[0m",
      "\u001b[1;31mIndexError\u001b[0m                                Traceback (most recent call last)",
      "Cell \u001b[1;32mIn[11], line 3\u001b[0m\n\u001b[0;32m      1\u001b[0m \u001b[38;5;66;03m# Error\u001b[39;00m\n\u001b[0;32m      2\u001b[0m my_string \u001b[38;5;241m=\u001b[39m \u001b[38;5;124m\"\u001b[39m\u001b[38;5;124mpatito color de cafe\u001b[39m\u001b[38;5;124m\"\u001b[39m\n\u001b[1;32m----> 3\u001b[0m \u001b[38;5;28mprint\u001b[39m(\u001b[43mmy_string\u001b[49m\u001b[43m[\u001b[49m\u001b[38;5;241;43m40\u001b[39;49m\u001b[43m]\u001b[49m)\n",
      "\u001b[1;31mIndexError\u001b[0m: string index out of range"
     ]
    }
   ],
   "source": [
    "# Error\n",
    "my_string = \"patito color de cafe\"\n",
    "print(my_string[40])"
   ]
  },
  {
   "cell_type": "code",
   "execution_count": 18,
   "id": "98912eb0",
   "metadata": {},
   "outputs": [
    {
     "name": "stdout",
     "output_type": "stream",
     "text": [
      "e\n",
      "e\n",
      "d\n",
      "olor \n"
     ]
    }
   ],
   "source": [
    "# Indices negativos\n",
    "\n",
    "my_string = \"patito color de cafe\"\n",
    "print(my_string[len(my_string)-1])\n",
    "print(my_string[-1])\n",
    "print(my_string[-7])\n",
    "print(my_string[-12:-7])"
   ]
  },
  {
   "cell_type": "code",
   "execution_count": 21,
   "id": "6faa43b3",
   "metadata": {},
   "outputs": [
    {
     "name": "stdout",
     "output_type": "stream",
     "text": [
      "patito color\n",
      "de cafe\n",
      "patito colorde cafe\n",
      "patito colorde cafe\n",
      "patito color de cafe\n",
      "patito colorde cafe\n"
     ]
    }
   ],
   "source": [
    "# Concatenación de cadenas\n",
    "\n",
    "my_string_1 = \"patito color\"\n",
    "my_string_2 = \"de cafe\"\n",
    "print(my_string_1)\n",
    "print(my_string_2)\n",
    "print(my_string_1+my_string_2)\n",
    "print(my_string_1+\"\"+my_string_2)\n",
    "print(my_string_1+\" \"+my_string_2)\n",
    "print(\"{}{}\" .format(my_string_1,my_string_2))\n"
   ]
  },
  {
   "cell_type": "code",
   "execution_count": 27,
   "id": "c6cf7934",
   "metadata": {},
   "outputs": [
    {
     "name": "stdout",
     "output_type": "stream",
     "text": [
      "1020\n",
      "1020\n",
      "30\n",
      "30\n"
     ]
    }
   ],
   "source": [
    "my_string_1 = \"10\"\n",
    "my_string_2 = \"20\"\n",
    "print(my_string_1+my_string_2)\n",
    "print(eval(my_string_1+my_string_2))\n",
    "print(eval(\"{}+{}\".format(my_string_1,my_string_2)))\n",
    "print(int(my_string_1)+int(my_string_2))"
   ]
  },
  {
   "cell_type": "code",
   "execution_count": 32,
   "id": "63ac55bf",
   "metadata": {},
   "outputs": [
    {
     "ename": "TypeError",
     "evalue": "unsupported operand type(s) for +: 'int' and 'str'",
     "output_type": "error",
     "traceback": [
      "\u001b[1;31m---------------------------------------------------------------------------\u001b[0m",
      "\u001b[1;31mTypeError\u001b[0m                                 Traceback (most recent call last)",
      "Cell \u001b[1;32mIn[32], line 3\u001b[0m\n\u001b[0;32m      1\u001b[0m \u001b[38;5;66;03m# error\u001b[39;00m\n\u001b[1;32m----> 3\u001b[0m \u001b[38;5;241;43m10\u001b[39;49m\u001b[43m \u001b[49m\u001b[38;5;241;43m+\u001b[39;49m\u001b[43m \u001b[49m\u001b[38;5;124;43m\"\u001b[39;49m\u001b[38;5;124;43m10\u001b[39;49m\u001b[38;5;124;43m\"\u001b[39;49m \u001b[38;5;66;03m# Primero hay que transformar los datos.\u001b[39;00m\n\u001b[0;32m      4\u001b[0m \u001b[38;5;241m10\u001b[39m \u001b[38;5;241m+\u001b[39m \u001b[38;5;28mint\u001b[39m(\u001b[38;5;124m\"\u001b[39m\u001b[38;5;124m10\u001b[39m\u001b[38;5;124m\"\u001b[39m) \u001b[38;5;66;03m# Esta es la forma correcta.\u001b[39;00m\n",
      "\u001b[1;31mTypeError\u001b[0m: unsupported operand type(s) for +: 'int' and 'str'"
     ]
    }
   ],
   "source": [
    "# error\n",
    "\n",
    "10 + \"10\" # Primero hay que transformar los datos.\n",
    "10 + int(\"10\") # Esta es la forma correcta."
   ]
  },
  {
   "cell_type": "code",
   "execution_count": 38,
   "id": "fa317fac",
   "metadata": {},
   "outputs": [
    {
     "name": "stdout",
     "output_type": "stream",
     "text": [
      "cargando...cargando...cargando...cargando...\n",
      "cargando...\n",
      "cargando...\n",
      "cargando...\n",
      "cargando...\n",
      "\n",
      "\n",
      "\n",
      "cargando...cargando...cargando...cargando...\n"
     ]
    }
   ],
   "source": [
    "# Multiplicación de Cadenas\n",
    "\n",
    "my_string = \"cargando...\"\n",
    "print(my_string*4)\n",
    "my_string = \"cargando...\\n\"\n",
    "print(my_string*4)\n",
    "my_string = \"cargando...\"\n",
    "print(my_string*0) # no regresa nada porque cero por cero es cero, dah!\n",
    "my_string = \"cargando...\"\n",
    "print(my_string*-2) # No regresa nada porque no hay cuenta negativa (hacia atras, pues)\n",
    "my_string = \"cargando...\"\n",
    "print(my_string*4)"
   ]
  },
  {
   "cell_type": "code",
   "execution_count": 40,
   "id": "74012fc5",
   "metadata": {},
   "outputs": [
    {
     "ename": "TypeError",
     "evalue": "can't multiply sequence by non-int of type 'float'",
     "output_type": "error",
     "traceback": [
      "\u001b[1;31m---------------------------------------------------------------------------\u001b[0m",
      "\u001b[1;31mTypeError\u001b[0m                                 Traceback (most recent call last)",
      "Cell \u001b[1;32mIn[40], line 3\u001b[0m\n\u001b[0;32m      1\u001b[0m \u001b[38;5;66;03m# error\u001b[39;00m\n\u001b[0;32m      2\u001b[0m my_string \u001b[38;5;241m=\u001b[39m \u001b[38;5;124m\"\u001b[39m\u001b[38;5;124mcargando... \u001b[39m\u001b[38;5;130;01m\\n\u001b[39;00m\u001b[38;5;124m\"\u001b[39m\n\u001b[1;32m----> 3\u001b[0m \u001b[38;5;28mprint\u001b[39m(\u001b[43mmy_string\u001b[49m\u001b[38;5;241;43m*\u001b[39;49m\u001b[38;5;241;43m2.0\u001b[39;49m)\n",
      "\u001b[1;31mTypeError\u001b[0m: can't multiply sequence by non-int of type 'float'"
     ]
    }
   ],
   "source": [
    "# error\n",
    "my_string = \"cargando... \\n\" #sólo funciona con numeros enteros\n",
    "print(my_string*2.0)"
   ]
  },
  {
   "cell_type": "code",
   "execution_count": 42,
   "id": "3017928f",
   "metadata": {},
   "outputs": [
    {
     "name": "stdout",
     "output_type": "stream",
     "text": [
      "Es igual Sting 1 y String 2 False\n",
      "Es igual Sting 1 y String 3 True\n"
     ]
    }
   ],
   "source": [
    "# Comparacion de cadenas\n",
    "\n",
    "my_string_1 = \"Arroz\"\n",
    "my_string_2 = \"Frijoles\"\n",
    "my_string_3 = \"Arroz\"\n",
    "print(\"Es igual Sting 1 y String 2\", my_string_1==my_string_2)\n",
    "print(\"Es igual Sting 1 y String 3\", my_string_1==my_string_3)\n"
   ]
  },
  {
   "cell_type": "markdown",
   "id": "f6af9dbc",
   "metadata": {},
   "source": [
    "# Funicones de Cadena\n"
   ]
  },
  {
   "cell_type": "code",
   "execution_count": 49,
   "id": "4a3735ff",
   "metadata": {},
   "outputs": [
    {
     "name": "stdout",
     "output_type": "stream",
     "text": [
      "['El', 'avatar', 'desaparecio', 'por', 'cien', 'años', 'para', 'enamorarse', 'de', 'katara', 'a', 'primera', 'vista']\n",
      "['El avatar desaparecio por cien años para enamorarse de katara a primera vista']\n"
     ]
    }
   ],
   "source": [
    "# Split - divide la cadena básandose en el separador especificado\n",
    "\n",
    "my_string = \"El avatar desaparecio por cien años para enamorarse de katara a primera vista\"\n",
    "split_result_1 = my_string.split(\" \")\n",
    "split_result_2 = my_string.split(\".\")\n",
    "print(split_result_1)\n",
    "print(split_result_2)"
   ]
  },
  {
   "cell_type": "code",
   "execution_count": 50,
   "id": "f9cf8323",
   "metadata": {},
   "outputs": [
    {
     "name": "stdout",
     "output_type": "stream",
     "text": [
      "mollejas\n",
      "perro.dog\n"
     ]
    }
   ],
   "source": [
    "my_string = \"mollejas@perro.dog\"\n",
    "username, domain = my_string.split(\"@\")\n",
    "print(username)\n",
    "print(domain)"
   ]
  },
  {
   "cell_type": "code",
   "execution_count": 56,
   "id": "2b54e3aa",
   "metadata": {},
   "outputs": [
    {
     "name": "stdout",
     "output_type": "stream",
     "text": [
      "date: \"1990-12-05\n",
      "log_level: error\n",
      "message:  Este es un mensaje de error\n",
      "date:                 2001-07-27\n",
      "log_level: error\n",
      "message:  Este es un mensaje de advertencia\n",
      "date:                 2015-08-31\n",
      "log_level: error\n",
      "message:  Este es un mensaje de amenaza, pague ya\n"
     ]
    }
   ],
   "source": [
    "my_string = \"\"\"\"1990-12-05/error/ Este es un mensaje de error\n",
    "                2001-07-27/error/ Este es un mensaje de advertencia\n",
    "                2015-08-31/error/ Este es un mensaje de amenaza, pague ya\"\"\"\n",
    "\n",
    "logs = my_string.split(\"\\n\")\n",
    "for log in logs:\n",
    "    date, log_level, message = log.split(\"/\")\n",
    "    print(\"date:\", date)\n",
    "    print(\"log_level:\", log_level)\n",
    "    print(\"message:\", message)"
   ]
  },
  {
   "cell_type": "code",
   "execution_count": 58,
   "id": "224f3f24",
   "metadata": {},
   "outputs": [
    {
     "name": "stdout",
     "output_type": "stream",
     "text": [
      "Katara tiene esta en posicion numero 55 de la oracion\n",
      "Katara tiene esta en posicion numero 55 de la oracion\n"
     ]
    }
   ],
   "source": [
    "# Index\n",
    "\n",
    "my_string = \"El avatar desaparecio por cien años para enamorarse de katara a primera vista\"\n",
    "print(\"Katara tiene esta en posicion numero\",my_string.index(\"katara\") ,\"de la oracion\")\n",
    "print(\"Katara tiene esta en posicion numero\",my_string.find(\"katara\") ,\"de la oracion\")"
   ]
  },
  {
   "cell_type": "code",
   "execution_count": 59,
   "id": "39ee1aa1",
   "metadata": {},
   "outputs": [
    {
     "name": "stdout",
     "output_type": "stream",
     "text": [
      "La cantidad de 'a'en my_string es 16\n"
     ]
    }
   ],
   "source": [
    "# Count - Cuenta el numero de apariciones de la subcadena solicitada en la cadena completa\n",
    "\n",
    "my_string = \"El avatar desaparecio por cien años para enamorarse de katara a primera vista\"\n",
    "print(\"La cantidad de 'a'en my_string es\", my_string.count('a'))\n"
   ]
  },
  {
   "cell_type": "code",
   "execution_count": 60,
   "id": "88813791",
   "metadata": {},
   "outputs": [
    {
     "name": "stdout",
     "output_type": "stream",
     "text": [
      "La cantidad de 'a'en my_string es 77\n"
     ]
    }
   ],
   "source": [
    "# len - Cuenta la longitud o el numero de caracteres que hay en una cadena\n",
    "\n",
    "my_string = \"El avatar desaparecio por cien años para enamorarse de katara a primera vista\"\n",
    "print(\"La cantidad de caracteres en my_string es\", len(my_string))\n"
   ]
  },
  {
   "cell_type": "code",
   "execution_count": 13,
   "id": "24727ae5",
   "metadata": {},
   "outputs": [
    {
     "name": "stdout",
     "output_type": "stream",
     "text": [
      "[  El avatar desaparecio  ]\n",
      "[El avatar desaparecio]\n"
     ]
    }
   ],
   "source": [
    "# Strip - remueve espacios\n",
    "\n",
    "my_string = \"  El avatar desaparecio  \"\n",
    "print(\"[{}]\".format(my_string))\n",
    "print(\"[{}]\".format(my_string.strip()))\n"
   ]
  },
  {
   "cell_type": "code",
   "execution_count": 22,
   "id": "0036cfce",
   "metadata": {},
   "outputs": [
    {
     "name": "stdout",
     "output_type": "stream",
     "text": [
      "[ \n",
      "\n",
      "\t\r",
      " El avatar desaparecio \n",
      "\n",
      "\t\r",
      "  ]\n",
      "[El avatar desaparecio]\n"
     ]
    }
   ],
   "source": [
    "my_string = \" \\n\\n\\t\\r El avatar desaparecio \\n\\n\\t\\r  \"\n",
    "print(\"[{}]\".format(my_string))\n",
    "print(\"[{}]\".format(my_string.strip()))"
   ]
  },
  {
   "cell_type": "code",
   "execution_count": 29,
   "id": "f775d988",
   "metadata": {},
   "outputs": [
    {
     "name": "stdout",
     "output_type": "stream",
     "text": [
      "[El avatar desaparecio]\n",
      "[El avatar ]\n"
     ]
    }
   ],
   "source": [
    "my_string = \"El avatar desaparecio\"\n",
    "print(\"[{}]\".format(my_string))\n",
    "print(\"[{}]\".format(my_string.strip(\"desaparecio\")))\n"
   ]
  },
  {
   "cell_type": "code",
   "execution_count": 30,
   "id": "ea15dc87",
   "metadata": {},
   "outputs": [
    {
     "name": "stdout",
     "output_type": "stream",
     "text": [
      "True\n",
      "True\n",
      "True\n"
     ]
    }
   ],
   "source": [
    "# isdecimal / isnumeric / isdigit\n",
    "\n",
    "my_string = \"7850\"\n",
    "print(my_string.isdecimal())\n",
    "print(my_string.isnumeric())\n",
    "print(my_string.isdigit())"
   ]
  },
  {
   "cell_type": "code",
   "execution_count": 31,
   "id": "647c227d",
   "metadata": {},
   "outputs": [
    {
     "name": "stdout",
     "output_type": "stream",
     "text": [
      "False\n",
      "False\n",
      "False\n"
     ]
    }
   ],
   "source": [
    "my_string = \"El avatar desaparecio\"\n",
    "print(my_string.isdecimal())\n",
    "print(my_string.isnumeric())\n",
    "print(my_string.isdigit())"
   ]
  },
  {
   "cell_type": "code",
   "execution_count": 32,
   "id": "7a9a9926",
   "metadata": {},
   "outputs": [
    {
     "name": "stdout",
     "output_type": "stream",
     "text": [
      "False\n",
      "False\n",
      "False\n"
     ]
    }
   ],
   "source": [
    "my_string = \"78 50\"\n",
    "print(my_string.isdecimal())\n",
    "print(my_string.isnumeric())\n",
    "print(my_string.isdigit())"
   ]
  },
  {
   "cell_type": "code",
   "execution_count": 39,
   "id": "2b6dd51f",
   "metadata": {},
   "outputs": [
    {
     "name": "stdout",
     "output_type": "stream",
     "text": [
      "False\n",
      "False\n",
      "True\n",
      "True\n",
      "False\n"
     ]
    }
   ],
   "source": [
    "# islnum - analiza si todos los caracteres son alfanumericos (letras o numeros)\n",
    "my_string_1 = \"78 50\"\n",
    "print(my_string_1.isalnum())\n",
    "\n",
    "my_string_2 = \"El avatar desaparecio\"\n",
    "print(my_string_2.isalnum())\n",
    "\n",
    "my_string_3 = \"7850\"\n",
    "print(my_string_3.isalnum())\n",
    "\n",
    "my_string_4 = \"avatar7850\"\n",
    "print(my_string_4.isalnum())\n",
    "\n",
    "my_string_5 = \"avatar 7850\"\n",
    "print(my_string_5.isalnum())"
   ]
  },
  {
   "cell_type": "code",
   "execution_count": 42,
   "id": "beddeea7",
   "metadata": {},
   "outputs": [
    {
     "name": "stdout",
     "output_type": "stream",
     "text": [
      "False\n",
      "True\n",
      "True\n"
     ]
    }
   ],
   "source": [
    "# isupper - Analiza si todas las letas son mayusculas\n",
    "\n",
    "my_string_1 = \"El avatar desaparecio\"\n",
    "print(my_string_1.isupper())\n",
    "\n",
    "my_string_2 = \"LOS TACOS SABEN MAL\"\n",
    "print(my_string_2.isupper())\n",
    "\n",
    "my_string_3 = \"LOS TACOS DE LA 77 SABEN MAL\"\n",
    "print(my_string_3.isupper())"
   ]
  },
  {
   "cell_type": "code",
   "execution_count": 43,
   "id": "29e66d16",
   "metadata": {},
   "outputs": [
    {
     "name": "stdout",
     "output_type": "stream",
     "text": [
      "True\n",
      "False\n",
      "False\n",
      "True\n"
     ]
    }
   ],
   "source": [
    "# islower - Analiza si todas las letras son minusculas\n",
    "\n",
    "my_string_1 = \"el avatar desaparecio\"\n",
    "print(my_string_1.islower())\n",
    "\n",
    "my_string_2 = \"LOS TACOS SABEN MAL\"\n",
    "print(my_string_2.islower())\n",
    "\n",
    "my_string_3 = \"LOS TACOS DE LA 77 SABEN MAL\"\n",
    "print(my_string_3.islower())\n",
    "\n",
    "my_string_4 = \"el avatar desaparecio 100 años\"\n",
    "print(my_string_4.islower())"
   ]
  },
  {
   "cell_type": "code",
   "execution_count": 51,
   "id": "90d6472a",
   "metadata": {},
   "outputs": [
    {
     "name": "stdout",
     "output_type": "stream",
     "text": [
      "99/8/42/37\n",
      "99?8?42?37\n"
     ]
    }
   ],
   "source": [
    "#join - crea una cadena de una lista usando el separador especificado\n",
    "\n",
    "num_list = ['99', '8', '42', '37'] # lista\n",
    "separador = '/'\n",
    "print(separador.join(num_list))\n",
    "\n",
    "separador = '?'\n",
    "print(separador.join(num_list))"
   ]
  },
  {
   "cell_type": "code",
   "execution_count": 50,
   "id": "5c25b99d",
   "metadata": {},
   "outputs": [
    {
     "ename": "TypeError",
     "evalue": "sequence item 0: expected str instance, int found",
     "output_type": "error",
     "traceback": [
      "\u001b[1;31m---------------------------------------------------------------------------\u001b[0m",
      "\u001b[1;31mTypeError\u001b[0m                                 Traceback (most recent call last)",
      "Cell \u001b[1;32mIn[50], line 3\u001b[0m\n\u001b[0;32m      1\u001b[0m num_list_2 \u001b[38;5;241m=\u001b[39m [\u001b[38;5;241m99\u001b[39m, \u001b[38;5;241m8\u001b[39m, \u001b[38;5;241m42\u001b[39m, \u001b[38;5;241m37\u001b[39m] \u001b[38;5;66;03m# lista\u001b[39;00m\n\u001b[0;32m      2\u001b[0m separador \u001b[38;5;241m=\u001b[39m \u001b[38;5;124m'\u001b[39m\u001b[38;5;124m/\u001b[39m\u001b[38;5;124m'\u001b[39m\n\u001b[1;32m----> 3\u001b[0m \u001b[38;5;28mprint\u001b[39m(\u001b[43mseparador\u001b[49m\u001b[38;5;241;43m.\u001b[39;49m\u001b[43mjoin\u001b[49m\u001b[43m(\u001b[49m\u001b[43mnum_list_2\u001b[49m\u001b[43m)\u001b[49m)\n",
      "\u001b[1;31mTypeError\u001b[0m: sequence item 0: expected str instance, int found"
     ]
    }
   ],
   "source": [
    "num_list_2 = [99, 8, 42, 37] # lista - no funciona en \"int\" sólo en str\n",
    "separador = '/'\n",
    "print(separador.join(num_list_2))\n"
   ]
  },
  {
   "cell_type": "code",
   "execution_count": 56,
   "id": "a8e324fc",
   "metadata": {},
   "outputs": [
    {
     "name": "stdout",
     "output_type": "stream",
     "text": [
      "El avatar desaparecio 100 años\n"
     ]
    }
   ],
   "source": [
    "# capitalize\n",
    "\n",
    "my_string_1 = \"el avatar desaparecio 100 años\"\n",
    "print(my_string_1.capitalize())\n"
   ]
  },
  {
   "cell_type": "code",
   "execution_count": 57,
   "id": "3c7ffd29",
   "metadata": {},
   "outputs": [
    {
     "name": "stdout",
     "output_type": "stream",
     "text": [
      "100 años el avatar desaparecio \n",
      "50 años el avatar desaparecio \n",
      "7 años el avatar desaparecio \n",
      "20 años el avatar desaparecio \n"
     ]
    }
   ],
   "source": [
    "# format - ayuda a configurar valores dentro de una cadena que es nuestro molde\n",
    "\n",
    "my_string = \"{} años el avatar desaparecio \"\n",
    "print(my_string.format(\"100\"))\n",
    "print(my_string.format(\"50\"))\n",
    "print(my_string.format(\"7\"))\n",
    "print(my_string.format(\"20\"))"
   ]
  },
  {
   "cell_type": "code",
   "execution_count": 58,
   "id": "99758e9d",
   "metadata": {},
   "outputs": [
    {
     "name": "stdout",
     "output_type": "stream",
     "text": [
      "100 años el avatar desaparecio, en 5 años resolvio el problema con la nación del fuego \n",
      "50 años el avatar desaparecio, en 3 años resolvio el problema con la nación del fuego \n",
      "7 años el avatar desaparecio, en 2 años resolvio el problema con la nación del fuego \n",
      "20 años el avatar desaparecio, en 10 años resolvio el problema con la nación del fuego \n"
     ]
    }
   ],
   "source": [
    "my_string = \"{} años el avatar desaparecio, en {} años resolvio el problema con la nación del fuego \"\n",
    "print(my_string.format(\"100\",\"5\"))\n",
    "print(my_string.format(\"50\",\"3\"))\n",
    "print(my_string.format(\"7\",\"2\"))\n",
    "print(my_string.format(\"20\",\"10\"))"
   ]
  },
  {
   "cell_type": "code",
   "execution_count": 61,
   "id": "a460ddb3",
   "metadata": {},
   "outputs": [
    {
     "name": "stdout",
     "output_type": "stream",
     "text": [
      "10:00 año: 2005 hora \n",
      "5:00 año: 1993 hora \n",
      "7:00 año: 1982 hora \n",
      "2:00 año: 2010 hora \n",
      "año 2005: hora: 10:00 \n",
      "año 1993: hora: 5:00 \n",
      "año 1982: hora: 7:00 \n",
      "año 2010: hora: 2:00 \n"
     ]
    }
   ],
   "source": [
    "my_string = \"{0} año: {1} hora \"\n",
    "print(my_string.format(\"10:00\",\"2005\"))\n",
    "print(my_string.format(\"5:00\",\"1993\"))\n",
    "print(my_string.format(\"7:00\",\"1982\"))\n",
    "print(my_string.format(\"2:00\",\"2010\"))\n",
    "\n",
    "my_string_2 = \"año {1}: hora: {0} \"\n",
    "print(my_string_2.format(\"10:00\",\"2005\"))\n",
    "print(my_string_2.format(\"5:00\",\"1993\"))\n",
    "print(my_string_2.format(\"7:00\",\"1982\"))\n",
    "print(my_string_2.format(\"2:00\",\"2010\"))"
   ]
  },
  {
   "cell_type": "code",
   "execution_count": 69,
   "id": "d086baa2",
   "metadata": {},
   "outputs": [
    {
     "name": "stdout",
     "output_type": "stream",
     "text": [
      "1 año: 2005 hora \n",
      "5:00 año: 1993 hora \n",
      "7:00 año: 1982 hora \n",
      "2:00 año: 2010 hora \n"
     ]
    }
   ],
   "source": [
    "my_string = \"{0} año: {1} hora \"\n",
    "print(my_string.format(int(True),2005))\n",
    "print(my_string.format(\"5:00\",\"1993\"))\n",
    "print(my_string.format(\"7:00\",\"1982\"))\n",
    "print(my_string.format(\"2:00\",\"2010\"))"
   ]
  },
  {
   "cell_type": "code",
   "execution_count": 86,
   "id": "18f2b04d",
   "metadata": {
    "scrolled": true
   },
   "outputs": [
    {
     "name": "stdout",
     "output_type": "stream",
     "text": [
      "[años el avatar desaparecio]\n",
      "[                                     años el avatar desaparecio                                     ]\n",
      "[            años el avatar desaparecio            ]\n",
      "[                           años el avatar desaparecio                           ]\n"
     ]
    }
   ],
   "source": [
    "# center - centra el texto, es en serio\n",
    "\n",
    "my_string = \"años el avatar desaparecio\"\n",
    "\n",
    "print(\"[{}]\".format(my_string.center(0)))\n",
    "print(\"[{}]\".format(my_string.center(100)))\n",
    "print(\"[{}]\".format(my_string.center(50)))\n",
    "print(\"[{}]\".format(my_string.center(80)))"
   ]
  },
  {
   "cell_type": "code",
   "execution_count": 97,
   "id": "2586389e",
   "metadata": {},
   "outputs": [
    {
     "name": "stdout",
     "output_type": "stream",
     "text": [
      "[True]\n",
      "True\n",
      "True\n",
      "False\n",
      "<class 'tuple'> (44562, 34, 5)\n"
     ]
    }
   ],
   "source": [
    "# endswith - evalua si la cadena termina con el caracete o la palabra solicitada\n",
    "\n",
    "my_string = \"años el avatar desaparecio\"\n",
    "print('[{}]'.format(my_string.endswith(\"desaparecio\")))\n",
    "print(my_string.endswith(\"desaparecio\"))\n",
    "print(my_string.endswith(\"io\"))\n",
    "print(my_string.endswith(\"avatar\"))\n",
    "\n",
    "my_list = 44562, 34, 5 # no funciona con tuplas\n",
    "print(type(my_list),my_list)"
   ]
  },
  {
   "cell_type": "code",
   "execution_count": 108,
   "id": "43a86213",
   "metadata": {},
   "outputs": [
    {
     "name": "stdout",
     "output_type": "stream",
     "text": [
      "los tacos de la 77 saben mal\n",
      "EL AVATAR DESAPARECIO 100 AÑOS\n"
     ]
    }
   ],
   "source": [
    "# swapcase - Remplaza mayusculas con minusculas y viceversa \n",
    "\n",
    "my_string_3 = \"LOS TACOS DE LA 77 SABEN MAL\"\n",
    "print(my_string_3.swapcase())\n",
    "\n",
    "my_string_4 = \"el avatar desaparecio 100 años\"\n",
    "print(my_string_4.swapcase())"
   ]
  },
  {
   "cell_type": "code",
   "execution_count": 131,
   "id": "59e1cbc2",
   "metadata": {},
   "outputs": [
    {
     "name": "stdout",
     "output_type": "stream",
     "text": [
      "el avatar vivió 100 años\n",
      "el avatar desaparecio 20 años\n",
      "<class 'str'> el avatar vivió 100 años\n",
      "el avatar desaparecio 20 años el avatar vivió 100 años\n"
     ]
    },
    {
     "ename": "AttributeError",
     "evalue": "'tuple' object has no attribute 'replace'",
     "output_type": "error",
     "traceback": [
      "\u001b[1;31m---------------------------------------------------------------------------\u001b[0m",
      "\u001b[1;31mAttributeError\u001b[0m                            Traceback (most recent call last)",
      "Cell \u001b[1;32mIn[131], line 10\u001b[0m\n\u001b[0;32m      7\u001b[0m \u001b[38;5;28mprint\u001b[39m(my_string\u001b[38;5;241m.\u001b[39mreplace(\u001b[38;5;124m\"\u001b[39m\u001b[38;5;124m100\u001b[39m\u001b[38;5;124m\"\u001b[39m, \u001b[38;5;124m\"\u001b[39m\u001b[38;5;124m20\u001b[39m\u001b[38;5;124m\"\u001b[39m), my_string\u001b[38;5;241m.\u001b[39mreplace(\u001b[38;5;124m\"\u001b[39m\u001b[38;5;124mdesaparecio\u001b[39m\u001b[38;5;124m\"\u001b[39m,\u001b[38;5;124m\"\u001b[39m\u001b[38;5;124mvivió\u001b[39m\u001b[38;5;124m\"\u001b[39m))\n\u001b[0;32m      9\u001b[0m my_list \u001b[38;5;241m=\u001b[39m \u001b[38;5;241m44562\u001b[39m, \u001b[38;5;241m34\u001b[39m, \u001b[38;5;241m5\u001b[39m \u001b[38;5;66;03m# no funciona para tuplas\u001b[39;00m\n\u001b[1;32m---> 10\u001b[0m \u001b[38;5;28mprint\u001b[39m(\u001b[43mmy_list\u001b[49m\u001b[38;5;241;43m.\u001b[39;49m\u001b[43mreplace\u001b[49m(\u001b[38;5;241m34\u001b[39m, \u001b[38;5;241m43\u001b[39m))\n",
      "\u001b[1;31mAttributeError\u001b[0m: 'tuple' object has no attribute 'replace'"
     ]
    }
   ],
   "source": [
    "# replace - remplaza una subcadena por otra subcadena dentro de una cadena\n",
    "\n",
    "my_string = \"el avatar desaparecio 100 años\"\n",
    "print(my_string.replace(\"desaparecio\", \"vivió\"))\n",
    "print(my_string.replace(\"100\", \"20\"))\n",
    "print(type(my_string),my_string.replace(\"desaparecio\", \"vivió\"))\n",
    "print(my_string.replace(\"100\", \"20\"), my_string.replace(\"desaparecio\",\"vivió\"))\n",
    "\n",
    "my_list = 44562, 34, 5 # no funciona para tuplas\n",
    "print(my_list.replace(34, 43))"
   ]
  },
  {
   "cell_type": "markdown",
   "id": "03057064",
   "metadata": {},
   "source": [
    "# Formateo de Cadenas"
   ]
  },
  {
   "cell_type": "code",
   "execution_count": 133,
   "id": "f7865112",
   "metadata": {},
   "outputs": [
    {
     "name": "stdout",
     "output_type": "stream",
     "text": [
      "2023-10-11 13:21:23.904868\n"
     ]
    }
   ],
   "source": [
    "# formateo de cadenas y datetime\n",
    "\n",
    "from datetime import datetime\n",
    "now = datetime.now()\n",
    "print(now)"
   ]
  },
  {
   "cell_type": "code",
   "execution_count": 136,
   "id": "16c8a451",
   "metadata": {},
   "outputs": [
    {
     "name": "stdout",
     "output_type": "stream",
     "text": [
      "Año:  2023\n",
      "Mes:  21\n",
      "Semana:  41\n",
      "Día:  10/11/23\n",
      "Hora:  13:21:23\n"
     ]
    }
   ],
   "source": [
    "year = now.strftime(\"%Y\")\n",
    "month = now.strftime(\"%M\")\n",
    "week = now.strftime(\"%W\")\n",
    "day = now.strftime(\"%D\")\n",
    "time = now.strftime(\"%H:%M:%S\")\n",
    "\n",
    "print('Año: ', year)\n",
    "print('Mes: ', month)\n",
    "print('Semana: ', week)\n",
    "print('Día: ', day)\n",
    "print('Hora: ', time)"
   ]
  },
  {
   "cell_type": "code",
   "execution_count": 137,
   "id": "388c3586",
   "metadata": {},
   "outputs": [
    {
     "name": "stdout",
     "output_type": "stream",
     "text": [
      "soña 001 oicerapased ratava le\n"
     ]
    }
   ],
   "source": [
    "# reverse - invierte cadenas\n",
    "\n",
    "my_string = \"el avatar desaparecio 100 años\"\n",
    "print(my_string[:: - 1])"
   ]
  }
 ],
 "metadata": {
  "kernelspec": {
   "display_name": "Python 3 (ipykernel)",
   "language": "python",
   "name": "python3"
  },
  "language_info": {
   "codemirror_mode": {
    "name": "ipython",
    "version": 3
   },
   "file_extension": ".py",
   "mimetype": "text/x-python",
   "name": "python",
   "nbconvert_exporter": "python",
   "pygments_lexer": "ipython3",
   "version": "3.11.3"
  }
 },
 "nbformat": 4,
 "nbformat_minor": 5
}
