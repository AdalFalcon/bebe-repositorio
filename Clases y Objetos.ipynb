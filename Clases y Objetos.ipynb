{
 "cells": [
  {
   "cell_type": "code",
   "execution_count": 69,
   "id": "8cd2d29f",
   "metadata": {},
   "outputs": [
    {
     "name": "stdout",
     "output_type": "stream",
     "text": [
      "Busca una prenda ideal para ti: \n",
      "Tal vez este producto pueda interesarle:  Playera\n",
      "Camisa tipo polo\n",
      "Hecha 100% algodón\n",
      "Costo: $300\n",
      "\n"
     ]
    }
   ],
   "source": [
    "class Ropa:\n",
    "    def __init__ (self, marca, talla, color):\n",
    "        self.marca = marca\n",
    "        self.talla = talla\n",
    "        self.color = color\n",
    "        print(\"Busca una prenda ideal para ti: \" )\n",
    "        \n",
    "    def tops(self):\n",
    "        pass\n",
    "    def bajos(self):\n",
    "        pass\n",
    "    def accesorios(self):\n",
    "        pass\n",
    "    def descripción(self):\n",
    "        print(\"Tal vez este producto pueda interesarle: \", type(self).__name__)\n",
    "        self.tipo()\n",
    "        self.material()\n",
    "        self.precio()\n",
    "\n",
    "        \n",
    "class Playera (Ropa):\n",
    "    def tipo (self):\n",
    "        print(\"Camisa tipo polo\")\n",
    "    def material (self):\n",
    "        print(\"Hecha 100% algodón\")\n",
    "    def precio (self):\n",
    "        print(\"Costo: $300\")\n",
    "    \n",
    "class Gorra(Ropa):\n",
    "    def tipo (self):\n",
    "        print(\"Sombrero de senderimo\")\n",
    "    def material(self):\n",
    "        print(\"Tipo lona\")\n",
    "    def precio(self):\n",
    "        print(\"Costo: 500\")\n",
    "\n",
    "class Bermuda (Ropa):\n",
    "    def tipo (self):\n",
    "        print (\"Bermuda hawaina\")\n",
    "    def material (self):\n",
    "        print(\"Polyester y Algodón\")\n",
    "    def precio (self):\n",
    "        print(\"Costo: 350\")\n",
    "            \n",
    "\n",
    "\n",
    "playera_polo = Playera(\"Ralph Lauren\", \"Mediano\", \"Rojo\")\n",
    "playera_polo.descripción()\n",
    "print()\n"
   ]
  },
  {
   "cell_type": "code",
   "execution_count": null,
   "id": "7d0a0969",
   "metadata": {},
   "outputs": [],
   "source": [
    "\n"
   ]
  }
 ],
 "metadata": {
  "kernelspec": {
   "display_name": "Python 3 (ipykernel)",
   "language": "python",
   "name": "python3"
  },
  "language_info": {
   "codemirror_mode": {
    "name": "ipython",
    "version": 3
   },
   "file_extension": ".py",
   "mimetype": "text/x-python",
   "name": "python",
   "nbconvert_exporter": "python",
   "pygments_lexer": "ipython3",
   "version": "3.11.3"
  }
 },
 "nbformat": 4,
 "nbformat_minor": 5
}
