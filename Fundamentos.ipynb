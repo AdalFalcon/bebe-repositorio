{
 "cells": [
  {
   "cell_type": "markdown",
   "id": "4a34be28",
   "metadata": {},
   "source": [
    "# #Phyton distingue entre mayusculas y minusculas"
   ]
  },
  {
   "cell_type": "code",
   "execution_count": null,
   "id": "fc0a6e24",
   "metadata": {},
   "outputs": [],
   "source": [
    "A = \"Backend Phyton\"\n",
    "print(\"el curso es: \",A)"
   ]
  },
  {
   "cell_type": "code",
   "execution_count": null,
   "id": "3936f687",
   "metadata": {},
   "outputs": [],
   "source": [
    "A = \"Backend Phyton\"\n",
    "print(\"el curso es: \",a)"
   ]
  },
  {
   "cell_type": "code",
   "execution_count": null,
   "id": "9f197427",
   "metadata": {},
   "outputs": [],
   "source": [
    "a = \"Backend Phyton\"\n",
    "print(\"el curso es: \",a)"
   ]
  },
  {
   "cell_type": "code",
   "execution_count": null,
   "id": "1f5123ed",
   "metadata": {},
   "outputs": [],
   "source": [
    "help (keywords)\n"
   ]
  },
  {
   "cell_type": "code",
   "execution_count": null,
   "id": "855b8934",
   "metadata": {
    "scrolled": true
   },
   "outputs": [],
   "source": [
    "hel (\"keywords\")"
   ]
  },
  {
   "cell_type": "markdown",
   "id": "c101767e",
   "metadata": {},
   "source": [
    "## Palabras Reservadas en Phyton"
   ]
  },
  {
   "cell_type": "code",
   "execution_count": null,
   "id": "4b39227d",
   "metadata": {},
   "outputs": [],
   "source": [
    "help (\"keywords\")"
   ]
  },
  {
   "cell_type": "markdown",
   "id": "01da83f3",
   "metadata": {},
   "source": [
    "## Caracteres de escape en Phyton"
   ]
  },
  {
   "cell_type": "code",
   "execution_count": null,
   "id": "0ea7c402",
   "metadata": {},
   "outputs": [],
   "source": [
    "\"\\`\" # Single Quote Comilla Sencilla"
   ]
  },
  {
   "cell_type": "code",
   "execution_count": null,
   "id": "7f1fb6d7",
   "metadata": {},
   "outputs": [],
   "source": [
    "\"\\`\" # Single Quote Comilla Sencilla"
   ]
  },
  {
   "cell_type": "code",
   "execution_count": null,
   "id": "f40797e2",
   "metadata": {},
   "outputs": [],
   "source": [
    "\"\\''\" # Single Quote Comilla Sencilla"
   ]
  },
  {
   "cell_type": "code",
   "execution_count": null,
   "id": "eed57536",
   "metadata": {},
   "outputs": [],
   "source": [
    "\"''\""
   ]
  },
  {
   "cell_type": "code",
   "execution_count": null,
   "id": "dbeeae98",
   "metadata": {},
   "outputs": [],
   "source": [
    "'''"
   ]
  },
  {
   "cell_type": "code",
   "execution_count": null,
   "id": "5053578c",
   "metadata": {},
   "outputs": [],
   "source": [
    "\"\\\"\" #Double Quote / Comilla Doble\n"
   ]
  },
  {
   "cell_type": "code",
   "execution_count": null,
   "id": "01aad8b8",
   "metadata": {},
   "outputs": [],
   "source": [
    "\"\"\""
   ]
  },
  {
   "cell_type": "code",
   "execution_count": null,
   "id": "3ab51b28",
   "metadata": {},
   "outputs": [],
   "source": [
    "\"\\n\" # New Line / Salto de Linea"
   ]
  },
  {
   "cell_type": "code",
   "execution_count": null,
   "id": "e1d6d3f2",
   "metadata": {},
   "outputs": [],
   "source": [
    "my_course = Backend Phyton de BAC\n",
    "print(my_course)"
   ]
  },
  {
   "cell_type": "code",
   "execution_count": null,
   "id": "4b93cb7d",
   "metadata": {},
   "outputs": [],
   "source": [
    "my_course = \"Backend Phyton de BAC\"\n",
    "print(my_course)"
   ]
  },
  {
   "cell_type": "code",
   "execution_count": null,
   "id": "4510fba5",
   "metadata": {},
   "outputs": [],
   "source": [
    "my_course = \"Backend Phyton\\nde BAC\"\n",
    "print(my_course)"
   ]
  },
  {
   "cell_type": "code",
   "execution_count": null,
   "id": "c16eade2",
   "metadata": {},
   "outputs": [],
   "source": [
    "my_course = \"Backend\\nPhyton\\nde BAC\"\n",
    "print(my_course)"
   ]
  },
  {
   "cell_type": "code",
   "execution_count": null,
   "id": "9f5633ba",
   "metadata": {},
   "outputs": [],
   "source": [
    "\"\\t\" # Tab"
   ]
  },
  {
   "cell_type": "code",
   "execution_count": null,
   "id": "3f8956de",
   "metadata": {},
   "outputs": [],
   "source": [
    "my_course = \"Backend\\tPhyton\\tde EBAC\"\n",
    "print(my_course)"
   ]
  },
  {
   "cell_type": "code",
   "execution_count": null,
   "id": "952d861e",
   "metadata": {},
   "outputs": [],
   "source": [
    "\"\\r\" # Carriage Return / Retorno de Carro"
   ]
  },
  {
   "cell_type": "code",
   "execution_count": null,
   "id": "fed0ac6c",
   "metadata": {},
   "outputs": [],
   "source": [
    "my_course = \"Backend\\rPhyton\\tde EBAC\"\n",
    "print(my_course)"
   ]
  },
  {
   "cell_type": "code",
   "execution_count": null,
   "id": "b85ccdc4",
   "metadata": {},
   "outputs": [],
   "source": [
    "my_course = \"Backend\\rPhyton\\rde EBAC\"\n",
    "print(my_course)"
   ]
  },
  {
   "cell_type": "code",
   "execution_count": null,
   "id": "76931e16",
   "metadata": {},
   "outputs": [],
   "source": [
    "\"\\b\" # Baackspace/Retorno"
   ]
  },
  {
   "cell_type": "code",
   "execution_count": null,
   "id": "a7efd70f",
   "metadata": {},
   "outputs": [],
   "source": [
    "my_course = \"Backend\\bPhyton\\bde EBAC\"\n",
    "print(my_course)"
   ]
  },
  {
   "cell_type": "code",
   "execution_count": null,
   "id": "408a7c7b",
   "metadata": {},
   "outputs": [],
   "source": [
    "\"\\000\" # octal"
   ]
  },
  {
   "cell_type": "code",
   "execution_count": null,
   "id": "bd80ca0d",
   "metadata": {},
   "outputs": [],
   "source": [
    "Hello_Spanish_Octal = \"\\110\\157\\\\154\\141\"\n",
    "print(Hello_Spanish_Octal)"
   ]
  },
  {
   "cell_type": "code",
   "execution_count": null,
   "id": "b08c84c6",
   "metadata": {},
   "outputs": [],
   "source": [
    "Hello_Spanish_Octal = \"\\110\\157\\154\\141\"\n",
    "print(Hello_Spanish_Octal)"
   ]
  },
  {
   "cell_type": "code",
   "execution_count": null,
   "id": "7832ef0f",
   "metadata": {},
   "outputs": [],
   "source": [
    "\"\\ooo\" # Octal"
   ]
  },
  {
   "cell_type": "code",
   "execution_count": null,
   "id": "0aca20bb",
   "metadata": {},
   "outputs": [],
   "source": [
    "\"\\xhh\" # Hexadecimal"
   ]
  },
  {
   "cell_type": "code",
   "execution_count": null,
   "id": "a31ea0b3",
   "metadata": {},
   "outputs": [],
   "source": [
    "Hello_Spanish_Hexa = \"\\x48\\6f\\x6c\\x61\"\n",
    "print(Hello_Spanish_Hex)"
   ]
  },
  {
   "cell_type": "code",
   "execution_count": null,
   "id": "09e2b309",
   "metadata": {},
   "outputs": [],
   "source": [
    "Hello_Spanish_Hex = \"\\x48\\6f\\x6c\\x61\"\n",
    "print(Hello_Spanish_Hex)"
   ]
  },
  {
   "cell_type": "code",
   "execution_count": null,
   "id": "4839bf50",
   "metadata": {},
   "outputs": [],
   "source": [
    "Hello_Spanish_Hex = \"\\x48\\x6f\\x6c\\x61\"\n",
    "print(Hello_Spanish_Hex)"
   ]
  },
  {
   "cell_type": "markdown",
   "id": "a89173c0",
   "metadata": {},
   "source": [
    "## Función Eval()"
   ]
  },
  {
   "cell_type": "code",
   "execution_count": null,
   "id": "00f0671c",
   "metadata": {},
   "outputs": [],
   "source": [
    "my_number = 22\n",
    "print (\"my_number+1000\")"
   ]
  },
  {
   "cell_type": "code",
   "execution_count": null,
   "id": "09688587",
   "metadata": {},
   "outputs": [],
   "source": [
    "my_number = 22\n",
    "\n",
    "print (eval(\"my_number+1000\"))"
   ]
  },
  {
   "cell_type": "code",
   "execution_count": 1,
   "id": "31fad597",
   "metadata": {},
   "outputs": [
    {
     "name": "stdout",
     "output_type": "stream",
     "text": [
      "ingresa un numero123\n"
     ]
    }
   ],
   "source": [
    "my_input = input (\"ingresa un numero\")"
   ]
  },
  {
   "cell_type": "code",
   "execution_count": 3,
   "id": "bc3c1b1c",
   "metadata": {},
   "outputs": [
    {
     "data": {
      "text/plain": [
       "'123'"
      ]
     },
     "execution_count": 3,
     "metadata": {},
     "output_type": "execute_result"
    }
   ],
   "source": [
    "my_input "
   ]
  },
  {
   "cell_type": "code",
   "execution_count": 5,
   "id": "be7b02fa",
   "metadata": {},
   "outputs": [
    {
     "data": {
      "text/plain": [
       "123"
      ]
     },
     "execution_count": 5,
     "metadata": {},
     "output_type": "execute_result"
    }
   ],
   "source": [
    "eval (my_input)"
   ]
  },
  {
   "cell_type": "code",
   "execution_count": 6,
   "id": "d0d94493",
   "metadata": {},
   "outputs": [
    {
     "name": "stdout",
     "output_type": "stream",
     "text": [
      "ingresa un numero345 \n",
      "345 \n",
      "<class 'str'>\n"
     ]
    }
   ],
   "source": [
    "my_input = input (\"ingresa un numero\")\n",
    "print(my_input)\n",
    "print (type(my_input))\n",
    "# Cadena / String"
   ]
  },
  {
   "cell_type": "code",
   "execution_count": 7,
   "id": "1c7329c5",
   "metadata": {},
   "outputs": [
    {
     "name": "stdout",
     "output_type": "stream",
     "text": [
      "ingresa un numero678\n",
      "678\n",
      "<class 'int'>\n"
     ]
    }
   ],
   "source": [
    "my_input = eval (input (\"ingresa un numero\"))\n",
    "print(my_input)\n",
    "print (type(my_input))\n",
    "# Entero / Int"
   ]
  },
  {
   "cell_type": "markdown",
   "id": "97b6ef4f",
   "metadata": {},
   "source": [
    "# Funcion Ragne() y Xrange()"
   ]
  },
  {
   "cell_type": "markdown",
   "id": "d89180ee",
   "metadata": {},
   "source": [
    "### range(start,stop step)"
   ]
  },
  {
   "cell_type": "code",
   "execution_count": 8,
   "id": "32118016",
   "metadata": {},
   "outputs": [],
   "source": [
    "x = range(10)"
   ]
  },
  {
   "cell_type": "code",
   "execution_count": 10,
   "id": "54b60447",
   "metadata": {},
   "outputs": [
    {
     "data": {
      "text/plain": [
       "range(0, 10)"
      ]
     },
     "execution_count": 10,
     "metadata": {},
     "output_type": "execute_result"
    }
   ],
   "source": [
    "x"
   ]
  },
  {
   "cell_type": "code",
   "execution_count": 12,
   "id": "c60f235b",
   "metadata": {},
   "outputs": [
    {
     "name": "stdout",
     "output_type": "stream",
     "text": [
      "0\n",
      "1\n",
      "2\n",
      "3\n",
      "4\n",
      "5\n",
      "6\n",
      "7\n",
      "8\n",
      "9\n"
     ]
    }
   ],
   "source": [
    "for number in x:\n",
    "    print(number)"
   ]
  },
  {
   "cell_type": "code",
   "execution_count": 16,
   "id": "5040b17d",
   "metadata": {},
   "outputs": [
    {
     "name": "stdout",
     "output_type": "stream",
     "text": [
      "3\n",
      "4\n",
      "5\n"
     ]
    }
   ],
   "source": [
    "x = range (3 , 6)\n",
    "for number in x:\n",
    "    print(number)"
   ]
  },
  {
   "cell_type": "code",
   "execution_count": 18,
   "id": "36bce3a8",
   "metadata": {},
   "outputs": [
    {
     "name": "stdout",
     "output_type": "stream",
     "text": [
      "3\n",
      "5\n",
      "7\n",
      "9\n",
      "11\n",
      "13\n",
      "15\n",
      "17\n",
      "19\n"
     ]
    }
   ],
   "source": [
    "x = range (3,20, 2)\n",
    "for number in x:\n",
    "    print(number)"
   ]
  },
  {
   "cell_type": "markdown",
   "id": "3b3b64ea",
   "metadata": {},
   "source": [
    "## Mutabilidad y Inmutabilidad"
   ]
  },
  {
   "cell_type": "code",
   "execution_count": 19,
   "id": "fdf4e0db",
   "metadata": {},
   "outputs": [],
   "source": [
    "tuplei = (1,2,3,4,5)"
   ]
  },
  {
   "cell_type": "code",
   "execution_count": 21,
   "id": "cfbc6d38",
   "metadata": {},
   "outputs": [
    {
     "data": {
      "text/plain": [
       "(1, 2, 3, 4, 5)"
      ]
     },
     "execution_count": 21,
     "metadata": {},
     "output_type": "execute_result"
    }
   ],
   "source": [
    "tuplei"
   ]
  },
  {
   "cell_type": "code",
   "execution_count": 22,
   "id": "21a14e06",
   "metadata": {},
   "outputs": [
    {
     "ename": "SyntaxError",
     "evalue": "cannot assign to function call here. Maybe you meant '==' instead of '='? (2096921966.py, line 2)",
     "output_type": "error",
     "traceback": [
      "\u001b[1;36m  Cell \u001b[1;32mIn[22], line 2\u001b[1;36m\u001b[0m\n\u001b[1;33m    tuplei(0) = 10\u001b[0m\n\u001b[1;37m    ^\u001b[0m\n\u001b[1;31mSyntaxError\u001b[0m\u001b[1;31m:\u001b[0m cannot assign to function call here. Maybe you meant '==' instead of '='?\n"
     ]
    }
   ],
   "source": [
    "#Inmutabilidad\n",
    "tuplei(0) = 10"
   ]
  },
  {
   "cell_type": "code",
   "execution_count": 23,
   "id": "fc28f9a6",
   "metadata": {},
   "outputs": [],
   "source": [
    "my_string = \"Aprendiendo sobre inmutabilidad\""
   ]
  },
  {
   "cell_type": "code",
   "execution_count": 25,
   "id": "5684df75",
   "metadata": {},
   "outputs": [
    {
     "data": {
      "text/plain": [
       "'Aprendiendo sobre inmutabilidad'"
      ]
     },
     "execution_count": 25,
     "metadata": {},
     "output_type": "execute_result"
    }
   ],
   "source": [
    "my_string"
   ]
  },
  {
   "cell_type": "code",
   "execution_count": 26,
   "id": "b7a7c636",
   "metadata": {},
   "outputs": [
    {
     "ename": "NameError",
     "evalue": "name 'a' is not defined",
     "output_type": "error",
     "traceback": [
      "\u001b[1;31m---------------------------------------------------------------------------\u001b[0m",
      "\u001b[1;31mNameError\u001b[0m                                 Traceback (most recent call last)",
      "Cell \u001b[1;32mIn[26], line 1\u001b[0m\n\u001b[1;32m----> 1\u001b[0m my_string [\u001b[38;5;241m0\u001b[39m] \u001b[38;5;241m=\u001b[39m \u001b[43ma\u001b[49m\n",
      "\u001b[1;31mNameError\u001b[0m: name 'a' is not defined"
     ]
    }
   ],
   "source": [
    "my_string [0] = a"
   ]
  },
  {
   "cell_type": "code",
   "execution_count": 27,
   "id": "c9d36bf5",
   "metadata": {},
   "outputs": [
    {
     "ename": "SyntaxError",
     "evalue": "invalid syntax (772228132.py, line 1)",
     "output_type": "error",
     "traceback": [
      "\u001b[1;36m  Cell \u001b[1;32mIn[27], line 1\u001b[1;36m\u001b[0m\n\u001b[1;33m    color = [\"rojo\", \"azul\". \"verde\" \"negro\"]\u001b[0m\n\u001b[1;37m                             ^\u001b[0m\n\u001b[1;31mSyntaxError\u001b[0m\u001b[1;31m:\u001b[0m invalid syntax\n"
     ]
    }
   ],
   "source": [
    "color = [\"rojo\", \"azul\". \"verde\" \"negro\"]"
   ]
  },
  {
   "cell_type": "code",
   "execution_count": 28,
   "id": "e2dc1e09",
   "metadata": {},
   "outputs": [],
   "source": [
    "colores = [\"rojo\", \"azul\", \"verde\", \"negro\"]"
   ]
  },
  {
   "cell_type": "code",
   "execution_count": 30,
   "id": "c39d00ca",
   "metadata": {},
   "outputs": [
    {
     "data": {
      "text/plain": [
       "['rojo', 'azul', 'verde', 'negro']"
      ]
     },
     "execution_count": 30,
     "metadata": {},
     "output_type": "execute_result"
    }
   ],
   "source": [
    "colores"
   ]
  },
  {
   "cell_type": "code",
   "execution_count": 32,
   "id": "a474f7b7",
   "metadata": {},
   "outputs": [],
   "source": [
    "colores[0] = \"blanco\""
   ]
  },
  {
   "cell_type": "code",
   "execution_count": 34,
   "id": "23d632ca",
   "metadata": {},
   "outputs": [
    {
     "data": {
      "text/plain": [
       "['blanco', 'azul', 'verde', 'negro']"
      ]
     },
     "execution_count": 34,
     "metadata": {},
     "output_type": "execute_result"
    }
   ],
   "source": [
    "colores "
   ]
  },
  {
   "cell_type": "code",
   "execution_count": 35,
   "id": "add5d129",
   "metadata": {},
   "outputs": [
    {
     "ename": "NameError",
     "evalue": "name 'rojo' is not defined",
     "output_type": "error",
     "traceback": [
      "\u001b[1;31m---------------------------------------------------------------------------\u001b[0m",
      "\u001b[1;31mNameError\u001b[0m                                 Traceback (most recent call last)",
      "Cell \u001b[1;32mIn[35], line 1\u001b[0m\n\u001b[1;32m----> 1\u001b[0m colores [\u001b[38;5;241m0\u001b[39m] \u001b[38;5;241m=\u001b[39m \u001b[43mrojo\u001b[49m\n",
      "\u001b[1;31mNameError\u001b[0m: name 'rojo' is not defined"
     ]
    }
   ],
   "source": [
    "colores [0] = rojo"
   ]
  },
  {
   "cell_type": "markdown",
   "id": "03e1cbf4",
   "metadata": {},
   "source": [
    "## Función Print"
   ]
  },
  {
   "cell_type": "code",
   "execution_count": 36,
   "id": "e631651e",
   "metadata": {},
   "outputs": [],
   "source": [
    "# Mostrar un resultado"
   ]
  },
  {
   "cell_type": "code",
   "execution_count": 38,
   "id": "c9b45360",
   "metadata": {},
   "outputs": [
    {
     "name": "stdout",
     "output_type": "stream",
     "text": [
      "El valor de my_variable es:  567\n"
     ]
    }
   ],
   "source": [
    "my_variable = 567\n",
    "print (\"El valor de my_variable es: \", my_variable)"
   ]
  },
  {
   "cell_type": "code",
   "execution_count": 39,
   "id": "f7b2fa66",
   "metadata": {},
   "outputs": [
    {
     "name": "stdout",
     "output_type": "stream",
     "text": [
      "El valor de d es:  800\n"
     ]
    }
   ],
   "source": [
    "a=100\n",
    "b=500\n",
    "c=200\n",
    "d=a+b+c\n",
    "print(\"El valor de d es: \", d)\n"
   ]
  },
  {
   "cell_type": "code",
   "execution_count": 40,
   "id": "28b04b91",
   "metadata": {},
   "outputs": [],
   "source": [
    "import builtins"
   ]
  },
  {
   "cell_type": "code",
   "execution_count": 41,
   "id": "f2ab25a1",
   "metadata": {},
   "outputs": [
    {
     "name": "stdout",
     "output_type": "stream",
     "text": [
      "Help on built-in function print in module builtins:\n",
      "\n",
      "print(*args, sep=' ', end='\\n', file=None, flush=False)\n",
      "    Prints the values to a stream, or to sys.stdout by default.\n",
      "    \n",
      "    sep\n",
      "      string inserted between values, default a space.\n",
      "    end\n",
      "      string appended after the last value, default a newline.\n",
      "    file\n",
      "      a file-like object (stream); defaults to the current sys.stdout.\n",
      "    flush\n",
      "      whether to forcibly flush the stream.\n",
      "\n"
     ]
    }
   ],
   "source": [
    "help(builtins.print)"
   ]
  },
  {
   "cell_type": "code",
   "execution_count": 42,
   "id": "c20822cc",
   "metadata": {},
   "outputs": [
    {
     "name": "stdout",
     "output_type": "stream",
     "text": [
      "Help on built-in function print in module builtins:\n",
      "\n",
      "print(*args, sep=' ', end='\\n', file=None, flush=False)\n",
      "    Prints the values to a stream, or to sys.stdout by default.\n",
      "    \n",
      "    sep\n",
      "      string inserted between values, default a space.\n",
      "    end\n",
      "      string appended after the last value, default a newline.\n",
      "    file\n",
      "      a file-like object (stream); defaults to the current sys.stdout.\n",
      "    flush\n",
      "      whether to forcibly flush the stream.\n",
      "\n"
     ]
    }
   ],
   "source": [
    "help(print)"
   ]
  },
  {
   "cell_type": "markdown",
   "id": "079e1b31",
   "metadata": {},
   "source": [
    "## función typed"
   ]
  },
  {
   "cell_type": "code",
   "execution_count": 43,
   "id": "0235558c",
   "metadata": {},
   "outputs": [
    {
     "name": "stdout",
     "output_type": "stream",
     "text": [
      "570\n"
     ]
    }
   ],
   "source": [
    "my_number=570\n",
    "print(my_number)"
   ]
  },
  {
   "cell_type": "code",
   "execution_count": 44,
   "id": "af8f6da1",
   "metadata": {},
   "outputs": [
    {
     "name": "stdout",
     "output_type": "stream",
     "text": [
      "570\n",
      "<class 'int'>\n"
     ]
    }
   ],
   "source": [
    "# Entero / Int\n",
    "my_number=570\n",
    "print(my_number)\n",
    "print(type(my_number))"
   ]
  },
  {
   "cell_type": "code",
   "execution_count": 45,
   "id": "d5264d6b",
   "metadata": {},
   "outputs": [
    {
     "name": "stdout",
     "output_type": "stream",
     "text": [
      "Backend Phyton\n",
      "<class 'str'>\n"
     ]
    }
   ],
   "source": [
    "my_string= \"Backend Phyton\"\n",
    "print(my_string)\n",
    "print(type(my_string))"
   ]
  },
  {
   "cell_type": "code",
   "execution_count": 47,
   "id": "7b726da3",
   "metadata": {},
   "outputs": [
    {
     "name": "stdout",
     "output_type": "stream",
     "text": [
      "3.97\n",
      "<class 'float'>\n"
     ]
    }
   ],
   "source": [
    "# Flotantes / Float\n",
    "my_float=3.97\n",
    "print(my_float)\n",
    "print(type(my_float))"
   ]
  },
  {
   "cell_type": "code",
   "execution_count": 48,
   "id": "4051b696",
   "metadata": {},
   "outputs": [
    {
     "name": "stdout",
     "output_type": "stream",
     "text": [
      "\n",
      "<class 'str'>\n"
     ]
    }
   ],
   "source": [
    "# Cadena / String\n",
    "my_string= \"\"\n",
    "print(my_string)\n",
    "print(type(my_string))"
   ]
  },
  {
   "cell_type": "code",
   "execution_count": 49,
   "id": "3499235c",
   "metadata": {},
   "outputs": [
    {
     "name": "stdout",
     "output_type": "stream",
     "text": [
      "True\n",
      "<class 'bool'>\n"
     ]
    }
   ],
   "source": [
    "# Boolean\n",
    "my_boolean= True\n",
    "print(my_boolean)\n",
    "print(type(my_boolean))"
   ]
  },
  {
   "cell_type": "code",
   "execution_count": 50,
   "id": "0a5f6660",
   "metadata": {},
   "outputs": [
    {
     "name": "stdout",
     "output_type": "stream",
     "text": [
      "False\n",
      "<class 'bool'>\n"
     ]
    }
   ],
   "source": [
    "my_boolean= False\n",
    "print(my_boolean)\n",
    "print(type(my_boolean))"
   ]
  },
  {
   "cell_type": "code",
   "execution_count": 51,
   "id": "e0436fb1",
   "metadata": {},
   "outputs": [
    {
     "name": "stdout",
     "output_type": "stream",
     "text": [
      "[1, 2, 3, 4]\n",
      "<class 'list'>\n"
     ]
    }
   ],
   "source": [
    "# Listas / list\n",
    "my_list= [1,2,3,4]\n",
    "print(my_list)\n",
    "print(type(my_list))"
   ]
  },
  {
   "cell_type": "code",
   "execution_count": 52,
   "id": "6668b24d",
   "metadata": {},
   "outputs": [
    {
     "name": "stdout",
     "output_type": "stream",
     "text": [
      "[1, 2, 3, 4]\n",
      "<class 'list'>\n"
     ]
    }
   ],
   "source": [
    "#Tupla / Tuple\n",
    "my_tuple= [1,2,3,4]\n",
    "print(my_tuple)\n",
    "print(type(my_tuple))"
   ]
  },
  {
   "cell_type": "code",
   "execution_count": 53,
   "id": "4f25c2e3",
   "metadata": {},
   "outputs": [
    {
     "name": "stdout",
     "output_type": "stream",
     "text": [
      "(1, 2, 3, 4)\n",
      "<class 'tuple'>\n"
     ]
    }
   ],
   "source": [
    "#Tupla / Tuple\n",
    "my_tuple= (1,2,3,4)\n",
    "print(my_tuple)\n",
    "print(type(my_tuple))"
   ]
  },
  {
   "cell_type": "code",
   "execution_count": 55,
   "id": "1022e26b",
   "metadata": {},
   "outputs": [
    {
     "name": "stdout",
     "output_type": "stream",
     "text": [
      "{1, 2.5, 4.23, 'Chelas'}\n",
      "<class 'set'>\n"
     ]
    }
   ],
   "source": [
    "#Set\n",
    "my_set= {1,2.5,\"Chelas\",4.23}\n",
    "print(my_set)\n",
    "print(type(my_set))"
   ]
  },
  {
   "cell_type": "code",
   "execution_count": 61,
   "id": "ff3d9223",
   "metadata": {},
   "outputs": [
    {
     "name": "stdout",
     "output_type": "stream",
     "text": [
      "{'a': 14, 'b': 344, 'c': 21.5, 'd': 21}\n",
      "<class 'dict'>\n"
     ]
    }
   ],
   "source": [
    "#Dicciononarios / Dict\n",
    "my_dictionary = {'a': 14, 'b': 344, \"c\" : 21.5, 'd' : 21}\n",
    "print(my_dictionary)\n",
    "print(type(my_dictionary))"
   ]
  },
  {
   "cell_type": "markdown",
   "id": "6c0a1fbc",
   "metadata": {},
   "source": [
    "## Función ID () "
   ]
  },
  {
   "cell_type": "code",
   "execution_count": 62,
   "id": "d17b900a",
   "metadata": {},
   "outputs": [
    {
     "name": "stdout",
     "output_type": "stream",
     "text": [
      "Phyton\n",
      "<class 'str'>\n",
      "2333907863216\n"
     ]
    }
   ],
   "source": [
    "#Cadena / String\n",
    "my_string= \"Phyton\"\n",
    "print(my_string)\n",
    "print(type(my_string))\n",
    "print(id(my_string))"
   ]
  },
  {
   "cell_type": "code",
   "execution_count": 64,
   "id": "50e19f35",
   "metadata": {},
   "outputs": [
    {
     "name": "stdout",
     "output_type": "stream",
     "text": [
      "Backend\n",
      "<class 'str'>\n",
      "2333907871984\n"
     ]
    }
   ],
   "source": [
    "my_string2= \"Backend\"\n",
    "print(my_string2)\n",
    "print(type(my_string2))\n",
    "print(id(my_string2))"
   ]
  },
  {
   "cell_type": "code",
   "execution_count": 65,
   "id": "9ad0b2e4",
   "metadata": {},
   "outputs": [
    {
     "name": "stdout",
     "output_type": "stream",
     "text": [
      "Phyton\n",
      "Phyton\n",
      "<class 'str'>\n",
      "<class 'str'>\n",
      "2333907863216\n",
      "2333907863216\n"
     ]
    }
   ],
   "source": [
    "my_string= \"Phyton\"\n",
    "my_string3= \"Phyton\"\n",
    "print(my_string)\n",
    "print(my_string3)\n",
    "print(type(my_string))\n",
    "print(type(my_string3))\n",
    "print(id(my_string))\n",
    "print(id(my_string3))"
   ]
  },
  {
   "cell_type": "markdown",
   "id": "9d5c70b1",
   "metadata": {},
   "source": [
    "## Múltiples Valores de Entrada"
   ]
  },
  {
   "cell_type": "code",
   "execution_count": 66,
   "id": "50f7b290",
   "metadata": {},
   "outputs": [
    {
     "name": "stdout",
     "output_type": "stream",
     "text": [
      "ingresa el valor de my_number: 670\n",
      "El valor de my_number es:  670\n"
     ]
    }
   ],
   "source": [
    "my_number = input(\"ingresa el valor de my_number: \")\n",
    "print(\"El valor de my_number es: \", my_number)"
   ]
  },
  {
   "cell_type": "code",
   "execution_count": 67,
   "id": "4496326d",
   "metadata": {},
   "outputs": [
    {
     "name": "stdout",
     "output_type": "stream",
     "text": [
      "ingresa los 3 valores: 100 200 300\n",
      "El valor de a es:  100\n",
      "El valor de b es:  200\n",
      "El valor de c es:  300\n"
     ]
    }
   ],
   "source": [
    "a,b,c = input(\"ingresa los 3 valores: \").split()\n",
    "print(\"El valor de a es: \",a)\n",
    "print(\"El valor de b es: \",b)\n",
    "print(\"El valor de c es: \",c)"
   ]
  },
  {
   "cell_type": "code",
   "execution_count": 68,
   "id": "9b49ad3a",
   "metadata": {},
   "outputs": [
    {
     "name": "stdout",
     "output_type": "stream",
     "text": [
      "ingresa los 3 valores separados por coma: 500 600 700\n"
     ]
    },
    {
     "ename": "ValueError",
     "evalue": "not enough values to unpack (expected 3, got 1)",
     "output_type": "error",
     "traceback": [
      "\u001b[1;31m---------------------------------------------------------------------------\u001b[0m",
      "\u001b[1;31mValueError\u001b[0m                                Traceback (most recent call last)",
      "Cell \u001b[1;32mIn[68], line 1\u001b[0m\n\u001b[1;32m----> 1\u001b[0m a,b,c \u001b[38;5;241m=\u001b[39m \u001b[38;5;28minput\u001b[39m(\u001b[38;5;124m\"\u001b[39m\u001b[38;5;124mingresa los 3 valores separados por coma: \u001b[39m\u001b[38;5;124m\"\u001b[39m)\u001b[38;5;241m.\u001b[39msplit(\u001b[38;5;124m\"\u001b[39m\u001b[38;5;124m,\u001b[39m\u001b[38;5;124m\"\u001b[39m)\n\u001b[0;32m      2\u001b[0m \u001b[38;5;28mprint\u001b[39m(\u001b[38;5;124m\"\u001b[39m\u001b[38;5;124mEl valor de a es: \u001b[39m\u001b[38;5;124m\"\u001b[39m,a)\n\u001b[0;32m      3\u001b[0m \u001b[38;5;28mprint\u001b[39m(\u001b[38;5;124m\"\u001b[39m\u001b[38;5;124mEl valor de b es: \u001b[39m\u001b[38;5;124m\"\u001b[39m,b)\n",
      "\u001b[1;31mValueError\u001b[0m: not enough values to unpack (expected 3, got 1)"
     ]
    }
   ],
   "source": [
    "a,b,c = input(\"ingresa los 3 valores separados por coma: \").split(\",\")\n",
    "print(\"El valor de a es: \",a)\n",
    "print(\"El valor de b es: \",b)\n",
    "print(\"El valor de c es: \",c)"
   ]
  },
  {
   "cell_type": "code",
   "execution_count": 69,
   "id": "e38e2f05",
   "metadata": {},
   "outputs": [
    {
     "name": "stdout",
     "output_type": "stream",
     "text": [
      "ingresa los 3 valores separados por coma: 500,600,700\n",
      "El valor de a es:  500\n",
      "El valor de b es:  600\n",
      "El valor de c es:  700\n"
     ]
    }
   ],
   "source": [
    "a,b,c = input(\"ingresa los 3 valores separados por coma: \").split(\",\")\n",
    "print(\"El valor de a es: \",a)\n",
    "print(\"El valor de b es: \",b)\n",
    "print(\"El valor de c es: \",c)"
   ]
  },
  {
   "cell_type": "code",
   "execution_count": null,
   "id": "ab5e3b8d",
   "metadata": {},
   "outputs": [],
   "source": []
  }
 ],
 "metadata": {
  "kernelspec": {
   "display_name": "Python 3 (ipykernel)",
   "language": "python",
   "name": "python3"
  },
  "language_info": {
   "codemirror_mode": {
    "name": "ipython",
    "version": 3
   },
   "file_extension": ".py",
   "mimetype": "text/x-python",
   "name": "python",
   "nbconvert_exporter": "python",
   "pygments_lexer": "ipython3",
   "version": "3.11.3"
  }
 },
 "nbformat": 4,
 "nbformat_minor": 5
}
